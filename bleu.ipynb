{
 "cells": [
  {
   "cell_type": "code",
   "execution_count": null,
   "metadata": {
    "collapsed": true
   },
   "outputs": [],
   "source": []
  },
  {
   "cell_type": "code",
   "execution_count": 3,
   "metadata": {
    "collapsed": true
   },
   "outputs": [],
   "source": [
    "%load_ext autoreload\n",
    "%autoreload 2\n",
    "%matplotlib inline"
   ]
  },
  {
   "cell_type": "code",
   "execution_count": 226,
   "metadata": {},
   "outputs": [],
   "source": [
    "import numpy as np\n",
    "import torch\n",
    "import torch.nn as nn\n",
    "import matplotlib.pyplot as plt\n",
    "import torch.nn.functional as F\n",
    "from torch.autograd import Variable\n",
    "from copy import deepcopy"
   ]
  },
  {
   "cell_type": "code",
   "execution_count": 246,
   "metadata": {
    "collapsed": true
   },
   "outputs": [],
   "source": [
    "def one_hots(zeros, ix):\n",
    "    for i in range(zeros.size()[0]):\n",
    "        zeros[i, ix[i]] = 1\n",
    "    return zeros\n",
    "\n",
    "def bleu(t, r, f, temp):\n",
    "    t_temp = f(t/temp)\n",
    "    length = t.size()[0]\n",
    "    tt_1 = torch.matmul(t_temp, t_temp.t())\n",
    "    tr_1 = torch.matmul(t_temp, r.t())\n",
    "    tt_2 = torch.matmul(t_temp[:-1, :], t_temp[:-1, :].t()) * torch.matmul(t_temp[1:, :], t_temp[1:, :].t())\n",
    "    tr_2 = torch.matmul(t_temp[:-1, :], r[:-1, :].t()) * torch.matmul(t_temp[1:, :], r[1:, :].t())\n",
    "    t_vec_1 = tt_1.sum(0)\n",
    "    c_vec_1 = tr_1.sum(1)\n",
    "    t_vec_2 = tt_2.sum(0)\n",
    "    c_vec_2 = tr_2.sum(1)\n",
    "    overlap_1 = torch.min(t_vec_1, c_vec_1) / t_vec_1 / length\n",
    "    overlap_2 = torch.min(t_vec_2, c_vec_2) / t_vec_2 / length\n",
    "    overlap = overlap_2.sum() * overlap_1.sum()\n",
    "    return torch.log(overlap)"
   ]
  },
  {
   "cell_type": "code",
   "execution_count": 252,
   "metadata": {
    "collapsed": true
   },
   "outputs": [],
   "source": [
    "vocab_size = 1000\n",
    "length = 10\n",
    "words = np.random.choice(vocab_size, size=length, replace=True)\n",
    "t = Variable(torch.randn((length, vocab_size)), requires_grad=True)\n",
    "r = one_hots(torch.zeros((length, vocab_size)), words)\n",
    "r = Variable(r, requires_grad=True)\n",
    "f = nn.Softmax()"
   ]
  },
  {
   "cell_type": "code",
   "execution_count": 253,
   "metadata": {},
   "outputs": [],
   "source": [
    "res = []\n",
    "bleus = []\n",
    "norms = []\n",
    "lr = 1\n",
    "for i in range(1000):\n",
    "    temp = 0.1\n",
    "    b2 = bleu(t, r, f, temp)\n",
    "    res.append(b2.data[0])\n",
    "    b2.backward()\n",
    "    t.data.add_(lr * t.grad.data)\n",
    "    norms.append(t.grad.data.norm())\n",
    "    hard_t = one_hots(torch.zeros(list(t.size())), torch.max(t, dim=1)[1].data)\n",
    "    bleus.append(bleu(hard_t, r, f, temp).data[0])"
   ]
  },
  {
   "cell_type": "code",
   "execution_count": 254,
   "metadata": {},
   "outputs": [
    {
     "data": {
      "text/plain": [
       "[<matplotlib.lines.Line2D at 0x7f9795715fd0>]"
      ]
     },
     "execution_count": 254,
     "metadata": {},
     "output_type": "execute_result"
    },
    {
     "data": {
      "image/png": "[encoded data removed]",
      "text/plain": [
       "<matplotlib.figure.Figure at 0x7f979581f128>"
      ]
     },
     "metadata": {},
     "output_type": "display_data"
    }
   ],
   "source": [
    "plt.plot(bleus)"
   ]
  },
  {
   "cell_type": "code",
   "execution_count": 255,
   "metadata": {},
   "outputs": [
    {
     "data": {
      "text/plain": [
       "[<matplotlib.lines.Line2D at 0x7f97956b1ba8>]"
      ]
     },
     "execution_count": 255,
     "metadata": {},
     "output_type": "execute_result"
    },
    {
     "data": {
      "image/png": "[encoded data removed]",
      "text/plain": [
       "<matplotlib.figure.Figure at 0x7f9795734278>"
      ]
     },
     "metadata": {},
     "output_type": "display_data"
    }
   ],
   "source": [
    "plt.plot(res)"
   ]
  },
  {
   "cell_type": "code",
   "execution_count": 256,
   "metadata": {},
   "outputs": [
    {
     "data": {
      "text/plain": [
       "[<matplotlib.lines.Line2D at 0x7f97955cb080>]"
      ]
     },
     "execution_count": 256,
     "metadata": {},
     "output_type": "execute_result"
    },
    {
     "data": {
      "image/png": "[encoded data removed]",
      "text/plain": [
       "<matplotlib.figure.Figure at 0x7f9795651358>"
      ]
     },
     "metadata": {},
     "output_type": "display_data"
    }
   ],
   "source": [
    "plt.plot(norms)"
   ]
  },
  {
   "cell_type": "code",
   "execution_count": 259,
   "metadata": {},
   "outputs": [
    {
     "data": {
      "text/plain": [
       "Variable containing:\n",
       "   0\n",
       " 650\n",
       " 430\n",
       " 224\n",
       " 600\n",
       " 780\n",
       " 493\n",
       " 467\n",
       " 707\n",
       " 128\n",
       "[torch.LongTensor of size 10]"
      ]
     },
     "execution_count": 259,
     "metadata": {},
     "output_type": "execute_result"
    }
   ],
   "source": [
    "torch.max(r, dim=1)[1]"
   ]
  },
  {
   "cell_type": "code",
   "execution_count": 260,
   "metadata": {},
   "outputs": [
    {
     "data": {
      "text/plain": [
       "Variable containing:\n",
       " 493\n",
       " 467\n",
       " 707\n",
       " 413\n",
       " 707\n",
       " 234\n",
       " 832\n",
       " 600\n",
       " 780\n",
       " 430\n",
       "[torch.LongTensor of size 10]"
      ]
     },
     "execution_count": 260,
     "metadata": {},
     "output_type": "execute_result"
    }
   ],
   "source": [
    "torch.max(t, dim=1)[1]"
   ]
  },
  {
   "cell_type": "code",
   "execution_count": 222,
   "metadata": {},
   "outputs": [
    {
     "data": {
      "text/plain": [
       "[<matplotlib.lines.Line2D at 0x7f9795d7b2b0>]"
      ]
     },
     "execution_count": 222,
     "metadata": {},
     "output_type": "execute_result"
    },
    {
     "data": {
      "image/png": "[encoded data removed]",
      "text/plain": [
       "<matplotlib.figure.Figure at 0x7f9795d87240>"
      ]
     },
     "metadata": {},
     "output_type": "display_data"
    }
   ],
   "source": [
    "plt.plot(t.data[6].numpy())"
   ]
  },
  {
   "cell_type": "code",
   "execution_count": 224,
   "metadata": {},
   "outputs": [
    {
     "data": {
      "text/plain": [
       "0.72596275806427"
      ]
     },
     "execution_count": 224,
     "metadata": {},
     "output_type": "execute_result"
    }
   ],
   "source": [
    "bleu(tt, r, f, temp).data[0]"
   ]
  },
  {
   "cell_type": "code",
   "execution_count": 220,
   "metadata": {},
   "outputs": [],
   "source": [
    "tt = deepcopy(t).data"
   ]
  },
  {
   "cell_type": "code",
   "execution_count": 223,
   "metadata": {},
   "outputs": [],
   "source": [
    "tt[6, 651] = 1e4"
   ]
  },
  {
   "cell_type": "code",
   "execution_count": 194,
   "metadata": {},
   "outputs": [
    {
     "data": {
      "text/plain": [
       "10000.0"
      ]
     },
     "execution_count": 194,
     "metadata": {},
     "output_type": "execute_result"
    }
   ],
   "source": [
    "tt[1, 806]"
   ]
  }
 ],
 "metadata": {
  "kernelspec": {
   "display_name": "Python 3",
   "language": "python",
   "name": "python3"
  },
  "language_info": {
   "codemirror_mode": {
    "name": "ipython",
    "version": 3
   },
   "file_extension": ".py",
   "mimetype": "text/x-python",
   "name": "python",
   "nbconvert_exporter": "python",
   "pygments_lexer": "ipython3",
   "version": "3.6.2"
  }
 },
 "nbformat": 4,
 "nbformat_minor": 2
}
