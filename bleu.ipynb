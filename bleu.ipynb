{
 "cells": [
  {
   "cell_type": "code",
   "execution_count": null,
   "metadata": {
    "collapsed": true
   },
   "outputs": [],
   "source": []
  },
  {
   "cell_type": "code",
   "execution_count": 1,
   "metadata": {
    "collapsed": true
   },
   "outputs": [],
   "source": [
    "%load_ext autoreload\n",
    "%autoreload 2\n",
    "%matplotlib inline"
   ]
  },
  {
   "cell_type": "code",
   "execution_count": 458,
   "metadata": {
    "collapsed": true
   },
   "outputs": [],
   "source": [
    "import numpy as np\n",
    "import torch\n",
    "import torch.nn as nn\n",
    "import matplotlib.pyplot as plt\n",
    "import torch.nn.functional as F\n",
    "import torch.optim as optim\n",
    "\n",
    "from torch.autograd import Variable\n",
    "from copy import deepcopy"
   ]
  },
  {
   "cell_type": "code",
   "execution_count": 533,
   "metadata": {
    "collapsed": true
   },
   "outputs": [],
   "source": [
    "def one_hots(zeros, ix):\n",
    "    for i in range(zeros.size()[0]):\n",
    "        zeros[i, ix[i]] = 1\n",
    "    return zeros\n",
    "\n",
    "def bleu2(t, r, f, temp):\n",
    "    t_soft = f(t)\n",
    "    t_soft = f(t_soft/temp)\n",
    "    length = t.size()[0]\n",
    "    tt_1 = torch.matmul(t_soft, t_soft.t())\n",
    "    tt_1 = tt_1 * Variable(1 - torch.eye(length)) + Variable(torch.eye(length))\n",
    "#     for i in range(t.size()[0]):\n",
    "#         tt_1.data[i, i] = 1\n",
    "    tr_1 = torch.matmul(t_soft, r.t())\n",
    "#     tt_2 = torch.matmul(t_temp[:-1, :], t_temp[:-1, :].t()) * torch.matmul(t_temp[1:, :], t_temp[1:, :].t())\n",
    "#     tr_2 = torch.matmul(t_temp[:-1, :], r[:-1, :].t()) * torch.matmul(t_temp[1:, :], r[1:, :].t())\n",
    "    t_vec_1 = tt_1.sum(0)\n",
    "    c_vec_1 = tr_1.sum(1)\n",
    "#     t_vec_2 = tt_2.sum(0)\n",
    "#     c_vec_2 = tr_2.sum(1)\n",
    "    overlap_1 = torch.min(t_vec_1, c_vec_1) / t_vec_1 / length\n",
    "#     overlap_2 = torch.min(t_vec_2, c_vec_2) / t_vec_2 / length\n",
    "#     overlap = overlap_2.sum() * overlap_1.sum()\n",
    "#     overlap = (c_vec_1 / length).sum()\n",
    "    return overlap_1.sum()"
   ]
  },
  {
   "cell_type": "code",
   "execution_count": 576,
   "metadata": {
    "collapsed": true
   },
   "outputs": [],
   "source": [
    "def bleu_lb1(t, r, f, temp):\n",
    "    length = t.size()[0]\n",
    "    vocab_size = t.size()[1]\n",
    "    t_soft = f(t)\n",
    "    r_n = r.sum(0)  # word counter in reference\n",
    "    im = torch.eye(vocab_size)\n",
    "    O = {}\n",
    "    for i in range(length):\n",
    "        aye = Variable(torch.ones((vocab_size, vocab_size)) - torch.eye(vocab_size))\n",
    "        aye = torch.matmul(t, aye)\n",
    "        aye[i, :] = 1\n",
    "        aye = torch.prod(aye, 0)\n",
    "        O[i] = (t[i, :] * r_n * aye).sum()   # replace with HS function\n",
    "    return sum(list(O.values()))"
   ]
  },
  {
   "cell_type": "code",
   "execution_count": 577,
   "metadata": {
    "collapsed": true
   },
   "outputs": [],
   "source": [
    "def bleu_lbj(t, r, f, temp):\n",
    "    length = t.size()[0]\n",
    "    vocab_size = t.size()[1]\n",
    "    t_soft = f(t)\n",
    "    r_n = r.sum(0)  # word counter in reference\n",
    "    im = torch.eye(vocab_size)\n",
    "    O = {}\n",
    "    for i in range(length):\n",
    "        aye = Variable(torch.ones((vocab_size, vocab_size)) - torch.eye(vocab_size))\n",
    "        aye = torch.matmul(t, aye)\n",
    "        aye[i, :] = 1\n",
    "        aye = torch.prod(aye, 0)\n",
    "        O[i] = (t[i, :] * r_n * aye).sum()   # replace with HS function\n",
    "    return sum(list(O.values()))"
   ]
  },
  {
   "cell_type": "code",
   "execution_count": 567,
   "metadata": {},
   "outputs": [],
   "source": [
    "vocab_size = 100\n",
    "length = 5\n",
    "words = np.random.choice(vocab_size, size=length, replace=True)\n",
    "t = Variable(torch.randn((length, vocab_size)), requires_grad=True)\n",
    "r = one_hots(torch.zeros((length, vocab_size)), words)\n",
    "r = Variable(r, requires_grad=True)\n",
    "f = nn.Softmax()"
   ]
  },
  {
   "cell_type": "code",
   "execution_count": 568,
   "metadata": {
    "scrolled": true
   },
   "outputs": [],
   "source": [
    "res = []\n",
    "bleus = []\n",
    "norms = []                                                                                                                            \n",
    "lr = 0.001\n",
    "#optimizer = optim.SGD([t], lr=lr, momentum=0.)\n",
    "optimizer = optim.Adam([t], lr=lr)\n",
    "for i in range(10):\n",
    "    optimizer.zero_grad()\n",
    "    temp = 1.\n",
    "    b2 = -bleu(t, r, f, temp)  # minus for opt!!\n",
    "    res.append(b2.data[0])\n",
    "    b2.backward()\n",
    "    #t.grad = t.grad * 10e20\n",
    "    #norm = nn.utils.clip_grad_norm([t], 1)\n",
    "    #t.data.add_(lr * t.grad.data)\n",
    "    optimizer.step()\n",
    "    norms.append(t.grad.data.norm())\n",
    "    hard_t = one_hots(torch.zeros(list(t.size())), torch.max(t, dim=1)[1].data)\n",
    "    #bleus.append(bleu(hard_t, r, f, temp).data[0])"
   ]
  },
  {
   "cell_type": "code",
   "execution_count": 569,
   "metadata": {},
   "outputs": [
    {
     "data": {
      "text/plain": [
       "[<matplotlib.lines.Line2D at 0x7f2b1c1d2b38>]"
      ]
     },
     "execution_count": 569,
     "metadata": {},
     "output_type": "execute_result"
    },
    {
     "data": {
      "image/png": "[encoded data removed]",
      "text/plain": [
       "<matplotlib.figure.Figure at 0x7f2b1c20e160>"
      ]
     },
     "metadata": {},
     "output_type": "display_data"
    }
   ],
   "source": [
    "plt.plot(bleus)"
   ]
  },
  {
   "cell_type": "code",
   "execution_count": 570,
   "metadata": {},
   "outputs": [
    {
     "data": {
      "text/plain": [
       "[<matplotlib.lines.Line2D at 0x7f2b1c1abf28>]"
      ]
     },
     "execution_count": 570,
     "metadata": {},
     "output_type": "execute_result"
    },
    {
     "data": {
      "image/png": "[encoded data removed]",
      "text/plain": [
       "<matplotlib.figure.Figure at 0x7f2b1c1e74e0>"
      ]
     },
     "metadata": {},
     "output_type": "display_data"
    }
   ],
   "source": [
    "plt.plot(res)"
   ]
  },
  {
   "cell_type": "code",
   "execution_count": 571,
   "metadata": {},
   "outputs": [
    {
     "data": {
      "text/plain": [
       "[<matplotlib.lines.Line2D at 0x7f2b1c118128>]"
      ]
     },
     "execution_count": 571,
     "metadata": {},
     "output_type": "execute_result"
    },
    {
     "data": {
      "image/png": "[encoded data removed]",
      "text/plain": [
       "<matplotlib.figure.Figure at 0x7f2b1c150278>"
      ]
     },
     "metadata": {},
     "output_type": "display_data"
    }
   ],
   "source": [
    "plt.plot(norms)"
   ]
  },
  {
   "cell_type": "code",
   "execution_count": 572,
   "metadata": {},
   "outputs": [
    {
     "data": {
      "text/plain": [
       "0"
      ]
     },
     "execution_count": 572,
     "metadata": {},
     "output_type": "execute_result"
    }
   ],
   "source": [
    "len(set(torch.max(r, dim=1)[1].data) & set(torch.max(t, dim=1)[1].data))"
   ]
  },
  {
   "cell_type": "code",
   "execution_count": 573,
   "metadata": {},
   "outputs": [
    {
     "data": {
      "text/plain": [
       "Variable containing:\n",
       " 98\n",
       " 30\n",
       "  9\n",
       " 91\n",
       " 91\n",
       "[torch.LongTensor of size 5]"
      ]
     },
     "execution_count": 573,
     "metadata": {},
     "output_type": "execute_result"
    }
   ],
   "source": [
    "torch.max(r, dim=1)[1]"
   ]
  },
  {
   "cell_type": "code",
   "execution_count": 574,
   "metadata": {},
   "outputs": [
    {
     "data": {
      "text/plain": [
       "Variable containing:\n",
       " 86\n",
       " 83\n",
       " 73\n",
       " 78\n",
       "  8\n",
       "[torch.LongTensor of size 5]"
      ]
     },
     "execution_count": 574,
     "metadata": {},
     "output_type": "execute_result"
    }
   ],
   "source": [
    "torch.max(t, dim=1)[1]"
   ]
  },
  {
   "cell_type": "code",
   "execution_count": 575,
   "metadata": {},
   "outputs": [
    {
     "data": {
      "text/plain": [
       "[<matplotlib.lines.Line2D at 0x7f2b1c0efcc0>]"
      ]
     },
     "execution_count": 575,
     "metadata": {},
     "output_type": "execute_result"
    },
    {
     "data": {
      "image/png": "[encoded data removed]",
      "text/plain": [
       "<matplotlib.figure.Figure at 0x7f2b1c0fa4e0>"
      ]
     },
     "metadata": {},
     "output_type": "display_data"
    }
   ],
   "source": [
    "plt.plot(t.data[0].numpy())"
   ]
  },
  {
   "cell_type": "code",
   "execution_count": 502,
   "metadata": {},
   "outputs": [
    {
     "data": {
      "text/plain": [
       "0.011593794450163841"
      ]
     },
     "execution_count": 502,
     "metadata": {},
     "output_type": "execute_result"
    }
   ],
   "source": [
    "temp = 1\n",
    "bleu(t, r, f, temp).data[0]"
   ]
  },
  {
   "cell_type": "code",
   "execution_count": null,
   "metadata": {
    "collapsed": true
   },
   "outputs": [],
   "source": [
    "vocab_size = 1000\n",
    "length = 10\n",
    "words = np.random.choice(vocab_size, size=length, replace=True)\n",
    "t = Variable(torch.randn((length, vocab_size)), requires_grad=True)\n",
    "r = one_hots(torch.zeros((length, vocab_size)), words)\n",
    "r = Variable(r, requires_grad=True)\n",
    "f = nn.Softmax()"
   ]
  },
  {
   "cell_type": "code",
   "execution_count": null,
   "metadata": {},
   "outputs": [],
   "source": [
    "t_temp = f(t/temp)\n",
    "length = t.size()[0]\n",
    "tt_1 = torch.matmul(t_temp, t_temp.t())\n",
    "tr_1 = torch.matmul(t_temp, r.t())\n",
    "tt_2 = torch.matmul(t_temp[:-1, :], t_temp[:-1, :].t()) * torch.matmul(t_temp[1:, :], t_temp[1:, :].t())\n",
    "tr_2 = torch.matmul(t_temp[:-1, :], r[:-1, :].t()) * torch.matmul(t_temp[1:, :], r[1:, :].t())\n",
    "t_vec_1 = tt_1.sum(0)\n",
    "c_vec_1 = tr_1.sum(1)\n",
    "t_vec_2 = tt_2.sum(0)\n",
    "c_vec_2 = tr_2.sum(1)\n",
    "overlap_1 = torch.min(t_vec_1, c_vec_1) / t_vec_1 / length\n",
    "overlap_2 = torch.min(t_vec_2, c_vec_2) / t_vec_2 / length\n",
    "overlap = overlap_2.sum() * overlap_1.sum()\n",
    "overlap = (c_vec_1 / length).sum()"
   ]
  },
  {
   "cell_type": "code",
   "execution_count": null,
   "metadata": {},
   "outputs": [],
   "source": [
    "for i in range(10):\n",
    "    tt_1[i, i] = 1"
   ]
  },
  {
   "cell_type": "code",
   "execution_count": 535,
   "metadata": {},
   "outputs": [],
   "source": [
    "a = torch.randn((3, 5))"
   ]
  },
  {
   "cell_type": "code",
   "execution_count": 539,
   "metadata": {},
   "outputs": [
    {
     "ename": "ValueError",
     "evalue": "result of slicing is an empty tensor",
     "output_type": "error",
     "traceback": [
      "\u001b[0;31m---------------------------------------------------------------------------\u001b[0m",
      "\u001b[0;31mValueError\u001b[0m                                Traceback (most recent call last)",
      "\u001b[0;32m<ipython-input-539-2a42e668b5f8>\u001b[0m in \u001b[0;36m<module>\u001b[0;34m()\u001b[0m\n\u001b[0;32m----> 1\u001b[0;31m \u001b[0ma\u001b[0m\u001b[0;34m[\u001b[0m\u001b[0;36m0\u001b[0m\u001b[0;34m:\u001b[0m\u001b[0;36m0\u001b[0m\u001b[0;34m]\u001b[0m\u001b[0;34m\u001b[0m\u001b[0m\n\u001b[0m",
      "\u001b[0;31mValueError\u001b[0m: result of slicing is an empty tensor"
     ]
    }
   ],
   "source": [
    "a[0:0]"
   ]
  },
  {
   "cell_type": "code",
   "execution_count": null,
   "metadata": {},
   "outputs": [],
   "source": [
    "tt_1 = tt_1 * (1 - torch.eye(length)) + torch.eye(length)"
   ]
  },
  {
   "cell_type": "code",
   "execution_count": null,
   "metadata": {},
   "outputs": [],
   "source": [
    "Variable(1- torch.eye(length)) * tt_1"
   ]
  },
  {
   "cell_type": "code",
   "execution_count": null,
   "metadata": {},
   "outputs": [],
   "source": [
    "tt_1"
   ]
  },
  {
   "cell_type": "code",
   "execution_count": null,
   "metadata": {
    "collapsed": true
   },
   "outputs": [],
   "source": []
  }
 ],
 "metadata": {
  "kernelspec": {
   "display_name": "Python 3",
   "language": "python",
   "name": "python3"
  },
  "language_info": {
   "codemirror_mode": {
    "name": "ipython",
    "version": 3
   },
   "file_extension": ".py",
   "mimetype": "text/x-python",
   "name": "python",
   "nbconvert_exporter": "python",
   "pygments_lexer": "ipython3",
   "version": "3.6.3"
  }
 },
 "nbformat": 4,
 "nbformat_minor": 2
}
