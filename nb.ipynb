{
 "cells": [
  {
   "cell_type": "code",
   "execution_count": null,
   "metadata": {
    "collapsed": true
   },
   "outputs": [],
   "source": []
  },
  {
   "cell_type": "code",
   "execution_count": 1,
   "metadata": {
    "collapsed": true
   },
   "outputs": [],
   "source": [
    "%load_ext autoreload\n",
    "%autoreload 2\n",
    "%matplotlib inline"
   ]
  },
  {
   "cell_type": "code",
   "execution_count": 2,
   "metadata": {},
   "outputs": [
    {
     "name": "stderr",
     "output_type": "stream",
     "text": [
      "/home/dd210/anaconda3/envs/pytorch/lib/python3.6/site-packages/sklearn/cross_validation.py:44: DeprecationWarning: This module was deprecated in version 0.18 in favor of the model_selection module into which all the refactored classes and functions are moved. Also note that the interface of the new CV iterators are different from that of this module. This module will be removed in 0.20.\n",
      "  \"This module will be removed in 0.20.\", DeprecationWarning)\n"
     ]
    }
   ],
   "source": [
    "import random\n",
    "import torch\n",
    "import numpy as np\n",
    "import torch.nn as nn\n",
    "import deepchem as dc\n",
    "import torch.optim as optim\n",
    "import torch.nn.functional as F\n",
    "import matplotlib.pyplot as plt\n",
    "\n",
    "from sklearn.metrics import r2_score\n",
    "import numpy as np\n",
    "\n",
    "import random\n",
    "from collections import OrderedDict\n",
    "from scipy.stats import pearsonr\n",
    "\n",
    "from collections import OrderedDict\n",
    "from torch.autograd import Variable\n",
    "from rdkit import Chem, DataStructs\n",
    "\n",
    "from data import prepare_datasets"
   ]
  },
  {
   "cell_type": "code",
   "execution_count": 3,
   "metadata": {
    "collapsed": true
   },
   "outputs": [],
   "source": [
    "random.seed(2)\n",
    "torch.manual_seed(2)\n",
    "np.random.seed(2)"
   ]
  },
  {
   "cell_type": "code",
   "execution_count": 4,
   "metadata": {
    "collapsed": true
   },
   "outputs": [],
   "source": [
    "DATASET = 'data.csv'\n",
    "T = 3\n",
    "BATCH_SIZE = 2\n",
    "MAXITER = 40000\n",
    "LIMIT = 0\n",
    "LR = 5e-4"
   ]
  },
  {
   "cell_type": "code",
   "execution_count": 5,
   "metadata": {
    "collapsed": true
   },
   "outputs": [],
   "source": [
    "R = nn.Linear(150, 128)   # function R\n",
    "U = {0: nn.Linear(156, 75), 1: nn.Linear(156, 75), 2: nn.Linear(156, 75)}  # function M\n",
    "V = {0: nn.Linear(75, 75), 1: nn.Linear(75, 75), 2: nn.Linear(75, 75)}  # function U (but without edge features)\n",
    "E = nn.Linear(6, 6)  # function U (but without atom features)"
   ]
  },
  {
   "cell_type": "code",
   "execution_count": 6,
   "metadata": {
    "collapsed": true
   },
   "outputs": [],
   "source": [
    "def readout(h, h2):\n",
    "    catted_reads = map(lambda x: torch.cat([h[x[0]], h2[x[1]]], 1), zip(h2.keys(), h.keys()))\n",
    "    activated_reads = map(lambda x: F.selu(R(x)), catted_reads)\n",
    "    readout = Variable(torch.zeros(1, 128))\n",
    "    for read in activated_reads:\n",
    "        readout = readout + read\n",
    "    return F.tanh(readout)"
   ]
  },
  {
   "cell_type": "code",
   "execution_count": null,
   "metadata": {},
   "outputs": [],
   "source": []
  },
  {
   "cell_type": "code",
   "execution_count": 7,
   "metadata": {
    "collapsed": true
   },
   "outputs": [],
   "source": [
    "def message_pass(g, h, k):\n",
    "    for v in g.keys():\n",
    "        neighbors = g[v]\n",
    "        for neighbor in neighbors:\n",
    "            e_vw = neighbor[0]  # edge feature variable\n",
    "            w = neighbor[1]  # number of connected atom\n",
    "            m_w = V[k](h[w])  # calc hidden variable of atom\n",
    "            m_e_vw = E(e_vw)  # calc hidden variable of edge \n",
    "            reshaped = torch.cat((h[v], m_w, m_e_vw), 1)  # calculating concatenated hid states of atoms and edge\n",
    "            h[v] = F.selu(U[k](reshaped))  "
   ]
  },
  {
   "cell_type": "code",
   "execution_count": 8,
   "metadata": {
    "collapsed": true
   },
   "outputs": [],
   "source": [
    "def get_input_features(smile):\n",
    "    \"\"\"\n",
    "    Get input features for edges (g) and atoms (h).\n",
    "    \"\"\"\n",
    "    g = OrderedDict({})\n",
    "    h = OrderedDict({})\n",
    "    molecule = Chem.MolFromSmiles(smile)\n",
    "    for i in range(0, molecule.GetNumAtoms()):\n",
    "        atom_i = molecule.GetAtomWithIdx(i)\n",
    "        h[i] = Variable(torch.FloatTensor(dc.feat.graph_features.atom_features(atom_i).astype(np.float32))).view(1, 75)  # mk: added astype\n",
    "        for j in range(0, molecule.GetNumAtoms()):\n",
    "            e_ij = molecule.GetBondBetweenAtoms(i, j)\n",
    "            if e_ij != None:\n",
    "                e_ij = list(map(lambda x: 1 if x == True else 0,    # mk: added list\n",
    "                           dc.feat.graph_features.bond_features(e_ij)))  # ADDED edge feat\n",
    "                e_ij = Variable(torch.FloatTensor(e_ij).view(1, 6))\n",
    "                atom_j = molecule.GetAtomWithIdx(j)\n",
    "                if i not in g:\n",
    "                    g[i] = []\n",
    "                    g[i].append((e_ij, j))\n",
    "    return g, h"
   ]
  },
  {
   "cell_type": "code",
   "execution_count": 9,
   "metadata": {},
   "outputs": [
    {
     "name": "stdout",
     "output_type": "stream",
     "text": [
      "About to generate scaffolds\n",
      "Generating scaffold 0/1638\n",
      "Generating scaffold 1000/1638\n",
      "About to sort in scaffold sets\n"
     ]
    },
    {
     "name": "stderr",
     "output_type": "stream",
     "text": [
      "/home/dd210/anaconda3/envs/pytorch/lib/python3.6/site-packages/sklearn/preprocessing/data.py:586: DeprecationWarning: Passing 1d arrays as data is deprecated in 0.17 and will raise ValueError in 0.19. Reshape your data either using X.reshape(-1, 1) if your data has a single feature or X.reshape(1, -1) if it contains a single sample.\n",
      "  warnings.warn(DEPRECATION_MSG_1D, DeprecationWarning)\n",
      "/home/dd210/anaconda3/envs/pytorch/lib/python3.6/site-packages/sklearn/preprocessing/data.py:649: DeprecationWarning: Passing 1d arrays as data is deprecated in 0.17 and will raise ValueError in 0.19. Reshape your data either using X.reshape(-1, 1) if your data has a single feature or X.reshape(1, -1) if it contains a single sample.\n",
      "  warnings.warn(DEPRECATION_MSG_1D, DeprecationWarning)\n",
      "/home/dd210/anaconda3/envs/pytorch/lib/python3.6/site-packages/sklearn/preprocessing/data.py:649: DeprecationWarning: Passing 1d arrays as data is deprecated in 0.17 and will raise ValueError in 0.19. Reshape your data either using X.reshape(-1, 1) if your data has a single feature or X.reshape(1, -1) if it contains a single sample.\n",
      "  warnings.warn(DEPRECATION_MSG_1D, DeprecationWarning)\n"
     ]
    }
   ],
   "source": [
    "train_smiles, train_labels, val_smiles, val_labels = prepare_datasets(DATASET)"
   ]
  },
  {
   "cell_type": "code",
   "execution_count": null,
   "metadata": {},
   "outputs": [],
   "source": []
  },
  {
   "cell_type": "code",
   "execution_count": 10,
   "metadata": {
    "collapsed": true
   },
   "outputs": [],
   "source": [
    "linear = nn.Linear(128, 1)\n",
    "params = [{'params': R.parameters()},\n",
    "         {'params': U[0].parameters()},\n",
    "         {'params': U[1].parameters()},\n",
    "         {'params': U[2].parameters()},\n",
    "         {'params': E.parameters()},\n",
    "         {'params': V[0].parameters()},\n",
    "         {'params': V[1].parameters()},\n",
    "         {'params': V[2].parameters()},\n",
    "         {'params': linear.parameters()}]"
   ]
  },
  {
   "cell_type": "code",
   "execution_count": 11,
   "metadata": {
    "collapsed": true
   },
   "outputs": [],
   "source": [
    "num_epoch = 0\n",
    "optimizer = optim.Adam(params, lr=LR, weight_decay=1e-4)"
   ]
  },
  {
   "cell_type": "code",
   "execution_count": 20,
   "metadata": {
    "scrolled": true
   },
   "outputs": [
    {
     "name": "stdout",
     "output_type": "stream",
     "text": [
      "0\n",
      "epoch [10/100] train_loss [0.15870541334152222] val_loss [1.4665929079055786] r2_val_old [-0.18785826061897115], r2_val_new [0.02333693757918809]\n",
      "1\n",
      "2\n",
      "3\n",
      "4\n",
      "5\n",
      "6\n",
      "7\n",
      "8\n",
      "9\n",
      "10\n",
      "epoch [11/100] train_loss [0.44134455919265747] val_loss [1.286192774772644] r2_val_old [-0.04174443652015025], r2_val_new [0.02541236044262818]\n",
      "11\n",
      "12\n",
      "13\n",
      "14\n",
      "15\n",
      "16\n",
      "17\n",
      "18\n",
      "19\n",
      "20\n",
      "epoch [12/100] train_loss [0.46483224630355835] val_loss [1.2226706743240356] r2_val_old [0.009705196392872262], r2_val_new [0.016342409636799227]\n",
      "21\n",
      "22\n",
      "23\n",
      "24\n",
      "25\n",
      "26\n",
      "27\n",
      "28\n",
      "29\n",
      "30\n"
     ]
    },
    {
     "ename": "KeyboardInterrupt",
     "evalue": "",
     "output_type": "error",
     "traceback": [
      "\u001b[0;31m---------------------------------------------------------------------------\u001b[0m",
      "\u001b[0;31mKeyboardInterrupt\u001b[0m                         Traceback (most recent call last)",
      "\u001b[0;32m<ipython-input-20-c4bef3e98a0e>\u001b[0m in \u001b[0;36m<module>\u001b[0;34m()\u001b[0m\n\u001b[1;32m     31\u001b[0m         \u001b[0mval_loss\u001b[0m \u001b[0;34m=\u001b[0m \u001b[0mVariable\u001b[0m\u001b[0;34m(\u001b[0m\u001b[0mtorch\u001b[0m\u001b[0;34m.\u001b[0m\u001b[0mzeros\u001b[0m\u001b[0;34m(\u001b[0m\u001b[0;36m1\u001b[0m\u001b[0;34m,\u001b[0m \u001b[0;36m1\u001b[0m\u001b[0;34m)\u001b[0m\u001b[0;34m,\u001b[0m \u001b[0mrequires_grad\u001b[0m\u001b[0;34m=\u001b[0m\u001b[0;32mFalse\u001b[0m\u001b[0;34m)\u001b[0m\u001b[0;34m\u001b[0m\u001b[0m\n\u001b[1;32m     32\u001b[0m         \u001b[0my_hats_val\u001b[0m \u001b[0;34m=\u001b[0m \u001b[0;34m[\u001b[0m\u001b[0;34m]\u001b[0m\u001b[0;34m\u001b[0m\u001b[0m\n\u001b[0;32m---> 33\u001b[0;31m         \u001b[0;32mfor\u001b[0m \u001b[0mj\u001b[0m \u001b[0;32min\u001b[0m \u001b[0mrange\u001b[0m\u001b[0;34m(\u001b[0m\u001b[0;36m0\u001b[0m\u001b[0;34m,\u001b[0m \u001b[0mlen\u001b[0m\u001b[0;34m(\u001b[0m\u001b[0mval_smiles\u001b[0m\u001b[0;34m)\u001b[0m\u001b[0;34m)\u001b[0m\u001b[0;34m:\u001b[0m\u001b[0;34m\u001b[0m\u001b[0m\n\u001b[0m\u001b[1;32m     34\u001b[0m             \u001b[0mg\u001b[0m\u001b[0;34m,\u001b[0m \u001b[0mh\u001b[0m \u001b[0;34m=\u001b[0m \u001b[0mget_input_features\u001b[0m\u001b[0;34m(\u001b[0m\u001b[0mval_smiles\u001b[0m\u001b[0;34m[\u001b[0m\u001b[0mj\u001b[0m\u001b[0;34m]\u001b[0m\u001b[0;34m)\u001b[0m\u001b[0;34m\u001b[0m\u001b[0m\n\u001b[1;32m     35\u001b[0m             \u001b[0mg2\u001b[0m\u001b[0;34m,\u001b[0m \u001b[0mh2\u001b[0m \u001b[0;34m=\u001b[0m \u001b[0mget_input_features\u001b[0m\u001b[0;34m(\u001b[0m\u001b[0mval_smiles\u001b[0m\u001b[0;34m[\u001b[0m\u001b[0mj\u001b[0m\u001b[0;34m]\u001b[0m\u001b[0;34m)\u001b[0m\u001b[0;34m\u001b[0m\u001b[0m\n",
      "\u001b[0;31mKeyboardInterrupt\u001b[0m: "
     ]
    }
   ],
   "source": [
    "for i in range(0, MAXITER):\n",
    "    optimizer.zero_grad()\n",
    "    train_loss = Variable(torch.zeros(1, 1))\n",
    "    y_hats_train = []\n",
    "    for j in range(0, BATCH_SIZE):\n",
    "        sample_index = random.randint(0, len(train_smiles) - 2)\n",
    "        smile = train_smiles[sample_index]\n",
    "        g, h = get_input_features(smile)  # TODO: cache this\n",
    "\n",
    "        g2, h2 = get_input_features(smile)\n",
    "\n",
    "        for k in range(0, T):\n",
    "            message_pass(g, h, k)\n",
    "\n",
    "        x = readout(h, h2)\n",
    "        # x = F.selu( fc(x) )\n",
    "        y_hat = linear(x)\n",
    "        y = train_labels[sample_index]\n",
    "\n",
    "        y_hats_train.append(y_hat)\n",
    "\n",
    "        error = (y_hat - y) * (y_hat - y) / Variable(torch.FloatTensor([BATCH_SIZE])).view(1, 1)\n",
    "        train_loss = train_loss + error\n",
    "\n",
    "    train_loss.backward()\n",
    "    optimizer.step()\n",
    "    \n",
    "    print(i)\n",
    "    \n",
    "    if i % 10 == 0: #int(len(train_smiles) / BATCH_SIZE) == 0:\n",
    "        val_loss = Variable(torch.zeros(1, 1), requires_grad=False)\n",
    "        y_hats_val = []\n",
    "        for j in range(0, len(val_smiles)):\n",
    "            g, h = get_input_features(val_smiles[j])\n",
    "            g2, h2 = get_input_features(val_smiles[j])\n",
    "\n",
    "            for k in range(0, T):\n",
    "                message_pass(g, h, k)\n",
    "\n",
    "            x = readout(h, h2)\n",
    "            # x = F.selu( fc(x) )\n",
    "            y_hat = linear(x)\n",
    "            y = val_labels[j]\n",
    "\n",
    "            y_hats_val.append(y_hat)\n",
    "\n",
    "            error = (y_hat - y) * (y_hat - y) / Variable(torch.FloatTensor([len(val_smiles)])).view(1, 1)\n",
    "            val_loss = val_loss + error\n",
    "\n",
    "        y_hats_val = np.array(list(map(lambda x: x.data.numpy(), y_hats_val)))\n",
    "        y_val = np.array(list(map(lambda x: x.data.numpy(), val_labels)))\n",
    "        y_hats_val = y_hats_val.reshape(-1, 1)\n",
    "        y_val = y_val.reshape(-1, 1)\n",
    "\n",
    "        r2_val_old = r2_score(y_val, y_hats_val)\n",
    "        r2_val_new = pearsonr(y_val, y_hats_val)[0][0] ** 2\n",
    "\n",
    "        train_loss_ = train_loss.data.numpy()[0][0]\n",
    "        val_loss_ = val_loss.data.numpy()[0][0]\n",
    "        print('epoch [{}/{}] train_loss [{}] val_loss [{}] r2_val_old [{}], r2_val_new [{}]'.format(num_epoch, 100, train_loss_, val_loss_, r2_val_old, r2_val_new))\n",
    "        num_epoch += 1"
   ]
  },
  {
   "cell_type": "code",
   "execution_count": 15,
   "metadata": {},
   "outputs": [
    {
     "name": "stdout",
     "output_type": "stream",
     "text": [
      "8 100 [ 2.79654908] [ 1.84487927] -0.494249230909 [ 0.08840133]\n"
     ]
    }
   ],
   "source": [
    "print(num_epoch, 100, train_loss_, val_loss_, r2_val_old, r2_val_new)"
   ]
  },
  {
   "cell_type": "code",
   "execution_count": 16,
   "metadata": {},
   "outputs": [
    {
     "data": {
      "text/plain": [
       "(array([ 0.29732361], dtype=float32), array([ 0.00011051], dtype=float32))"
      ]
     },
     "execution_count": 16,
     "metadata": {},
     "output_type": "execute_result"
    }
   ],
   "source": [
    "pearsonr(y_val, y_hats_val)"
   ]
  },
  {
   "cell_type": "code",
   "execution_count": 22,
   "metadata": {},
   "outputs": [
    {
     "data": {
      "text/plain": [
       "array([], shape=(164, 0), dtype=bool)"
      ]
     },
     "execution_count": 22,
     "metadata": {},
     "output_type": "execute_result"
    }
   ],
   "source": [
    "y_val == y_hats_val"
   ]
  },
  {
   "cell_type": "code",
   "execution_count": 25,
   "metadata": {},
   "outputs": [
    {
     "name": "stdout",
     "output_type": "stream",
     "text": [
      "epoch [13/100] train_loss [1.6652722358703613] val_loss [1.2062128782272339] r2_val_old [0.023035097786379355], r2_val_new [0.024278961348900063]\n"
     ]
    }
   ],
   "source": [
    "val_loss = Variable(torch.zeros(1, 1), requires_grad=False)\n",
    "y_hats_val = []\n",
    "for j in range(0, len(val_smiles)):\n",
    "    g, h = get_input_features(val_smiles[j])\n",
    "    g2, h2 = get_input_features(val_smiles[j])\n",
    "\n",
    "    for k in range(0, T):\n",
    "        message_pass(g, h, k)\n",
    "\n",
    "    x = readout(h, h2)\n",
    "    # x = F.selu( fc(x) )\n",
    "    y_hat = linear(x)\n",
    "    y = val_labels[j]\n",
    "\n",
    "    y_hats_val.append(y_hat)\n",
    "\n",
    "    error = (y_hat - y) * (y_hat - y) / Variable(torch.FloatTensor([len(val_smiles)])).view(1, 1)\n",
    "    val_loss = val_loss + error\n",
    "\n",
    "y_hats_val = np.array(list(map(lambda x: x.data.numpy(), y_hats_val)))\n",
    "y_val = np.array(list(map(lambda x: x.data.numpy(), val_labels)))\n",
    "y_hats_val = y_hats_val.reshape(-1, 1)\n",
    "y_val = y_val.reshape(-1, 1)\n",
    "\n",
    "r2_val_old = r2_score(y_val, y_hats_val)\n",
    "r2_val_new = pearsonr(y_val, y_hats_val)[0][0] ** 2\n",
    "\n",
    "train_loss_ = train_loss.data.numpy()[0][0]\n",
    "val_loss_ = val_loss.data.numpy()[0][0]\n",
    "print('epoch [{}/{}] train_loss [{}] val_loss [{}] r2_val_old [{}], r2_val_new [{}]'.format(num_epoch, 100, train_loss_, val_loss_, r2_val_old, r2_val_new))\n",
    "num_epoch += 1"
   ]
  },
  {
   "cell_type": "code",
   "execution_count": 31,
   "metadata": {},
   "outputs": [
    {
     "data": {
      "text/plain": [
       "False"
      ]
     },
     "execution_count": 31,
     "metadata": {},
     "output_type": "execute_result"
    }
   ],
   "source": [
    "np.allclose(y_val, y_hats_val)"
   ]
  },
  {
   "cell_type": "code",
   "execution_count": 32,
   "metadata": {},
   "outputs": [
    {
     "data": {
      "text/plain": [
       "array([[ 1.71632838],\n",
       "       [-0.5826391 ],\n",
       "       [-0.5826391 ],\n",
       "       [-0.5826391 ],\n",
       "       [-0.5826391 ],\n",
       "       [-0.5826391 ],\n",
       "       [-0.5826391 ],\n",
       "       [-0.5826391 ],\n",
       "       [-0.5826391 ],\n",
       "       [-0.5826391 ],\n",
       "       [-0.5826391 ],\n",
       "       [ 1.71632838],\n",
       "       [-0.5826391 ],\n",
       "       [ 1.71632838],\n",
       "       [-0.5826391 ],\n",
       "       [-0.5826391 ],\n",
       "       [ 1.71632838],\n",
       "       [-0.5826391 ],\n",
       "       [-0.5826391 ],\n",
       "       [-0.5826391 ],\n",
       "       [-0.5826391 ],\n",
       "       [-0.5826391 ],\n",
       "       [-0.5826391 ],\n",
       "       [-0.5826391 ],\n",
       "       [-0.5826391 ],\n",
       "       [-0.5826391 ],\n",
       "       [-0.5826391 ],\n",
       "       [ 1.71632838],\n",
       "       [-0.5826391 ],\n",
       "       [-0.5826391 ],\n",
       "       [ 1.71632838],\n",
       "       [ 1.71632838],\n",
       "       [-0.5826391 ],\n",
       "       [-0.5826391 ],\n",
       "       [-0.5826391 ],\n",
       "       [ 1.71632838],\n",
       "       [ 1.71632838],\n",
       "       [-0.5826391 ],\n",
       "       [-0.5826391 ],\n",
       "       [-0.5826391 ],\n",
       "       [-0.5826391 ],\n",
       "       [-0.5826391 ],\n",
       "       [ 1.71632838],\n",
       "       [ 1.71632838],\n",
       "       [-0.5826391 ],\n",
       "       [-0.5826391 ],\n",
       "       [-0.5826391 ],\n",
       "       [-0.5826391 ],\n",
       "       [-0.5826391 ],\n",
       "       [-0.5826391 ],\n",
       "       [-0.5826391 ],\n",
       "       [-0.5826391 ],\n",
       "       [-0.5826391 ],\n",
       "       [-0.5826391 ],\n",
       "       [-0.5826391 ],\n",
       "       [ 1.71632838],\n",
       "       [-0.5826391 ],\n",
       "       [-0.5826391 ],\n",
       "       [ 1.71632838],\n",
       "       [ 1.71632838],\n",
       "       [-0.5826391 ],\n",
       "       [-0.5826391 ],\n",
       "       [ 1.71632838],\n",
       "       [ 1.71632838],\n",
       "       [ 1.71632838],\n",
       "       [-0.5826391 ],\n",
       "       [ 1.71632838],\n",
       "       [ 1.71632838],\n",
       "       [-0.5826391 ],\n",
       "       [ 1.71632838],\n",
       "       [-0.5826391 ],\n",
       "       [-0.5826391 ],\n",
       "       [-0.5826391 ],\n",
       "       [-0.5826391 ],\n",
       "       [ 1.71632838],\n",
       "       [-0.5826391 ],\n",
       "       [-0.5826391 ],\n",
       "       [-0.5826391 ],\n",
       "       [ 1.71632838],\n",
       "       [-0.5826391 ],\n",
       "       [ 1.71632838],\n",
       "       [-0.5826391 ],\n",
       "       [-0.5826391 ],\n",
       "       [ 1.71632838],\n",
       "       [-0.5826391 ],\n",
       "       [-0.5826391 ],\n",
       "       [-0.5826391 ],\n",
       "       [-0.5826391 ],\n",
       "       [-0.5826391 ],\n",
       "       [ 1.71632838],\n",
       "       [-0.5826391 ],\n",
       "       [-0.5826391 ],\n",
       "       [ 1.71632838],\n",
       "       [-0.5826391 ],\n",
       "       [-0.5826391 ],\n",
       "       [ 1.71632838],\n",
       "       [ 1.71632838],\n",
       "       [ 1.71632838],\n",
       "       [ 1.71632838],\n",
       "       [-0.5826391 ],\n",
       "       [ 1.71632838],\n",
       "       [-0.5826391 ],\n",
       "       [ 1.71632838],\n",
       "       [-0.5826391 ],\n",
       "       [-0.5826391 ],\n",
       "       [-0.5826391 ],\n",
       "       [-0.5826391 ],\n",
       "       [ 1.71632838],\n",
       "       [ 1.71632838],\n",
       "       [ 1.71632838],\n",
       "       [-0.5826391 ],\n",
       "       [ 1.71632838],\n",
       "       [-0.5826391 ],\n",
       "       [ 1.71632838],\n",
       "       [-0.5826391 ],\n",
       "       [ 1.71632838],\n",
       "       [ 1.71632838],\n",
       "       [ 1.71632838],\n",
       "       [-0.5826391 ],\n",
       "       [-0.5826391 ],\n",
       "       [ 1.71632838],\n",
       "       [ 1.71632838],\n",
       "       [-0.5826391 ],\n",
       "       [ 1.71632838],\n",
       "       [ 1.71632838],\n",
       "       [-0.5826391 ],\n",
       "       [-0.5826391 ],\n",
       "       [ 1.71632838],\n",
       "       [ 1.71632838],\n",
       "       [-0.5826391 ],\n",
       "       [-0.5826391 ],\n",
       "       [ 1.71632838],\n",
       "       [ 1.71632838],\n",
       "       [ 1.71632838],\n",
       "       [ 1.71632838],\n",
       "       [-0.5826391 ],\n",
       "       [-0.5826391 ],\n",
       "       [ 1.71632838],\n",
       "       [-0.5826391 ],\n",
       "       [-0.5826391 ],\n",
       "       [ 1.71632838],\n",
       "       [-0.5826391 ],\n",
       "       [-0.5826391 ],\n",
       "       [-0.5826391 ],\n",
       "       [ 1.71632838],\n",
       "       [ 1.71632838],\n",
       "       [-0.5826391 ],\n",
       "       [ 1.71632838],\n",
       "       [ 1.71632838],\n",
       "       [-0.5826391 ],\n",
       "       [ 1.71632838],\n",
       "       [-0.5826391 ],\n",
       "       [-0.5826391 ],\n",
       "       [ 1.71632838],\n",
       "       [-0.5826391 ],\n",
       "       [-0.5826391 ],\n",
       "       [-0.5826391 ],\n",
       "       [ 1.71632838],\n",
       "       [-0.5826391 ],\n",
       "       [ 1.71632838],\n",
       "       [-0.5826391 ],\n",
       "       [-0.5826391 ],\n",
       "       [ 1.71632838],\n",
       "       [-0.5826391 ]], dtype=float32)"
      ]
     },
     "execution_count": 32,
     "metadata": {},
     "output_type": "execute_result"
    }
   ],
   "source": [
    "y_val"
   ]
  },
  {
   "cell_type": "code",
   "execution_count": 33,
   "metadata": {},
   "outputs": [
    {
     "data": {
      "text/plain": [
       "array([[ 0.02747247],\n",
       "       [ 0.44075501],\n",
       "       [ 0.36345196],\n",
       "       [ 0.32603884],\n",
       "       [ 0.37638909],\n",
       "       [ 0.08382586],\n",
       "       [ 0.36810356],\n",
       "       [ 0.38451442],\n",
       "       [ 0.40436491],\n",
       "       [ 0.17843622],\n",
       "       [ 0.48779029],\n",
       "       [-0.35172018],\n",
       "       [ 0.360596  ],\n",
       "       [ 0.26199052],\n",
       "       [ 0.35432297],\n",
       "       [ 0.14550577],\n",
       "       [ 0.34735271],\n",
       "       [ 0.09480251],\n",
       "       [ 0.27808893],\n",
       "       [ 0.15175366],\n",
       "       [ 0.18478948],\n",
       "       [ 0.04963461],\n",
       "       [ 0.06729124],\n",
       "       [ 0.15761252],\n",
       "       [ 0.0389532 ],\n",
       "       [ 0.0073465 ],\n",
       "       [ 0.29882187],\n",
       "       [ 0.40100855],\n",
       "       [ 0.36948037],\n",
       "       [ 0.44961333],\n",
       "       [ 0.31739041],\n",
       "       [ 0.24621597],\n",
       "       [ 0.11953473],\n",
       "       [-0.03070324],\n",
       "       [ 0.14854182],\n",
       "       [ 0.04740882],\n",
       "       [ 0.4221108 ],\n",
       "       [ 0.28519773],\n",
       "       [ 0.2099995 ],\n",
       "       [ 0.12519707],\n",
       "       [ 0.25319862],\n",
       "       [ 0.25211006],\n",
       "       [ 0.34313831],\n",
       "       [ 0.09453893],\n",
       "       [ 0.27000189],\n",
       "       [ 0.18820134],\n",
       "       [ 0.16226822],\n",
       "       [ 0.30073902],\n",
       "       [ 0.29114163],\n",
       "       [ 0.2652688 ],\n",
       "       [ 0.33900353],\n",
       "       [-0.28792   ],\n",
       "       [ 0.14926276],\n",
       "       [ 0.331476  ],\n",
       "       [ 0.17333883],\n",
       "       [ 0.28372094],\n",
       "       [ 0.37089327],\n",
       "       [ 0.15820858],\n",
       "       [ 0.40613794],\n",
       "       [ 0.31243226],\n",
       "       [ 0.38833928],\n",
       "       [ 0.10137759],\n",
       "       [ 0.39258888],\n",
       "       [ 0.36051971],\n",
       "       [ 0.46778893],\n",
       "       [-0.1537576 ],\n",
       "       [ 0.35926372],\n",
       "       [ 0.41096103],\n",
       "       [ 0.23329762],\n",
       "       [ 0.37398553],\n",
       "       [-0.1187285 ],\n",
       "       [ 0.11393049],\n",
       "       [ 0.27971327],\n",
       "       [ 0.06447525],\n",
       "       [ 0.02065727],\n",
       "       [ 0.38815153],\n",
       "       [ 0.22932979],\n",
       "       [-0.13667782],\n",
       "       [ 0.42766088],\n",
       "       [ 0.29032335],\n",
       "       [ 0.3686817 ],\n",
       "       [ 0.05324402],\n",
       "       [ 0.06021813],\n",
       "       [ 0.37495226],\n",
       "       [ 0.28909591],\n",
       "       [ 0.30384105],\n",
       "       [ 0.34384719],\n",
       "       [ 0.46299517],\n",
       "       [ 0.04258719],\n",
       "       [ 0.11019035],\n",
       "       [ 0.09566793],\n",
       "       [ 0.08699346],\n",
       "       [-0.2715466 ],\n",
       "       [ 0.11650421],\n",
       "       [-0.07390254],\n",
       "       [ 0.38874686],\n",
       "       [ 0.28236523],\n",
       "       [ 0.34988832],\n",
       "       [ 0.3386226 ],\n",
       "       [ 0.23336586],\n",
       "       [ 0.3853851 ],\n",
       "       [ 0.18927178],\n",
       "       [ 0.37636989],\n",
       "       [ 0.38805187],\n",
       "       [ 0.28094268],\n",
       "       [ 0.26330233],\n",
       "       [ 0.15756387],\n",
       "       [ 0.38083655],\n",
       "       [ 0.22720632],\n",
       "       [ 0.2023131 ],\n",
       "       [ 0.33673173],\n",
       "       [ 0.04132902],\n",
       "       [ 0.32266891],\n",
       "       [ 0.15303133],\n",
       "       [ 0.20258629],\n",
       "       [ 0.40004811],\n",
       "       [ 0.36586797],\n",
       "       [ 0.18723771],\n",
       "       [ 0.37256321],\n",
       "       [ 0.39091453],\n",
       "       [ 0.23037827],\n",
       "       [ 0.39611369],\n",
       "       [ 0.26995641],\n",
       "       [ 0.1771819 ],\n",
       "       [ 0.23344225],\n",
       "       [ 0.34175855],\n",
       "       [ 0.02650986],\n",
       "       [ 0.21654841],\n",
       "       [ 0.38653922],\n",
       "       [ 0.32544148],\n",
       "       [ 0.13630132],\n",
       "       [ 0.12293781],\n",
       "       [ 0.19596422],\n",
       "       [ 0.27936456],\n",
       "       [ 0.3833012 ],\n",
       "       [ 0.38255799],\n",
       "       [ 0.37828892],\n",
       "       [ 0.3639293 ],\n",
       "       [ 0.1383442 ],\n",
       "       [ 0.01769334],\n",
       "       [ 0.40044326],\n",
       "       [ 0.16172013],\n",
       "       [ 0.28334683],\n",
       "       [ 0.29977641],\n",
       "       [ 0.2988252 ],\n",
       "       [ 0.33347678],\n",
       "       [ 0.10255811],\n",
       "       [ 0.13610825],\n",
       "       [ 0.39752913],\n",
       "       [ 0.15660754],\n",
       "       [ 0.28720924],\n",
       "       [ 0.19040823],\n",
       "       [ 0.4060837 ],\n",
       "       [ 0.31218278],\n",
       "       [ 0.32112104],\n",
       "       [ 0.3679539 ],\n",
       "       [ 0.3147352 ],\n",
       "       [ 0.39113325],\n",
       "       [ 0.02350596],\n",
       "       [ 0.10119477],\n",
       "       [ 0.34347141],\n",
       "       [ 0.25675154],\n",
       "       [ 0.17417601],\n",
       "       [ 0.3483645 ]], dtype=float32)"
      ]
     },
     "execution_count": 33,
     "metadata": {},
     "output_type": "execute_result"
    }
   ],
   "source": [
    "y_hats_val"
   ]
  }
 ],
 "metadata": {
  "kernelspec": {
   "display_name": "Python 3",
   "language": "python",
   "name": "python3"
  },
  "language_info": {
   "codemirror_mode": {
    "name": "ipython",
    "version": 3
   },
   "file_extension": ".py",
   "mimetype": "text/x-python",
   "name": "python",
   "nbconvert_exporter": "python",
   "pygments_lexer": "ipython3",
   "version": "3.6.2"
  }
 },
 "nbformat": 4,
 "nbformat_minor": 2
}
