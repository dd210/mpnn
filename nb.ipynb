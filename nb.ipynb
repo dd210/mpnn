{
 "cells": [
  {
   "cell_type": "markdown",
   "metadata": {
    "collapsed": true
   },
   "source": [
    "# Neural Message Passing for Quantum Chemistry\n",
    "\n",
    "Ref: https://arxiv.org/pdf/1704.01212.pdf\n",
    "\n",
    "Assumptions:\n",
    "1. Hidden states for atoms are not updated (only for atoms)."
   ]
  },
  {
   "cell_type": "markdown",
   "metadata": {},
   "source": [
    "## 1. Directed models"
   ]
  },
  {
   "cell_type": "code",
   "execution_count": 161,
   "metadata": {},
   "outputs": [
    {
     "name": "stdout",
     "output_type": "stream",
     "text": [
      "The autoreload extension is already loaded. To reload it, use:\n",
      "  %reload_ext autoreload\n"
     ]
    }
   ],
   "source": [
    "%load_ext autoreload\n",
    "%autoreload 2\n",
    "%matplotlib inline"
   ]
  },
  {
   "cell_type": "code",
   "execution_count": 235,
   "metadata": {
    "collapsed": true
   },
   "outputs": [],
   "source": [
    "import torch.optim as optim\n",
    "import matplotlib.pyplot as plt\n",
    "import numpy as np\n",
    "\n",
    "import torch\n",
    "from torch.autograd import Variable\n",
    "from utils import rolling_mean\n",
    "from data import DataPreprocessor\n",
    "from mpnn.mpnn_directed import MPNNdirected\n",
    "from mpnn.directed import Rd, Vd, Ud, Ed"
   ]
  },
  {
   "cell_type": "code",
   "execution_count": 163,
   "metadata": {
    "collapsed": true
   },
   "outputs": [],
   "source": [
    "at_feat = 75\n",
    "edg_feat = 6\n",
    "passes = 4\n",
    "rd = Rd(inp_size=at_feat*2, hid_size=32)\n",
    "vd = Vd(inp_size=at_feat)\n",
    "ud = Ud(inp_size=at_feat*2+edg_feat, out_size=at_feat)\n",
    "ed = Ed(inp_size=edg_feat)"
   ]
  },
  {
   "cell_type": "code",
   "execution_count": 240,
   "metadata": {
    "collapsed": true
   },
   "outputs": [],
   "source": [
    "mpnn = MPNNdirected(rd, ud, vd, ed, passes)"
   ]
  },
  {
   "cell_type": "code",
   "execution_count": 110,
   "metadata": {
    "collapsed": true
   },
   "outputs": [],
   "source": [
    "DATASET = 'data.test'"
   ]
  },
  {
   "cell_type": "code",
   "execution_count": 111,
   "metadata": {
    "collapsed": true
   },
   "outputs": [],
   "source": [
    "data = DataPreprocessor(DATASET, filter_dots=True, filter_atoms=True)"
   ]
  },
  {
   "cell_type": "code",
   "execution_count": 112,
   "metadata": {},
   "outputs": [
    {
     "name": "stdout",
     "output_type": "stream",
     "text": [
      "File data.test read. In total 1696 lines.\n"
     ]
    }
   ],
   "source": [
    "data.load_dataset()"
   ]
  },
  {
   "cell_type": "code",
   "execution_count": 113,
   "metadata": {},
   "outputs": [
    {
     "name": "stdout",
     "output_type": "stream",
     "text": [
      "Data filtered, in total 220 smiles deleted\n"
     ]
    }
   ],
   "source": [
    "data.filter_data()"
   ]
  },
  {
   "cell_type": "code",
   "execution_count": 114,
   "metadata": {},
   "outputs": [
    {
     "name": "stdout",
     "output_type": "stream",
     "text": [
      "File data.test read. In total 1696 lines.\n",
      "Data filtered, in total 220 smiles deleted\n",
      "About to generate scaffolds\n",
      "Generating scaffold 0/1476\n",
      "Generating scaffold 1000/1476\n",
      "About to sort in scaffold sets\n"
     ]
    }
   ],
   "source": [
    "train_smiles, train_labels, valid_smiles, valid_labels, test_smiles, test_labels = data.get_data()"
   ]
  },
  {
   "cell_type": "code",
   "execution_count": 115,
   "metadata": {
    "collapsed": true
   },
   "outputs": [],
   "source": [
    "losses = []"
   ]
  },
  {
   "cell_type": "code",
   "execution_count": 243,
   "metadata": {
    "scrolled": true
   },
   "outputs": [
    {
     "name": "stdout",
     "output_type": "stream",
     "text": [
      "[[[19:4]fold_non_lin, [23:3]fold_non_lin, [27:7]fold_non_lin, [27:8]fold_non_lin, [31:2]fold_non_lin, [35:5]fold_non_lin, [39:0]fold_non_lin, [43:0]fold_non_lin, [43:1]fold_non_lin, [35:6]fold_non_lin, [39:1]fold_non_lin, [43:2]fold_non_lin, [43:3]fold_non_lin, [43:4]fold_non_lin]]\n",
      "Error while executing node fold_cat[9] with args: [(Variable containing:\n",
      "\n",
      "Columns 0 to 12 \n",
      "    0     0     1     0     0     0     0     0     0     0     0     0     0\n",
      "\n",
      "Columns 13 to 25 \n",
      "    0     0     0     0     0     0     0     0     0     0     0     0     0\n",
      "\n",
      "Columns 26 to 38 \n",
      "    0     0     0     0     0     0     0     0     0     0     0     0     0\n",
      "\n",
      "Columns 39 to 51 \n",
      "    0     0     0     0     0     0     1     0     0     0     0     0     0\n",
      "\n",
      "Columns 52 to 64 \n",
      "    0     0     0     1     0     0     0     0     1     0     0     0     0\n",
      "\n",
      "Columns 65 to 74 \n",
      "    0     0     0     0     0     1     0     0     0     0\n",
      "[torch.FloatTensor of size 1x75]\n",
      ", [8:0]V_0, [0:2]E), (Variable containing:\n",
      "\n",
      "Columns 0 to 12 \n",
      "    0     0     1     0     0     0     0     0     0     0     0     0     0\n",
      "\n",
      "Columns 13 to 25 \n",
      "    0     0     0     0     0     0     0     0     0     0     0     0     0\n",
      "\n",
      "Columns 26 to 38 \n",
      "    0     0     0     0     0     0     0     0     0     0     0     0     0\n",
      "\n",
      "Columns 39 to 51 \n",
      "    0     0     0     0     0     0     0     1     0     0     0     0     0\n",
      "\n",
      "Columns 52 to 64 \n",
      "    0     0     0     1     0     0     0     0     1     0     0     0     0\n",
      "\n",
      "Columns 65 to 74 \n",
      "    0     0     0     0     0     1     0     0     0     0\n",
      "[torch.FloatTensor of size 1x75]\n",
      ", [8:0]V_0, [0:3]E), ([3:0]fold_non_lin, [8:0]V_1, [0:0]E)]\n"
     ]
    },
    {
     "ename": "AttributeError",
     "evalue": "'Node' object has no attribute 'size'",
     "output_type": "error",
     "traceback": [
      "\u001b[0;31m---------------------------------------------------------------------------\u001b[0m",
      "\u001b[0;31mAttributeError\u001b[0m                            Traceback (most recent call last)",
      "\u001b[0;32m<ipython-input-243-caa29543992b>\u001b[0m in \u001b[0;36m<module>\u001b[0;34m()\u001b[0m\n\u001b[1;32m      1\u001b[0m \u001b[0;32mfor\u001b[0m \u001b[0mj\u001b[0m \u001b[0;32min\u001b[0m \u001b[0mrange\u001b[0m\u001b[0;34m(\u001b[0m\u001b[0;36m100\u001b[0m\u001b[0;34m)\u001b[0m\u001b[0;34m:\u001b[0m\u001b[0;34m\u001b[0m\u001b[0m\n\u001b[1;32m      2\u001b[0m     \u001b[0;32mfor\u001b[0m \u001b[0mi\u001b[0m \u001b[0;32min\u001b[0m \u001b[0mrange\u001b[0m\u001b[0;34m(\u001b[0m\u001b[0;36m100\u001b[0m\u001b[0;34m)\u001b[0m\u001b[0;34m:\u001b[0m\u001b[0;34m\u001b[0m\u001b[0m\n\u001b[0;32m----> 3\u001b[0;31m         \u001b[0mloss\u001b[0m \u001b[0;34m=\u001b[0m \u001b[0mmpnn\u001b[0m\u001b[0;34m.\u001b[0m\u001b[0mmake_opt_step_batched\u001b[0m\u001b[0;34m(\u001b[0m\u001b[0mtrain_smiles\u001b[0m\u001b[0;34m[\u001b[0m\u001b[0mi\u001b[0m\u001b[0;34m:\u001b[0m\u001b[0mi\u001b[0m\u001b[0;34m+\u001b[0m\u001b[0;36m1\u001b[0m\u001b[0;34m]\u001b[0m\u001b[0;34m,\u001b[0m \u001b[0mtrain_labels\u001b[0m\u001b[0;34m[\u001b[0m\u001b[0mi\u001b[0m\u001b[0;34m:\u001b[0m\u001b[0mi\u001b[0m\u001b[0;34m+\u001b[0m\u001b[0;36m1\u001b[0m\u001b[0;34m]\u001b[0m\u001b[0;34m,\u001b[0m \u001b[0;36m3\u001b[0m\u001b[0;34m)\u001b[0m\u001b[0;34m\u001b[0m\u001b[0m\n\u001b[0m\u001b[1;32m      4\u001b[0m         \u001b[0mprint\u001b[0m\u001b[0;34m(\u001b[0m\u001b[0mi\u001b[0m\u001b[0;34m,\u001b[0m \u001b[0mloss\u001b[0m\u001b[0;34m)\u001b[0m\u001b[0;34m\u001b[0m\u001b[0m\n\u001b[1;32m      5\u001b[0m         \u001b[0mlosses\u001b[0m\u001b[0;34m.\u001b[0m\u001b[0mappend\u001b[0m\u001b[0;34m(\u001b[0m\u001b[0mloss\u001b[0m\u001b[0;34m)\u001b[0m\u001b[0;34m\u001b[0m\u001b[0m\n",
      "\u001b[0;32m~/Desktop/mpnn/mpnn/mpnn_directed.py\u001b[0m in \u001b[0;36mmake_opt_step_batched\u001b[0;34m(self, batch_x, batch_y, t)\u001b[0m\n\u001b[1;32m    141\u001b[0m \u001b[0;34m\u001b[0m\u001b[0m\n\u001b[1;32m    142\u001b[0m         \u001b[0mprint\u001b[0m\u001b[0;34m(\u001b[0m\u001b[0mfolded_nodes\u001b[0m\u001b[0;34m)\u001b[0m\u001b[0;34m\u001b[0m\u001b[0m\n\u001b[0;32m--> 143\u001b[0;31m         \u001b[0mresult\u001b[0m \u001b[0;34m=\u001b[0m \u001b[0mfold\u001b[0m\u001b[0;34m.\u001b[0m\u001b[0mapply\u001b[0m\u001b[0;34m(\u001b[0m\u001b[0mself\u001b[0m\u001b[0;34m,\u001b[0m \u001b[0mfolded_nodes\u001b[0m\u001b[0;34m)\u001b[0m\u001b[0;34m\u001b[0m\u001b[0m\n\u001b[0m\u001b[1;32m    144\u001b[0m         \u001b[0mprint\u001b[0m\u001b[0;34m(\u001b[0m\u001b[0;34m'1111'\u001b[0m\u001b[0;34m)\u001b[0m\u001b[0;34m\u001b[0m\u001b[0m\n\u001b[1;32m    145\u001b[0m \u001b[0;34m\u001b[0m\u001b[0m\n",
      "\u001b[0;32m~/Desktop/mpnn/torchfold.py\u001b[0m in \u001b[0;36mapply\u001b[0;34m(self, nn, nodes)\u001b[0m\n\u001b[1;32m    110\u001b[0m                     \u001b[0;31m#print('step: {}'.format(step))\u001b[0m\u001b[0;34m\u001b[0m\u001b[0;34m\u001b[0m\u001b[0m\n\u001b[1;32m    111\u001b[0m                     batched_args = self._batch_args(\n\u001b[0;32m--> 112\u001b[0;31m                         zip(*self.steps[step][op]), values)\n\u001b[0m\u001b[1;32m    113\u001b[0m                 \u001b[0;32mexcept\u001b[0m \u001b[0mException\u001b[0m\u001b[0;34m:\u001b[0m\u001b[0;34m\u001b[0m\u001b[0m\n\u001b[1;32m    114\u001b[0m                     print(\"Error while executing node %s[%d] with args: %s\" % (\n",
      "\u001b[0;32m~/Desktop/mpnn/torchfold.py\u001b[0m in \u001b[0;36m_batch_args\u001b[0;34m(self, arg_lists, values)\u001b[0m\n\u001b[1;32m     86\u001b[0m                     \u001b[0mres\u001b[0m\u001b[0;34m.\u001b[0m\u001b[0mappend\u001b[0m\u001b[0;34m(\u001b[0m\u001b[0mx\u001b[0m\u001b[0;34m.\u001b[0m\u001b[0mget\u001b[0m\u001b[0;34m(\u001b[0m\u001b[0mvalues\u001b[0m\u001b[0;34m)\u001b[0m\u001b[0;34m)\u001b[0m\u001b[0;34m\u001b[0m\u001b[0m\n\u001b[1;32m     87\u001b[0m             \u001b[0;32melif\u001b[0m \u001b[0misinstance\u001b[0m\u001b[0;34m(\u001b[0m\u001b[0marg\u001b[0m\u001b[0;34m[\u001b[0m\u001b[0;36m0\u001b[0m\u001b[0;34m]\u001b[0m\u001b[0;34m,\u001b[0m \u001b[0mVariable\u001b[0m\u001b[0;34m)\u001b[0m\u001b[0;34m:\u001b[0m\u001b[0;34m\u001b[0m\u001b[0m\n\u001b[0;32m---> 88\u001b[0;31m                 \u001b[0mres\u001b[0m\u001b[0;34m.\u001b[0m\u001b[0mappend\u001b[0m\u001b[0;34m(\u001b[0m\u001b[0mtorch\u001b[0m\u001b[0;34m.\u001b[0m\u001b[0mcat\u001b[0m\u001b[0;34m(\u001b[0m\u001b[0marg\u001b[0m\u001b[0;34m,\u001b[0m \u001b[0;36m0\u001b[0m\u001b[0;34m)\u001b[0m\u001b[0;34m)\u001b[0m\u001b[0;34m\u001b[0m\u001b[0m\n\u001b[0m\u001b[1;32m     89\u001b[0m             \u001b[0;32melse\u001b[0m\u001b[0;34m:\u001b[0m\u001b[0;34m\u001b[0m\u001b[0m\n\u001b[1;32m     90\u001b[0m                 \u001b[0;32mtry\u001b[0m\u001b[0;34m:\u001b[0m\u001b[0;34m\u001b[0m\u001b[0m\n",
      "\u001b[0;32m~/anaconda3/envs/pytorch/lib/python3.6/site-packages/torch/autograd/variable.py\u001b[0m in \u001b[0;36mcat\u001b[0;34m(iterable, dim)\u001b[0m\n\u001b[1;32m    895\u001b[0m         \u001b[0;34m@\u001b[0m\u001b[0mstaticmethod\u001b[0m\u001b[0;34m\u001b[0m\u001b[0m\n\u001b[1;32m    896\u001b[0m         \u001b[0;32mdef\u001b[0m \u001b[0mcat\u001b[0m\u001b[0;34m(\u001b[0m\u001b[0miterable\u001b[0m\u001b[0;34m,\u001b[0m \u001b[0mdim\u001b[0m\u001b[0;34m=\u001b[0m\u001b[0;36m0\u001b[0m\u001b[0;34m)\u001b[0m\u001b[0;34m:\u001b[0m\u001b[0;34m\u001b[0m\u001b[0m\n\u001b[0;32m--> 897\u001b[0;31m             \u001b[0;32mreturn\u001b[0m \u001b[0mConcat\u001b[0m\u001b[0;34m.\u001b[0m\u001b[0mapply\u001b[0m\u001b[0;34m(\u001b[0m\u001b[0mdim\u001b[0m\u001b[0;34m,\u001b[0m \u001b[0;34m*\u001b[0m\u001b[0miterable\u001b[0m\u001b[0;34m)\u001b[0m\u001b[0;34m\u001b[0m\u001b[0m\n\u001b[0m\u001b[1;32m    898\u001b[0m \u001b[0;34m\u001b[0m\u001b[0m\n\u001b[1;32m    899\u001b[0m         \u001b[0;34m@\u001b[0m\u001b[0mstaticmethod\u001b[0m\u001b[0;34m\u001b[0m\u001b[0m\n",
      "\u001b[0;32m~/anaconda3/envs/pytorch/lib/python3.6/site-packages/torch/autograd/_functions/tensor.py\u001b[0m in \u001b[0;36mforward\u001b[0;34m(ctx, dim, *inputs)\u001b[0m\n\u001b[1;32m    314\u001b[0m     \u001b[0;32mdef\u001b[0m \u001b[0mforward\u001b[0m\u001b[0;34m(\u001b[0m\u001b[0mctx\u001b[0m\u001b[0;34m,\u001b[0m \u001b[0mdim\u001b[0m\u001b[0;34m,\u001b[0m \u001b[0;34m*\u001b[0m\u001b[0minputs\u001b[0m\u001b[0;34m)\u001b[0m\u001b[0;34m:\u001b[0m\u001b[0;34m\u001b[0m\u001b[0m\n\u001b[1;32m    315\u001b[0m         \u001b[0mctx\u001b[0m\u001b[0;34m.\u001b[0m\u001b[0mdim\u001b[0m \u001b[0;34m=\u001b[0m \u001b[0mdim\u001b[0m\u001b[0;34m\u001b[0m\u001b[0m\n\u001b[0;32m--> 316\u001b[0;31m         \u001b[0mctx\u001b[0m\u001b[0;34m.\u001b[0m\u001b[0minput_sizes\u001b[0m \u001b[0;34m=\u001b[0m \u001b[0;34m[\u001b[0m\u001b[0mi\u001b[0m\u001b[0;34m.\u001b[0m\u001b[0msize\u001b[0m\u001b[0;34m(\u001b[0m\u001b[0mdim\u001b[0m\u001b[0;34m)\u001b[0m \u001b[0;32mfor\u001b[0m \u001b[0mi\u001b[0m \u001b[0;32min\u001b[0m \u001b[0minputs\u001b[0m\u001b[0;34m]\u001b[0m\u001b[0;34m\u001b[0m\u001b[0m\n\u001b[0m\u001b[1;32m    317\u001b[0m         \u001b[0;32mreturn\u001b[0m \u001b[0mtorch\u001b[0m\u001b[0;34m.\u001b[0m\u001b[0mcat\u001b[0m\u001b[0;34m(\u001b[0m\u001b[0minputs\u001b[0m\u001b[0;34m,\u001b[0m \u001b[0mdim\u001b[0m\u001b[0;34m)\u001b[0m\u001b[0;34m\u001b[0m\u001b[0m\n\u001b[1;32m    318\u001b[0m \u001b[0;34m\u001b[0m\u001b[0m\n",
      "\u001b[0;32m~/anaconda3/envs/pytorch/lib/python3.6/site-packages/torch/autograd/_functions/tensor.py\u001b[0m in \u001b[0;36m<listcomp>\u001b[0;34m(.0)\u001b[0m\n\u001b[1;32m    314\u001b[0m     \u001b[0;32mdef\u001b[0m \u001b[0mforward\u001b[0m\u001b[0;34m(\u001b[0m\u001b[0mctx\u001b[0m\u001b[0;34m,\u001b[0m \u001b[0mdim\u001b[0m\u001b[0;34m,\u001b[0m \u001b[0;34m*\u001b[0m\u001b[0minputs\u001b[0m\u001b[0;34m)\u001b[0m\u001b[0;34m:\u001b[0m\u001b[0;34m\u001b[0m\u001b[0m\n\u001b[1;32m    315\u001b[0m         \u001b[0mctx\u001b[0m\u001b[0;34m.\u001b[0m\u001b[0mdim\u001b[0m \u001b[0;34m=\u001b[0m \u001b[0mdim\u001b[0m\u001b[0;34m\u001b[0m\u001b[0m\n\u001b[0;32m--> 316\u001b[0;31m         \u001b[0mctx\u001b[0m\u001b[0;34m.\u001b[0m\u001b[0minput_sizes\u001b[0m \u001b[0;34m=\u001b[0m \u001b[0;34m[\u001b[0m\u001b[0mi\u001b[0m\u001b[0;34m.\u001b[0m\u001b[0msize\u001b[0m\u001b[0;34m(\u001b[0m\u001b[0mdim\u001b[0m\u001b[0;34m)\u001b[0m \u001b[0;32mfor\u001b[0m \u001b[0mi\u001b[0m \u001b[0;32min\u001b[0m \u001b[0minputs\u001b[0m\u001b[0;34m]\u001b[0m\u001b[0;34m\u001b[0m\u001b[0m\n\u001b[0m\u001b[1;32m    317\u001b[0m         \u001b[0;32mreturn\u001b[0m \u001b[0mtorch\u001b[0m\u001b[0;34m.\u001b[0m\u001b[0mcat\u001b[0m\u001b[0;34m(\u001b[0m\u001b[0minputs\u001b[0m\u001b[0;34m,\u001b[0m \u001b[0mdim\u001b[0m\u001b[0;34m)\u001b[0m\u001b[0;34m\u001b[0m\u001b[0m\n\u001b[1;32m    318\u001b[0m \u001b[0;34m\u001b[0m\u001b[0m\n",
      "\u001b[0;31mAttributeError\u001b[0m: 'Node' object has no attribute 'size'"
     ]
    }
   ],
   "source": [
    "for j in range(100):\n",
    "    for i in range(100):\n",
    "        loss = mpnn.make_opt_step_batched(train_smiles[i:i+1], train_labels[i:i+1], 3)\n",
    "        print(i, loss)\n",
    "        losses.append(loss)\n",
    "    print(j)\n"
   ]
  },
  {
   "cell_type": "code",
   "execution_count": 213,
   "metadata": {},
   "outputs": [
    {
     "name": "stderr",
     "output_type": "stream",
     "text": [
      "[autoreload of mpnn.mpnn_directed failed: Traceback (most recent call last):\n",
      "  File \"/home/mkretov/anaconda3/envs/pytorch/lib/python3.6/site-packages/IPython/extensions/autoreload.py\", line 246, in check\n",
      "    superreload(m, reload, self.old_objects)\n",
      "  File \"/home/mkretov/anaconda3/envs/pytorch/lib/python3.6/site-packages/IPython/extensions/autoreload.py\", line 369, in superreload\n",
      "    module = reload(module)\n",
      "  File \"/home/mkretov/anaconda3/envs/pytorch/lib/python3.6/imp.py\", line 314, in reload\n",
      "    return importlib.reload(module)\n",
      "  File \"/home/mkretov/anaconda3/envs/pytorch/lib/python3.6/importlib/__init__.py\", line 166, in reload\n",
      "    _bootstrap._exec(spec, module)\n",
      "  File \"<frozen importlib._bootstrap>\", line 608, in _exec\n",
      "  File \"<frozen importlib._bootstrap_external>\", line 674, in exec_module\n",
      "  File \"<frozen importlib._bootstrap_external>\", line 781, in get_code\n",
      "  File \"<frozen importlib._bootstrap_external>\", line 741, in source_to_code\n",
      "  File \"<frozen importlib._bootstrap>\", line 205, in _call_with_frames_removed\n",
      "  File \"/home/mkretov/Desktop/mpnn/mpnn/mpnn_directed.py\", line 138\n",
      "    y_pred = self.R(h_dict[smile], h2_dict[smile])\n",
      "    ^\n",
      "IndentationError: unexpected indent\n",
      "]\n"
     ]
    },
    {
     "data": {
      "text/plain": [
       "[<matplotlib.lines.Line2D at 0x7f40a89a33c8>]"
      ]
     },
     "execution_count": 213,
     "metadata": {},
     "output_type": "execute_result"
    },
    {
     "data": {
      "image/png": "[encoded data removed]",
      "text/plain": [
       "<matplotlib.figure.Figure at 0x7f409b55f8d0>"
      ]
     },
     "metadata": {},
     "output_type": "display_data"
    }
   ],
   "source": [
    "plt.plot(rolling_mean(losses, 100))"
   ]
  },
  {
   "cell_type": "code",
   "execution_count": 211,
   "metadata": {
    "collapsed": true
   },
   "outputs": [],
   "source": [
    "res = []\n",
    "for i in range(100):\n",
    "    res.append(forward_pass(mpnn, train_smiles[i], passes).data[0][0])"
   ]
  },
  {
   "cell_type": "code",
   "execution_count": 212,
   "metadata": {},
   "outputs": [
    {
     "data": {
      "text/plain": [
       "(array([ 75.,  10.,   4.,   5.,   2.,   0.,   0.,   0.,   0.,   4.]),\n",
       " array([ 0. ,  0.1,  0.2,  0.3,  0.4,  0.5,  0.6,  0.7,  0.8,  0.9,  1. ]),\n",
       " <a list of 10 Patch objects>)"
      ]
     },
     "execution_count": 212,
     "metadata": {},
     "output_type": "execute_result"
    },
    {
     "data": {
      "image/png": "[encoded data removed]",
      "text/plain": [
       "<matplotlib.figure.Figure at 0x7f40e1dc2ac8>"
      ]
     },
     "metadata": {},
     "output_type": "display_data"
    }
   ],
   "source": [
    "plt.hist(res)"
   ]
  },
  {
   "cell_type": "code",
   "execution_count": 17,
   "metadata": {
    "collapsed": true
   },
   "outputs": [],
   "source": [
    "def forward_pass(self, x, t):\n",
    "    g, h = self.get_features_from_smiles(x)\n",
    "    g2, h2 = self.get_features_from_smiles(x)\n",
    "#     for k, v in h.items():\n",
    "#         print(v.data.numpy())\n",
    "    for k in range(0, t):\n",
    "        self.single_message_pass(g, h, k)\n",
    "#         print('*'*33)\n",
    "#         print(h[0])\n",
    "    y_pred = self.R(h, h2)\n",
    "    return y_pred"
   ]
  },
  {
   "cell_type": "code",
   "execution_count": 76,
   "metadata": {
    "collapsed": true
   },
   "outputs": [],
   "source": [
    "g, h = mpnn.get_features_from_smiles(train_smiles[10])"
   ]
  },
  {
   "cell_type": "code",
   "execution_count": null,
   "metadata": {
    "collapsed": true
   },
   "outputs": [],
   "source": [
    "np.array(losses[-50:]).mean()"
   ]
  },
  {
   "cell_type": "code",
   "execution_count": null,
   "metadata": {
    "collapsed": true
   },
   "outputs": [],
   "source": [
    "np.array(train_labels[:100]).mean()"
   ]
  },
  {
   "cell_type": "code",
   "execution_count": null,
   "metadata": {
    "collapsed": true,
    "scrolled": true
   },
   "outputs": [],
   "source": [
    "for i in range(50):\n",
    "    print(i, int(train_labels[i]), int(res[i]))"
   ]
  },
  {
   "cell_type": "code",
   "execution_count": null,
   "metadata": {
    "collapsed": true
   },
   "outputs": [],
   "source": [
    "r = (np.array(res) > 0.5).astype(int)"
   ]
  },
  {
   "cell_type": "code",
   "execution_count": 244,
   "metadata": {},
   "outputs": [
    {
     "data": {
      "text/plain": [
       "defaultdict(dict, {'E': {(Variable containing:\n",
       "                1  0  0  0  0  0\n",
       "               [torch.FloatTensor of size 1x6],): [0:0]E, (Variable containing:\n",
       "                1  0  0  0  0  0\n",
       "               [torch.FloatTensor of size 1x6],): [0:1]E, (Variable containing:\n",
       "                0  1  0  0  1  0\n",
       "               [torch.FloatTensor of size 1x6],): [0:2]E, (Variable containing:\n",
       "                1  0  0  0  1  0\n",
       "               [torch.FloatTensor of size 1x6],): [0:3]E, (Variable containing:\n",
       "                1  0  0  0  0  0\n",
       "               [torch.FloatTensor of size 1x6],): [0:4]E, (Variable containing:\n",
       "                1  0  0  0  0  0\n",
       "               [torch.FloatTensor of size 1x6],): [0:5]E, (Variable containing:\n",
       "                1  0  0  0  0  0\n",
       "               [torch.FloatTensor of size 1x6],): [0:6]E, (Variable containing:\n",
       "                0  1  0  0  1  0\n",
       "               [torch.FloatTensor of size 1x6],): [0:7]E, (Variable containing:\n",
       "                1  0  0  0  1  0\n",
       "               [torch.FloatTensor of size 1x6],): [0:8]E, (Variable containing:\n",
       "                1  0  0  0  0  0\n",
       "               [torch.FloatTensor of size 1x6],): [0:9]E, (Variable containing:\n",
       "                1  0  0  0  0  0\n",
       "               [torch.FloatTensor of size 1x6],): [0:10]E, (Variable containing:\n",
       "                1  0  0  0  0  0\n",
       "               [torch.FloatTensor of size 1x6],): [0:11]E, (Variable containing:\n",
       "                1  0  0  0  0  0\n",
       "               [torch.FloatTensor of size 1x6],): [0:12]E, (Variable containing:\n",
       "                1  0  0  0  0  0\n",
       "               [torch.FloatTensor of size 1x6],): [0:13]E},\n",
       "             'U_0': {([1:0]fold_cat,): [2:0]U_0,\n",
       "              ([5:0]fold_cat,): [6:0]U_0,\n",
       "              ([9:0]fold_cat,): [10:0]U_0,\n",
       "              ([9:1]fold_cat,): [10:1]U_0,\n",
       "              ([13:0]fold_cat,): [14:0]U_0,\n",
       "              ([17:0]fold_cat,): [18:0]U_0,\n",
       "              ([21:0]fold_cat,): [22:0]U_0,\n",
       "              ([25:0]fold_cat,): [26:0]U_0,\n",
       "              ([25:1]fold_cat,): [26:1]U_0,\n",
       "              ([17:1]fold_cat,): [18:1]U_0,\n",
       "              ([21:1]fold_cat,): [22:1]U_0,\n",
       "              ([25:2]fold_cat,): [26:2]U_0,\n",
       "              ([25:3]fold_cat,): [26:3]U_0,\n",
       "              ([25:4]fold_cat,): [26:4]U_0},\n",
       "             'U_1': {([9:2]fold_cat,): [10:0]U_1,\n",
       "              ([13:1]fold_cat,): [14:0]U_1,\n",
       "              ([17:2]fold_cat,): [18:0]U_1,\n",
       "              ([17:3]fold_cat,): [18:1]U_1,\n",
       "              ([21:2]fold_cat,): [22:0]U_1,\n",
       "              ([25:5]fold_cat,): [26:0]U_1,\n",
       "              ([29:0]fold_cat,): [30:0]U_1,\n",
       "              ([33:0]fold_cat,): [34:0]U_1,\n",
       "              ([33:1]fold_cat,): [34:1]U_1,\n",
       "              ([25:6]fold_cat,): [26:1]U_1,\n",
       "              ([29:1]fold_cat,): [30:1]U_1,\n",
       "              ([33:2]fold_cat,): [34:2]U_1,\n",
       "              ([33:3]fold_cat,): [34:3]U_1,\n",
       "              ([33:4]fold_cat,): [34:4]U_1},\n",
       "             'U_2': {([17:4]fold_cat,): [18:0]U_2,\n",
       "              ([21:3]fold_cat,): [22:0]U_2,\n",
       "              ([25:7]fold_cat,): [26:0]U_2,\n",
       "              ([25:8]fold_cat,): [26:1]U_2,\n",
       "              ([29:2]fold_cat,): [30:0]U_2,\n",
       "              ([33:5]fold_cat,): [34:0]U_2,\n",
       "              ([37:0]fold_cat,): [38:0]U_2,\n",
       "              ([41:0]fold_cat,): [42:0]U_2,\n",
       "              ([41:1]fold_cat,): [42:1]U_2,\n",
       "              ([33:6]fold_cat,): [34:1]U_2,\n",
       "              ([37:1]fold_cat,): [38:1]U_2,\n",
       "              ([41:2]fold_cat,): [42:2]U_2,\n",
       "              ([41:3]fold_cat,): [42:3]U_2,\n",
       "              ([41:4]fold_cat,): [42:4]U_2},\n",
       "             'V_0': {(Variable containing:\n",
       "               \n",
       "               Columns 0 to 12 \n",
       "                   1     0     0     0     0     0     0     0     0     0     0     0     0\n",
       "               \n",
       "               Columns 13 to 25 \n",
       "                   0     0     0     0     0     0     0     0     0     0     0     0     0\n",
       "               \n",
       "               Columns 26 to 38 \n",
       "                   0     0     0     0     0     0     0     0     0     0     0     0     0\n",
       "               \n",
       "               Columns 39 to 51 \n",
       "                   0     0     0     0     0     0     0     0     1     0     0     0     0\n",
       "               \n",
       "               Columns 52 to 64 \n",
       "                   0     0     0     1     0     0     0     0     1     0     0     0     0\n",
       "               \n",
       "               Columns 65 to 74 \n",
       "                   0     0     0     0     0     1     0     0     0     0\n",
       "               [torch.FloatTensor of size 1x75],): [0:0]V_0,\n",
       "              ([3:0]fold_non_lin,): [4:0]V_0,\n",
       "              ([7:0]fold_non_lin,): [8:0]V_0,\n",
       "              ([11:1]fold_non_lin,): [12:0]V_0,\n",
       "              ([15:0]fold_non_lin,): [16:0]V_0,\n",
       "              ([19:0]fold_non_lin,): [20:0]V_0,\n",
       "              ([23:0]fold_non_lin,): [24:0]V_0,\n",
       "              ([19:1]fold_non_lin,): [20:1]V_0,\n",
       "              ([23:1]fold_non_lin,): [24:1]V_0},\n",
       "             'V_1': {([7:0]fold_non_lin,): [8:0]V_1,\n",
       "              ([11:2]fold_non_lin,): [12:0]V_1,\n",
       "              ([15:1]fold_non_lin,): [16:0]V_1,\n",
       "              ([19:3]fold_non_lin,): [20:0]V_1,\n",
       "              ([23:2]fold_non_lin,): [24:0]V_1,\n",
       "              ([27:5]fold_non_lin,): [28:0]V_1,\n",
       "              ([31:0]fold_non_lin,): [32:0]V_1,\n",
       "              ([27:6]fold_non_lin,): [28:1]V_1,\n",
       "              ([31:1]fold_non_lin,): [32:1]V_1},\n",
       "             'V_2': {([15:1]fold_non_lin,): [16:0]V_2,\n",
       "              ([19:4]fold_non_lin,): [20:0]V_2,\n",
       "              ([23:3]fold_non_lin,): [24:0]V_2,\n",
       "              ([27:8]fold_non_lin,): [28:0]V_2,\n",
       "              ([31:2]fold_non_lin,): [32:0]V_2,\n",
       "              ([35:5]fold_non_lin,): [36:0]V_2,\n",
       "              ([39:0]fold_non_lin,): [40:0]V_2,\n",
       "              ([35:6]fold_non_lin,): [36:1]V_2,\n",
       "              ([39:1]fold_non_lin,): [40:1]V_2},\n",
       "             'fold_cat': {(Variable containing:\n",
       "               \n",
       "               Columns 0 to 12 \n",
       "                   1     0     0     0     0     0     0     0     0     0     0     0     0\n",
       "               \n",
       "               Columns 13 to 25 \n",
       "                   0     0     0     0     0     0     0     0     0     0     0     0     0\n",
       "               \n",
       "               Columns 26 to 38 \n",
       "                   0     0     0     0     0     0     0     0     0     0     0     0     0\n",
       "               \n",
       "               Columns 39 to 51 \n",
       "                   0     0     0     0     0     0     1     0     0     0     0     0     0\n",
       "               \n",
       "               Columns 52 to 64 \n",
       "                   0     0     0     0     0     0     1     0     0     0     0     1     0\n",
       "               \n",
       "               Columns 65 to 74 \n",
       "                   0     0     0     0     0     0     1     0     0     0\n",
       "               [torch.FloatTensor of size 1x75],\n",
       "               [0:0]V_0,\n",
       "               [0:0]E): [1:0]fold_cat,\n",
       "              (Variable containing:\n",
       "               \n",
       "               Columns 0 to 12 \n",
       "                   1     0     0     0     0     0     0     0     0     0     0     0     0\n",
       "               \n",
       "               Columns 13 to 25 \n",
       "                   0     0     0     0     0     0     0     0     0     0     0     0     0\n",
       "               \n",
       "               Columns 26 to 38 \n",
       "                   0     0     0     0     0     0     0     0     0     0     0     0     0\n",
       "               \n",
       "               Columns 39 to 51 \n",
       "                   0     0     0     0     0     0     0     0     1     0     0     0     0\n",
       "               \n",
       "               Columns 52 to 64 \n",
       "                   0     0     0     1     0     0     0     0     1     0     0     0     0\n",
       "               \n",
       "               Columns 65 to 74 \n",
       "                   0     0     0     0     0     1     0     0     0     0\n",
       "               [torch.FloatTensor of size 1x75],\n",
       "               [4:0]V_0,\n",
       "               [0:1]E): [5:0]fold_cat,\n",
       "              (Variable containing:\n",
       "               \n",
       "               Columns 0 to 12 \n",
       "                   0     0     1     0     0     0     0     0     0     0     0     0     0\n",
       "               \n",
       "               Columns 13 to 25 \n",
       "                   0     0     0     0     0     0     0     0     0     0     0     0     0\n",
       "               \n",
       "               Columns 26 to 38 \n",
       "                   0     0     0     0     0     0     0     0     0     0     0     0     0\n",
       "               \n",
       "               Columns 39 to 51 \n",
       "                   0     0     0     0     0     0     1     0     0     0     0     0     0\n",
       "               \n",
       "               Columns 52 to 64 \n",
       "                   0     0     0     1     0     0     0     0     1     0     0     0     0\n",
       "               \n",
       "               Columns 65 to 74 \n",
       "                   0     0     0     0     0     1     0     0     0     0\n",
       "               [torch.FloatTensor of size 1x75],\n",
       "               [8:0]V_0,\n",
       "               [0:2]E): [9:0]fold_cat,\n",
       "              (Variable containing:\n",
       "               \n",
       "               Columns 0 to 12 \n",
       "                   0     0     1     0     0     0     0     0     0     0     0     0     0\n",
       "               \n",
       "               Columns 13 to 25 \n",
       "                   0     0     0     0     0     0     0     0     0     0     0     0     0\n",
       "               \n",
       "               Columns 26 to 38 \n",
       "                   0     0     0     0     0     0     0     0     0     0     0     0     0\n",
       "               \n",
       "               Columns 39 to 51 \n",
       "                   0     0     0     0     0     0     0     1     0     0     0     0     0\n",
       "               \n",
       "               Columns 52 to 64 \n",
       "                   0     0     0     1     0     0     0     0     1     0     0     0     0\n",
       "               \n",
       "               Columns 65 to 74 \n",
       "                   0     0     0     0     0     1     0     0     0     0\n",
       "               [torch.FloatTensor of size 1x75],\n",
       "               [8:0]V_0,\n",
       "               [0:3]E): [9:1]fold_cat,\n",
       "              (Variable containing:\n",
       "               \n",
       "               Columns 0 to 12 \n",
       "                   1     0     0     0     0     0     0     0     0     0     0     0     0\n",
       "               \n",
       "               Columns 13 to 25 \n",
       "                   0     0     0     0     0     0     0     0     0     0     0     0     0\n",
       "               \n",
       "               Columns 26 to 38 \n",
       "                   0     0     0     0     0     0     0     0     0     0     0     0     0\n",
       "               \n",
       "               Columns 39 to 51 \n",
       "                   0     0     0     0     0     0     0     0     1     0     0     0     0\n",
       "               \n",
       "               Columns 52 to 64 \n",
       "                   0     0     0     0     1     0     0     0     0     1     0     0     0\n",
       "               \n",
       "               Columns 65 to 74 \n",
       "                   0     0     0     0     0     0     1     0     0     0\n",
       "               [torch.FloatTensor of size 1x75],\n",
       "               [12:0]V_0,\n",
       "               [0:4]E): [13:0]fold_cat,\n",
       "              (Variable containing:\n",
       "               \n",
       "               Columns 0 to 12 \n",
       "                   1     0     0     0     0     0     0     0     0     0     0     0     0\n",
       "               \n",
       "               Columns 13 to 25 \n",
       "                   0     0     0     0     0     0     0     0     0     0     0     0     0\n",
       "               \n",
       "               Columns 26 to 38 \n",
       "                   0     0     0     0     0     0     0     0     0     0     0     0     0\n",
       "               \n",
       "               Columns 39 to 51 \n",
       "                   0     0     0     0     0     0     0     1     0     0     0     0     0\n",
       "               \n",
       "               Columns 52 to 64 \n",
       "                   0     0     0     0     0     1     0     0     0     0     1     0     0\n",
       "               \n",
       "               Columns 65 to 74 \n",
       "                   0     0     0     0     0     0     1     0     0     0\n",
       "               [torch.FloatTensor of size 1x75],\n",
       "               [16:0]V_0,\n",
       "               [0:5]E): [17:0]fold_cat,\n",
       "              (Variable containing:\n",
       "               \n",
       "               Columns 0 to 12 \n",
       "                   1     0     0     0     0     0     0     0     0     0     0     0     0\n",
       "               \n",
       "               Columns 13 to 25 \n",
       "                   0     0     0     0     0     0     0     0     0     0     0     0     0\n",
       "               \n",
       "               Columns 26 to 38 \n",
       "                   0     0     0     0     0     0     0     0     0     0     0     0     0\n",
       "               \n",
       "               Columns 39 to 51 \n",
       "                   0     0     0     0     0     0     0     0     1     0     0     0     0\n",
       "               \n",
       "               Columns 52 to 64 \n",
       "                   0     0     0     1     0     0     0     0     1     0     0     0     0\n",
       "               \n",
       "               Columns 65 to 74 \n",
       "                   0     0     0     0     0     1     0     0     0     0\n",
       "               [torch.FloatTensor of size 1x75],\n",
       "               [20:0]V_0,\n",
       "               [0:6]E): [21:0]fold_cat,\n",
       "              (Variable containing:\n",
       "               \n",
       "               Columns 0 to 12 \n",
       "                   0     0     1     0     0     0     0     0     0     0     0     0     0\n",
       "               \n",
       "               Columns 13 to 25 \n",
       "                   0     0     0     0     0     0     0     0     0     0     0     0     0\n",
       "               \n",
       "               Columns 26 to 38 \n",
       "                   0     0     0     0     0     0     0     0     0     0     0     0     0\n",
       "               \n",
       "               Columns 39 to 51 \n",
       "                   0     0     0     0     0     0     1     0     0     0     0     0     0\n",
       "               \n",
       "               Columns 52 to 64 \n",
       "                   0     0     0     1     0     0     0     0     1     0     0     0     0\n",
       "               \n",
       "               Columns 65 to 74 \n",
       "                   0     0     0     0     0     1     0     0     0     0\n",
       "               [torch.FloatTensor of size 1x75],\n",
       "               [24:0]V_0,\n",
       "               [0:7]E): [25:0]fold_cat,\n",
       "              (Variable containing:\n",
       "               \n",
       "               Columns 0 to 12 \n",
       "                   0     0     1     0     0     0     0     0     0     0     0     0     0\n",
       "               \n",
       "               Columns 13 to 25 \n",
       "                   0     0     0     0     0     0     0     0     0     0     0     0     0\n",
       "               \n",
       "               Columns 26 to 38 \n",
       "                   0     0     0     0     0     0     0     0     0     0     0     0     0\n",
       "               \n",
       "               Columns 39 to 51 \n",
       "                   0     0     0     0     0     0     1     0     0     0     0     0     0\n",
       "               \n",
       "               Columns 52 to 64 \n",
       "                   0     0     0     1     0     0     0     0     1     0     0     0     0\n",
       "               \n",
       "               Columns 65 to 74 \n",
       "                   0     0    -1     0     0     1     0     0     0     0\n",
       "               [torch.FloatTensor of size 1x75],\n",
       "               [24:0]V_0,\n",
       "               [0:8]E): [25:1]fold_cat,\n",
       "              (Variable containing:\n",
       "               \n",
       "               Columns 0 to 12 \n",
       "                   1     0     0     0     0     0     0     0     0     0     0     0     0\n",
       "               \n",
       "               Columns 13 to 25 \n",
       "                   0     0     0     0     0     0     0     0     0     0     0     0     0\n",
       "               \n",
       "               Columns 26 to 38 \n",
       "                   0     0     0     0     0     0     0     0     0     0     0     0     0\n",
       "               \n",
       "               Columns 39 to 51 \n",
       "                   0     0     0     0     0     0     0     1     0     0     0     0     0\n",
       "               \n",
       "               Columns 52 to 64 \n",
       "                   0     0     0     0     0     1     0     0     0     0     1     0     0\n",
       "               \n",
       "               Columns 65 to 74 \n",
       "                   0     0     0     0     0     0     1     0     0     0\n",
       "               [torch.FloatTensor of size 1x75],\n",
       "               [16:0]V_0,\n",
       "               [0:9]E): [17:1]fold_cat,\n",
       "              (Variable containing:\n",
       "               \n",
       "               Columns 0 to 12 \n",
       "                   0     1     0     0     0     0     0     0     0     0     0     0     0\n",
       "               \n",
       "               Columns 13 to 25 \n",
       "                   0     0     0     0     0     0     0     0     0     0     0     0     0\n",
       "               \n",
       "               Columns 26 to 38 \n",
       "                   0     0     0     0     0     0     0     0     0     0     0     0     0\n",
       "               \n",
       "               Columns 39 to 51 \n",
       "                   0     0     0     0     0     0     0     0     0     1     0     0     0\n",
       "               \n",
       "               Columns 52 to 64 \n",
       "                   0     0     0     1     0     0     0     0     1     0     0     0     0\n",
       "               \n",
       "               Columns 65 to 74 \n",
       "                   0     0     1     0     0     0     1     0     0     0\n",
       "               [torch.FloatTensor of size 1x75],\n",
       "               [20:1]V_0,\n",
       "               [0:10]E): [21:1]fold_cat,\n",
       "              (Variable containing:\n",
       "               \n",
       "               Columns 0 to 12 \n",
       "                   1     0     0     0     0     0     0     0     0     0     0     0     0\n",
       "               \n",
       "               Columns 13 to 25 \n",
       "                   0     0     0     0     0     0     0     0     0     0     0     0     0\n",
       "               \n",
       "               Columns 26 to 38 \n",
       "                   0     0     0     0     0     0     0     0     0     0     0     0     0\n",
       "               \n",
       "               Columns 39 to 51 \n",
       "                   0     0     0     0     0     0     1     0     0     0     0     0     0\n",
       "               \n",
       "               Columns 52 to 64 \n",
       "                   0     0     0     0     0     0     1     0     0     0     0     1     0\n",
       "               \n",
       "               Columns 65 to 74 \n",
       "                   0     0     0     0     0     0     1     0     0     0\n",
       "               [torch.FloatTensor of size 1x75],\n",
       "               [24:1]V_0,\n",
       "               [0:11]E): [25:2]fold_cat,\n",
       "              (Variable containing:\n",
       "               \n",
       "               Columns 0 to 12 \n",
       "                   1     0     0     0     0     0     0     0     0     0     0     0     0\n",
       "               \n",
       "               Columns 13 to 25 \n",
       "                   0     0     0     0     0     0     0     0     0     0     0     0     0\n",
       "               \n",
       "               Columns 26 to 38 \n",
       "                   0     0     0     0     0     0     0     0     0     0     0     0     0\n",
       "               \n",
       "               Columns 39 to 51 \n",
       "                   0     0     0     0     0     0     1     0     0     0     0     0     0\n",
       "               \n",
       "               Columns 52 to 64 \n",
       "                   0     0     0     0     0     0     1     0     0     0     0     1     0\n",
       "               \n",
       "               Columns 65 to 74 \n",
       "                   0     0     0     0     0     0     1     0     0     0\n",
       "               [torch.FloatTensor of size 1x75],\n",
       "               [24:1]V_0,\n",
       "               [0:12]E): [25:3]fold_cat,\n",
       "              (Variable containing:\n",
       "               \n",
       "               Columns 0 to 12 \n",
       "                   1     0     0     0     0     0     0     0     0     0     0     0     0\n",
       "               \n",
       "               Columns 13 to 25 \n",
       "                   0     0     0     0     0     0     0     0     0     0     0     0     0\n",
       "               \n",
       "               Columns 26 to 38 \n",
       "                   0     0     0     0     0     0     0     0     0     0     0     0     0\n",
       "               \n",
       "               Columns 39 to 51 \n",
       "                   0     0     0     0     0     0     1     0     0     0     0     0     0\n",
       "               \n",
       "               Columns 52 to 64 \n",
       "                   0     0     0     0     0     0     1     0     0     0     0     1     0\n",
       "               \n",
       "               Columns 65 to 74 \n",
       "                   0     0     0     0     0     0     1     0     0     0\n",
       "               [torch.FloatTensor of size 1x75],\n",
       "               [24:1]V_0,\n",
       "               [0:13]E): [25:4]fold_cat,\n",
       "              ([3:0]fold_non_lin, [8:0]V_1, [0:0]E): [9:2]fold_cat,\n",
       "              ([7:0]fold_non_lin, [12:0]V_1, [0:1]E): [13:1]fold_cat,\n",
       "              ([11:0]fold_non_lin, [16:0]V_1, [0:2]E): [17:2]fold_cat,\n",
       "              ([11:1]fold_non_lin, [16:0]V_1, [0:3]E): [17:3]fold_cat,\n",
       "              ([15:0]fold_non_lin, [20:0]V_1, [0:4]E): [21:2]fold_cat,\n",
       "              ([19:0]fold_non_lin, [24:0]V_1, [0:5]E): [25:5]fold_cat,\n",
       "              ([23:0]fold_non_lin, [28:0]V_1, [0:6]E): [29:0]fold_cat,\n",
       "              ([27:0]fold_non_lin, [32:0]V_1, [0:7]E): [33:0]fold_cat,\n",
       "              ([27:1]fold_non_lin, [32:0]V_1, [0:8]E): [33:1]fold_cat,\n",
       "              ([19:1]fold_non_lin, [24:0]V_1, [0:9]E): [25:6]fold_cat,\n",
       "              ([23:1]fold_non_lin, [28:1]V_1, [0:10]E): [29:1]fold_cat,\n",
       "              ([27:2]fold_non_lin, [32:1]V_1, [0:11]E): [33:2]fold_cat,\n",
       "              ([27:3]fold_non_lin, [32:1]V_1, [0:12]E): [33:3]fold_cat,\n",
       "              ([27:4]fold_non_lin, [32:1]V_1, [0:13]E): [33:4]fold_cat,\n",
       "              ([11:2]fold_non_lin, [16:0]V_2, [0:0]E): [17:4]fold_cat,\n",
       "              ([15:1]fold_non_lin, [20:0]V_2, [0:1]E): [21:3]fold_cat,\n",
       "              ([19:2]fold_non_lin, [24:0]V_2, [0:2]E): [25:7]fold_cat,\n",
       "              ([19:3]fold_non_lin, [24:0]V_2, [0:3]E): [25:8]fold_cat,\n",
       "              ([23:2]fold_non_lin, [28:0]V_2, [0:4]E): [29:2]fold_cat,\n",
       "              ([27:5]fold_non_lin, [32:0]V_2, [0:5]E): [33:5]fold_cat,\n",
       "              ([31:0]fold_non_lin, [36:0]V_2, [0:6]E): [37:0]fold_cat,\n",
       "              ([35:0]fold_non_lin, [40:0]V_2, [0:7]E): [41:0]fold_cat,\n",
       "              ([35:1]fold_non_lin, [40:0]V_2, [0:8]E): [41:1]fold_cat,\n",
       "              ([27:6]fold_non_lin, [32:0]V_2, [0:9]E): [33:6]fold_cat,\n",
       "              ([31:1]fold_non_lin, [36:1]V_2, [0:10]E): [37:1]fold_cat,\n",
       "              ([35:2]fold_non_lin, [40:1]V_2, [0:11]E): [41:2]fold_cat,\n",
       "              ([35:3]fold_non_lin, [40:1]V_2, [0:12]E): [41:3]fold_cat,\n",
       "              ([35:4]fold_non_lin, [40:1]V_2, [0:13]E): [41:4]fold_cat},\n",
       "             'fold_non_lin': {([2:0]U_0,): [3:0]fold_non_lin,\n",
       "              ([6:0]U_0,): [7:0]fold_non_lin,\n",
       "              ([10:0]U_0,): [11:0]fold_non_lin,\n",
       "              ([10:1]U_0,): [11:1]fold_non_lin,\n",
       "              ([14:0]U_0,): [15:0]fold_non_lin,\n",
       "              ([18:0]U_0,): [19:0]fold_non_lin,\n",
       "              ([22:0]U_0,): [23:0]fold_non_lin,\n",
       "              ([26:0]U_0,): [27:0]fold_non_lin,\n",
       "              ([26:1]U_0,): [27:1]fold_non_lin,\n",
       "              ([18:1]U_0,): [19:1]fold_non_lin,\n",
       "              ([22:1]U_0,): [23:1]fold_non_lin,\n",
       "              ([26:2]U_0,): [27:2]fold_non_lin,\n",
       "              ([26:3]U_0,): [27:3]fold_non_lin,\n",
       "              ([26:4]U_0,): [27:4]fold_non_lin,\n",
       "              ([10:0]U_1,): [11:2]fold_non_lin,\n",
       "              ([14:0]U_1,): [15:1]fold_non_lin,\n",
       "              ([18:0]U_1,): [19:2]fold_non_lin,\n",
       "              ([18:1]U_1,): [19:3]fold_non_lin,\n",
       "              ([22:0]U_1,): [23:2]fold_non_lin,\n",
       "              ([26:0]U_1,): [27:5]fold_non_lin,\n",
       "              ([30:0]U_1,): [31:0]fold_non_lin,\n",
       "              ([34:0]U_1,): [35:0]fold_non_lin,\n",
       "              ([34:1]U_1,): [35:1]fold_non_lin,\n",
       "              ([26:1]U_1,): [27:6]fold_non_lin,\n",
       "              ([30:1]U_1,): [31:1]fold_non_lin,\n",
       "              ([34:2]U_1,): [35:2]fold_non_lin,\n",
       "              ([34:3]U_1,): [35:3]fold_non_lin,\n",
       "              ([34:4]U_1,): [35:4]fold_non_lin,\n",
       "              ([18:0]U_2,): [19:4]fold_non_lin,\n",
       "              ([22:0]U_2,): [23:3]fold_non_lin,\n",
       "              ([26:0]U_2,): [27:7]fold_non_lin,\n",
       "              ([26:1]U_2,): [27:8]fold_non_lin,\n",
       "              ([30:0]U_2,): [31:2]fold_non_lin,\n",
       "              ([34:0]U_2,): [35:5]fold_non_lin,\n",
       "              ([38:0]U_2,): [39:0]fold_non_lin,\n",
       "              ([42:0]U_2,): [43:0]fold_non_lin,\n",
       "              ([42:1]U_2,): [43:1]fold_non_lin,\n",
       "              ([34:1]U_2,): [35:6]fold_non_lin,\n",
       "              ([38:1]U_2,): [39:1]fold_non_lin,\n",
       "              ([42:2]U_2,): [43:2]fold_non_lin,\n",
       "              ([42:3]U_2,): [43:3]fold_non_lin,\n",
       "              ([42:4]U_2,): [43:4]fold_non_lin}})"
      ]
     },
     "execution_count": 244,
     "metadata": {},
     "output_type": "execute_result"
    }
   ],
   "source": [
    "mpnn.fold.cached_nodes"
   ]
  },
  {
   "cell_type": "code",
   "execution_count": 215,
   "metadata": {},
   "outputs": [
    {
     "data": {
      "text/plain": [
       "[[1, 2], [5, 5, 5]]"
      ]
     },
     "execution_count": 215,
     "metadata": {},
     "output_type": "execute_result"
    }
   ],
   "source": [
    "a = []\n",
    "a.append([1, 2])\n",
    "a.append([5,5,5])\n",
    "a"
   ]
  },
  {
   "cell_type": "markdown",
   "metadata": {},
   "source": [
    "## 2. Undirected models"
   ]
  },
  {
   "cell_type": "code",
   "execution_count": null,
   "metadata": {
    "collapsed": true
   },
   "outputs": [],
   "source": []
  },
  {
   "cell_type": "code",
   "execution_count": null,
   "metadata": {
    "collapsed": true
   },
   "outputs": [],
   "source": []
  },
  {
   "cell_type": "code",
   "execution_count": null,
   "metadata": {
    "collapsed": true
   },
   "outputs": [],
   "source": [
    "for p in mpnn.params:\n",
    "    print(p.requires_grad)"
   ]
  },
  {
   "cell_type": "code",
   "execution_count": null,
   "metadata": {
    "collapsed": true
   },
   "outputs": [],
   "source": [
    "mpnn.params[-2]"
   ]
  },
  {
   "cell_type": "code",
   "execution_count": null,
   "metadata": {
    "collapsed": true
   },
   "outputs": [],
   "source": [
    "for p in mpnn.params:\n",
    "    print(p.data.size())"
   ]
  }
 ],
 "metadata": {
  "kernelspec": {
   "display_name": "Python 3",
   "language": "python",
   "name": "python3"
  },
  "language_info": {
   "codemirror_mode": {
    "name": "ipython",
    "version": 3
   },
   "file_extension": ".py",
   "mimetype": "text/x-python",
   "name": "python",
   "nbconvert_exporter": "python",
   "pygments_lexer": "ipython3",
   "version": "3.6.2"
  }
 },
 "nbformat": 4,
 "nbformat_minor": 2
}
