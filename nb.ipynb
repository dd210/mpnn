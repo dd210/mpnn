{
 "cells": [
  {
   "cell_type": "markdown",
   "metadata": {
    "collapsed": true
   },
   "source": [
    "# Neural Message Passing for Quantum Chemistry\n",
    "\n",
    "Ref: https://arxiv.org/pdf/1704.01212.pdf\n",
    "\n",
    "Assumptions:\n",
    "1. Hidden states for atoms are not updated (only for atoms)."
   ]
  },
  {
   "cell_type": "markdown",
   "metadata": {},
   "source": [
    "## 1. Directed models"
   ]
  },
  {
   "cell_type": "code",
   "execution_count": 1,
   "metadata": {
    "collapsed": true
   },
   "outputs": [],
   "source": [
    "%load_ext autoreload\n",
    "%autoreload 2\n",
    "%matplotlib inline"
   ]
  },
  {
   "cell_type": "code",
   "execution_count": 12,
   "metadata": {
    "collapsed": true
   },
   "outputs": [],
   "source": [
    "import torch.optim as optim\n",
    "import matplotlib.pyplot as plt\n",
    "import numpy as np\n",
    "import torch\n",
    "\n",
    "from torch.autograd import Variable\n",
    "from utils import rolling_mean, CUDA_wrapper\n",
    "from data import DataPreprocessor\n",
    "from mpnn.mpnn_directed import MPNNdirected\n",
    "from mpnn.directed import Rd, Vd, Ud, Ed"
   ]
  },
  {
   "cell_type": "code",
   "execution_count": 3,
   "metadata": {
    "collapsed": true
   },
   "outputs": [],
   "source": [
    "AT_FEAT = 75\n",
    "EDG_FEAT = 6\n",
    "PASSES = 4\n",
    "HID_SIZE = 32\n",
    "CUDA = False\n",
    "DATASET = 'data.test'\n",
    "FLT_DOTS = True\n",
    "FLT_ATOMS = True"
   ]
  },
  {
   "cell_type": "code",
   "execution_count": 4,
   "metadata": {
    "collapsed": true
   },
   "outputs": [],
   "source": [
    "rd = Rd(inp_size=AT_FEAT, hid_size=HID_SIZE)\n",
    "vd = Vd(inp_size=AT_FEAT)\n",
    "ud = Ud(inp_size=AT_FEAT*2+EDG_FEAT, out_size=AT_FEAT)\n",
    "ed = Ed(inp_size=EDG_FEAT)"
   ]
  },
  {
   "cell_type": "code",
   "execution_count": 13,
   "metadata": {
    "collapsed": true
   },
   "outputs": [],
   "source": [
    "mpnn = MPNNdirected(rd, ud, vd, ed, t=PASSES, cuda=CUDA)"
   ]
  },
  {
   "cell_type": "code",
   "execution_count": 6,
   "metadata": {
    "collapsed": true
   },
   "outputs": [],
   "source": [
    "data = DataPreprocessor(DATASET, filter_dots=FLT_DOTS, filter_atoms=FLT_ATOMS)"
   ]
  },
  {
   "cell_type": "code",
   "execution_count": 7,
   "metadata": {},
   "outputs": [
    {
     "name": "stdout",
     "output_type": "stream",
     "text": [
      "File data.test read. In total 586 lines.\n"
     ]
    }
   ],
   "source": [
    "data.load_dataset()"
   ]
  },
  {
   "cell_type": "code",
   "execution_count": 8,
   "metadata": {},
   "outputs": [
    {
     "name": "stdout",
     "output_type": "stream",
     "text": [
      "Data filtered, in total 112 smiles deleted\n"
     ]
    }
   ],
   "source": [
    "data.filter_data()"
   ]
  },
  {
   "cell_type": "code",
   "execution_count": 9,
   "metadata": {},
   "outputs": [
    {
     "name": "stdout",
     "output_type": "stream",
     "text": [
      "File data.test read. In total 586 lines.\n",
      "Data filtered, in total 112 smiles deleted\n",
      "About to generate scaffolds\n",
      "Generating scaffold 0/474\n",
      "About to sort in scaffold sets\n"
     ]
    }
   ],
   "source": [
    "train_smiles, train_labels, valid_smiles, valid_labels, test_smiles, test_labels = data.get_data()"
   ]
  },
  {
   "cell_type": "code",
   "execution_count": 10,
   "metadata": {
    "collapsed": true
   },
   "outputs": [],
   "source": [
    "train_x = [mpnn.get_features_from_smiles(x, cuda=CUDA) for x in train_smiles]\n",
    "train_y = train_labels"
   ]
  },
  {
   "cell_type": "code",
   "execution_count": 16,
   "metadata": {},
   "outputs": [
    {
     "name": "stdout",
     "output_type": "stream",
     "text": [
      "Error while executing node V_0[24] with args: [([23:3]fold_non_lin,), ([23:7]fold_non_lin,), ([23:13]fold_non_lin,), ([23:18]fold_non_lin,), ([23:22]fold_non_lin,), ([23:27]fold_non_lin,), ([23:32]fold_non_lin,), ([23:37]fold_non_lin,), ([23:44]fold_non_lin,), ([23:55]fold_non_lin,)]\n"
     ]
    },
    {
     "ename": "KeyError",
     "evalue": "23",
     "output_type": "error",
     "traceback": [
      "\u001b[0;31m---------------------------------------------------------------------------\u001b[0m",
      "\u001b[0;31mKeyError\u001b[0m                                  Traceback (most recent call last)",
      "\u001b[0;32m<timed exec>\u001b[0m in \u001b[0;36m<module>\u001b[0;34m()\u001b[0m\n",
      "\u001b[0;32m~/Desktop/mpnn/mpnn/mpnn_directed.py\u001b[0m in \u001b[0;36mmake_opt_step_batched\u001b[0;34m(self, batch_x, batch_y, t)\u001b[0m\n\u001b[1;32m    127\u001b[0m                 \u001b[0mself\u001b[0m\u001b[0;34m.\u001b[0m\u001b[0msingle_message_pass_dyn_batched\u001b[0m\u001b[0;34m(\u001b[0m\u001b[0mg\u001b[0m\u001b[0;34m,\u001b[0m \u001b[0mh\u001b[0m\u001b[0;34m,\u001b[0m \u001b[0mk\u001b[0m\u001b[0;34m,\u001b[0m \u001b[0mfold\u001b[0m\u001b[0;34m)\u001b[0m\u001b[0;34m\u001b[0m\u001b[0m\n\u001b[1;32m    128\u001b[0m             \u001b[0mfolded_nodes\u001b[0m\u001b[0;34m.\u001b[0m\u001b[0mappend\u001b[0m\u001b[0;34m(\u001b[0m\u001b[0mlist\u001b[0m\u001b[0;34m(\u001b[0m\u001b[0mh\u001b[0m\u001b[0;34m.\u001b[0m\u001b[0mvalues\u001b[0m\u001b[0;34m(\u001b[0m\u001b[0;34m)\u001b[0m\u001b[0;34m)\u001b[0m\u001b[0;34m)\u001b[0m\u001b[0;34m\u001b[0m\u001b[0m\n\u001b[0;32m--> 129\u001b[0;31m         \u001b[0mresults\u001b[0m \u001b[0;34m=\u001b[0m \u001b[0mfold\u001b[0m\u001b[0;34m.\u001b[0m\u001b[0mapply\u001b[0m\u001b[0;34m(\u001b[0m\u001b[0mself\u001b[0m\u001b[0;34m,\u001b[0m \u001b[0mfolded_nodes\u001b[0m\u001b[0;34m)\u001b[0m\u001b[0;34m\u001b[0m\u001b[0m\n\u001b[0m\u001b[1;32m    130\u001b[0m         \u001b[0my_pred\u001b[0m \u001b[0;34m=\u001b[0m \u001b[0mtorch\u001b[0m\u001b[0;34m.\u001b[0m\u001b[0mcat\u001b[0m\u001b[0;34m(\u001b[0m\u001b[0;34m[\u001b[0m\u001b[0mself\u001b[0m\u001b[0;34m.\u001b[0m\u001b[0mR\u001b[0m\u001b[0;34m(\u001b[0m\u001b[0mx\u001b[0m\u001b[0;34m)\u001b[0m \u001b[0;32mfor\u001b[0m \u001b[0mx\u001b[0m  \u001b[0;32min\u001b[0m \u001b[0mresults\u001b[0m\u001b[0;34m]\u001b[0m\u001b[0;34m,\u001b[0m \u001b[0mdim\u001b[0m\u001b[0;34m=\u001b[0m\u001b[0;36m0\u001b[0m\u001b[0;34m)\u001b[0m\u001b[0;34m\u001b[0m\u001b[0m\n\u001b[1;32m    131\u001b[0m         \u001b[0my_true\u001b[0m \u001b[0;34m=\u001b[0m \u001b[0mVariable\u001b[0m\u001b[0;34m(\u001b[0m\u001b[0mtorch\u001b[0m\u001b[0;34m.\u001b[0m\u001b[0mFloatTensor\u001b[0m\u001b[0;34m(\u001b[0m\u001b[0mbatch_y\u001b[0m\u001b[0;34m)\u001b[0m\u001b[0;34m.\u001b[0m\u001b[0mview\u001b[0m\u001b[0;34m(\u001b[0m\u001b[0;34m-\u001b[0m\u001b[0;36m1\u001b[0m\u001b[0;34m,\u001b[0m \u001b[0;36m1\u001b[0m\u001b[0;34m)\u001b[0m\u001b[0;34m)\u001b[0m\u001b[0;34m\u001b[0m\u001b[0m\n",
      "\u001b[0;32m~/Desktop/mpnn/torchfold.py\u001b[0m in \u001b[0;36mapply\u001b[0;34m(self, nn, nodes)\u001b[0m\n\u001b[1;32m    109\u001b[0m                     \u001b[0;31m#print('step: {}'.format(step))\u001b[0m\u001b[0;34m\u001b[0m\u001b[0;34m\u001b[0m\u001b[0m\n\u001b[1;32m    110\u001b[0m                     batched_args = self._batch_args(\n\u001b[0;32m--> 111\u001b[0;31m                         zip(*self.steps[step][op]), values)\n\u001b[0m\u001b[1;32m    112\u001b[0m                 \u001b[0;32mexcept\u001b[0m \u001b[0mException\u001b[0m\u001b[0;34m:\u001b[0m\u001b[0;34m\u001b[0m\u001b[0m\n\u001b[1;32m    113\u001b[0m                     print(\"Error while executing node %s[%d] with args: %s\" % (\n",
      "\u001b[0;32m~/Desktop/mpnn/torchfold.py\u001b[0m in \u001b[0;36m_batch_args\u001b[0;34m(self, arg_lists, values)\u001b[0m\n\u001b[1;32m     76\u001b[0m                 \u001b[0;32mif\u001b[0m \u001b[0marg\u001b[0m\u001b[0;34m[\u001b[0m\u001b[0;36m0\u001b[0m\u001b[0;34m]\u001b[0m\u001b[0;34m.\u001b[0m\u001b[0mbatch\u001b[0m\u001b[0;34m:\u001b[0m\u001b[0;34m\u001b[0m\u001b[0m\n\u001b[1;32m     77\u001b[0m                     \u001b[0;32mfor\u001b[0m \u001b[0mx\u001b[0m \u001b[0;32min\u001b[0m \u001b[0marg\u001b[0m\u001b[0;34m:\u001b[0m\u001b[0;34m\u001b[0m\u001b[0m\n\u001b[0;32m---> 78\u001b[0;31m                         \u001b[0mr\u001b[0m\u001b[0;34m.\u001b[0m\u001b[0mappend\u001b[0m\u001b[0;34m(\u001b[0m\u001b[0mx\u001b[0m\u001b[0;34m.\u001b[0m\u001b[0mget\u001b[0m\u001b[0;34m(\u001b[0m\u001b[0mvalues\u001b[0m\u001b[0;34m)\u001b[0m\u001b[0;34m)\u001b[0m\u001b[0;34m\u001b[0m\u001b[0m\n\u001b[0m\u001b[1;32m     79\u001b[0m                     \u001b[0mres\u001b[0m\u001b[0;34m.\u001b[0m\u001b[0mappend\u001b[0m\u001b[0;34m(\u001b[0m\u001b[0mtorch\u001b[0m\u001b[0;34m.\u001b[0m\u001b[0mcat\u001b[0m\u001b[0;34m(\u001b[0m\u001b[0mr\u001b[0m\u001b[0;34m,\u001b[0m \u001b[0;36m0\u001b[0m\u001b[0;34m)\u001b[0m\u001b[0;34m)\u001b[0m\u001b[0;34m\u001b[0m\u001b[0m\n\u001b[1;32m     80\u001b[0m                 \u001b[0;32melse\u001b[0m\u001b[0;34m:\u001b[0m\u001b[0;34m\u001b[0m\u001b[0m\n",
      "\u001b[0;32m~/Desktop/mpnn/torchfold.py\u001b[0m in \u001b[0;36mget\u001b[0;34m(self, values)\u001b[0m\n\u001b[1;32m     37\u001b[0m                 \u001b[0;32mreturn\u001b[0m \u001b[0mvalues\u001b[0m\u001b[0;34m[\u001b[0m\u001b[0mself\u001b[0m\u001b[0;34m.\u001b[0m\u001b[0mstep\u001b[0m\u001b[0;34m]\u001b[0m\u001b[0;34m[\u001b[0m\u001b[0mself\u001b[0m\u001b[0;34m.\u001b[0m\u001b[0mop\u001b[0m\u001b[0;34m]\u001b[0m\u001b[0;34m[\u001b[0m\u001b[0mself\u001b[0m\u001b[0;34m.\u001b[0m\u001b[0msplit_idx\u001b[0m\u001b[0;34m]\u001b[0m\u001b[0;34m[\u001b[0m\u001b[0mself\u001b[0m\u001b[0;34m.\u001b[0m\u001b[0mindex\u001b[0m\u001b[0;34m]\u001b[0m\u001b[0;34m\u001b[0m\u001b[0m\n\u001b[1;32m     38\u001b[0m             \u001b[0;32melse\u001b[0m\u001b[0;34m:\u001b[0m\u001b[0;34m\u001b[0m\u001b[0m\n\u001b[0;32m---> 39\u001b[0;31m                 \u001b[0;32mreturn\u001b[0m \u001b[0mvalues\u001b[0m\u001b[0;34m[\u001b[0m\u001b[0mself\u001b[0m\u001b[0;34m.\u001b[0m\u001b[0mstep\u001b[0m\u001b[0;34m]\u001b[0m\u001b[0;34m[\u001b[0m\u001b[0mself\u001b[0m\u001b[0;34m.\u001b[0m\u001b[0mop\u001b[0m\u001b[0;34m]\u001b[0m\u001b[0;34m[\u001b[0m\u001b[0mself\u001b[0m\u001b[0;34m.\u001b[0m\u001b[0mindex\u001b[0m\u001b[0;34m]\u001b[0m\u001b[0;34m\u001b[0m\u001b[0m\n\u001b[0m\u001b[1;32m     40\u001b[0m \u001b[0;34m\u001b[0m\u001b[0m\n\u001b[1;32m     41\u001b[0m         \u001b[0;32mdef\u001b[0m \u001b[0m__repr__\u001b[0m\u001b[0;34m(\u001b[0m\u001b[0mself\u001b[0m\u001b[0;34m)\u001b[0m\u001b[0;34m:\u001b[0m\u001b[0;34m\u001b[0m\u001b[0m\n",
      "\u001b[0;31mKeyError\u001b[0m: 23"
     ]
    }
   ],
   "source": [
    "i = 11\n",
    "n = 10\n",
    "%time res = mpnn.make_opt_step_batched(train_x[i:i+n], train_y[i:i+n], 4)"
   ]
  },
  {
   "cell_type": "code",
   "execution_count": 17,
   "metadata": {
    "scrolled": true
   },
   "outputs": [
    {
     "data": {
      "text/plain": [
       "[(OrderedDict([(0, [(Variable containing:\n",
       "                   1  0  0  0  0  0\n",
       "                  [torch.FloatTensor of size 1x6], 1)]),\n",
       "               (1, [(Variable containing:\n",
       "                   1  0  0  0  0  0\n",
       "                  [torch.FloatTensor of size 1x6], 0)]),\n",
       "               (2, [(Variable containing:\n",
       "                   0  1  0  0  0  0\n",
       "                  [torch.FloatTensor of size 1x6], 1)]),\n",
       "               (3, [(Variable containing:\n",
       "                   0  1  0  0  0  0\n",
       "                  [torch.FloatTensor of size 1x6], 1)]),\n",
       "               (4, [(Variable containing:\n",
       "                   1  0  0  0  0  0\n",
       "                  [torch.FloatTensor of size 1x6], 1)]),\n",
       "               (5, [(Variable containing:\n",
       "                   1  0  0  0  0  0\n",
       "                  [torch.FloatTensor of size 1x6], 4)]),\n",
       "               (6, [(Variable containing:\n",
       "                   0  1  0  0  0  0\n",
       "                  [torch.FloatTensor of size 1x6], 5)]),\n",
       "               (7, [(Variable containing:\n",
       "                   0  1  0  0  0  0\n",
       "                  [torch.FloatTensor of size 1x6], 5)]),\n",
       "               (8, [(Variable containing:\n",
       "                   1  0  0  0  0  0\n",
       "                  [torch.FloatTensor of size 1x6], 5)]),\n",
       "               (9, [(Variable containing:\n",
       "                   1  0  0  0  0  0\n",
       "                  [torch.FloatTensor of size 1x6], 8)]),\n",
       "               (10, [(Variable containing:\n",
       "                   1  0  0  0  0  0\n",
       "                  [torch.FloatTensor of size 1x6], 9)]),\n",
       "               (11, [(Variable containing:\n",
       "                   1  0  0  0  0  0\n",
       "                  [torch.FloatTensor of size 1x6], 10)])]),\n",
       "  OrderedDict([(0, [44:7]fold_non_lin),\n",
       "               (1, [47:3]fold_non_lin),\n",
       "               (2, [50:4]fold_non_lin),\n",
       "               (3, [50:5]fold_non_lin),\n",
       "               (4, [50:6]fold_non_lin),\n",
       "               (5, [53:2]fold_non_lin),\n",
       "               (6, [56:1]fold_non_lin),\n",
       "               (7, [56:2]fold_non_lin),\n",
       "               (8, [56:3]fold_non_lin),\n",
       "               (9, [59:1]fold_non_lin),\n",
       "               (10, [62:0]fold_non_lin),\n",
       "               (11, [65:0]fold_non_lin)])),\n",
       " (OrderedDict([(0, [(Variable containing:\n",
       "                   1  0  0  0  0  0\n",
       "                  [torch.FloatTensor of size 1x6], 1)]),\n",
       "               (1, [(Variable containing:\n",
       "                   1  0  0  0  0  0\n",
       "                  [torch.FloatTensor of size 1x6], 0)]),\n",
       "               (2, [(Variable containing:\n",
       "                   1  0  0  0  0  0\n",
       "                  [torch.FloatTensor of size 1x6], 1)]),\n",
       "               (3, [(Variable containing:\n",
       "                   1  0  0  0  0  0\n",
       "                  [torch.FloatTensor of size 1x6], 2)]),\n",
       "               (4, [(Variable containing:\n",
       "                   1  0  0  0  0  0\n",
       "                  [torch.FloatTensor of size 1x6], 3)]),\n",
       "               (5, [(Variable containing:\n",
       "                   1  0  0  0  0  0\n",
       "                  [torch.FloatTensor of size 1x6], 4)]),\n",
       "               (6, [(Variable containing:\n",
       "                   1  0  0  0  0  0\n",
       "                  [torch.FloatTensor of size 1x6], 5)]),\n",
       "               (7, [(Variable containing:\n",
       "                   1  0  0  0  0  0\n",
       "                  [torch.FloatTensor of size 1x6], 6)]),\n",
       "               (8, [(Variable containing:\n",
       "                   1  0  0  0  0  0\n",
       "                  [torch.FloatTensor of size 1x6], 7)]),\n",
       "               (9, [(Variable containing:\n",
       "                   1  0  0  0  0  0\n",
       "                  [torch.FloatTensor of size 1x6], 8)]),\n",
       "               (10, [(Variable containing:\n",
       "                   1  0  0  0  0  0\n",
       "                  [torch.FloatTensor of size 1x6], 9)]),\n",
       "               (11, [(Variable containing:\n",
       "                   1  0  0  0  0  0\n",
       "                  [torch.FloatTensor of size 1x6], 10)]),\n",
       "               (12, [(Variable containing:\n",
       "                   1  0  0  0  0  0\n",
       "                  [torch.FloatTensor of size 1x6], 11)]),\n",
       "               (13, [(Variable containing:\n",
       "                   1  0  0  0  0  0\n",
       "                  [torch.FloatTensor of size 1x6], 12)]),\n",
       "               (14, [(Variable containing:\n",
       "                   1  0  0  0  0  0\n",
       "                  [torch.FloatTensor of size 1x6], 13)]),\n",
       "               (15, [(Variable containing:\n",
       "                   1  0  0  0  0  0\n",
       "                  [torch.FloatTensor of size 1x6], 14)]),\n",
       "               (16, [(Variable containing:\n",
       "                   1  0  0  0  0  0\n",
       "                  [torch.FloatTensor of size 1x6], 15)]),\n",
       "               (17, [(Variable containing:\n",
       "                   1  0  0  0  0  0\n",
       "                  [torch.FloatTensor of size 1x6], 16)]),\n",
       "               (18, [(Variable containing:\n",
       "                   0  1  0  0  0  0\n",
       "                  [torch.FloatTensor of size 1x6], 17)]),\n",
       "               (19, [(Variable containing:\n",
       "                   1  0  0  0  0  0\n",
       "                  [torch.FloatTensor of size 1x6], 17)]),\n",
       "               (20, [(Variable containing:\n",
       "                   1  0  0  0  0  0\n",
       "                  [torch.FloatTensor of size 1x6], 17)]),\n",
       "               (21, [(Variable containing:\n",
       "                   1  0  0  0  0  0\n",
       "                  [torch.FloatTensor of size 1x6], 20)]),\n",
       "               (22, [(Variable containing:\n",
       "                   1  0  0  0  0  0\n",
       "                  [torch.FloatTensor of size 1x6], 21)]),\n",
       "               (23, [(Variable containing:\n",
       "                   1  0  0  0  0  0\n",
       "                  [torch.FloatTensor of size 1x6], 22)]),\n",
       "               (24, [(Variable containing:\n",
       "                   1  0  0  0  0  0\n",
       "                  [torch.FloatTensor of size 1x6], 23)]),\n",
       "               (25, [(Variable containing:\n",
       "                   1  0  0  0  0  0\n",
       "                  [torch.FloatTensor of size 1x6], 23)]),\n",
       "               (26, [(Variable containing:\n",
       "                   1  0  0  0  0  0\n",
       "                  [torch.FloatTensor of size 1x6], 23)])]),\n",
       "  OrderedDict([(0, [44:11]fold_non_lin),\n",
       "               (1, [47:7]fold_non_lin),\n",
       "               (2, [50:10]fold_non_lin),\n",
       "               (3, [53:6]fold_non_lin),\n",
       "               (4, [56:7]fold_non_lin),\n",
       "               (5, [59:5]fold_non_lin),\n",
       "               (6, [62:4]fold_non_lin),\n",
       "               (7, [65:4]fold_non_lin),\n",
       "               (8, [68:3]fold_non_lin),\n",
       "               (9, [71:3]fold_non_lin),\n",
       "               (10, [74:3]fold_non_lin),\n",
       "               (11, [77:3]fold_non_lin),\n",
       "               (12, [80:5]fold_non_lin),\n",
       "               (13, [83:3]fold_non_lin),\n",
       "               (14, [86:5]fold_non_lin),\n",
       "               (15, [89:3]fold_non_lin),\n",
       "               (16, [92:7]fold_non_lin),\n",
       "               (17, [95:2]fold_non_lin),\n",
       "               (18, [98:4]fold_non_lin),\n",
       "               (19, [98:5]fold_non_lin),\n",
       "               (20, [98:6]fold_non_lin),\n",
       "               (21, [101:1]fold_non_lin),\n",
       "               (22, [104:3]fold_non_lin),\n",
       "               (23, [107:0]fold_non_lin),\n",
       "               (24, [110:0]fold_non_lin),\n",
       "               (25, [110:1]fold_non_lin),\n",
       "               (26, [110:2]fold_non_lin)])),\n",
       " (OrderedDict([(0, [(Variable containing:\n",
       "                   1  0  0  0  0  0\n",
       "                  [torch.FloatTensor of size 1x6], 1)]),\n",
       "               (1, [(Variable containing:\n",
       "                   1  0  0  0  0  0\n",
       "                  [torch.FloatTensor of size 1x6], 0)]),\n",
       "               (2, [(Variable containing:\n",
       "                   1  0  0  0  0  0\n",
       "                  [torch.FloatTensor of size 1x6], 1)]),\n",
       "               (3, [(Variable containing:\n",
       "                   1  0  0  0  0  0\n",
       "                  [torch.FloatTensor of size 1x6], 2)]),\n",
       "               (4, [(Variable containing:\n",
       "                   0  1  0  0  1  0\n",
       "                  [torch.FloatTensor of size 1x6], 3)]),\n",
       "               (5, [(Variable containing:\n",
       "                   1  0  0  0  1  0\n",
       "                  [torch.FloatTensor of size 1x6], 3)]),\n",
       "               (6, [(Variable containing:\n",
       "                   1  0  0  0  1  0\n",
       "                  [torch.FloatTensor of size 1x6], 1)]),\n",
       "               (7, [(Variable containing:\n",
       "                   0  1  0  0  1  0\n",
       "                  [torch.FloatTensor of size 1x6], 6)]),\n",
       "               (8, [(Variable containing:\n",
       "                   1  0  0  0  1  0\n",
       "                  [torch.FloatTensor of size 1x6], 6)]),\n",
       "               (9, [(Variable containing:\n",
       "                   1  0  0  0  0  0\n",
       "                  [torch.FloatTensor of size 1x6], 8)]),\n",
       "               (10, [(Variable containing:\n",
       "                   1  0  0  0  0  0\n",
       "                  [torch.FloatTensor of size 1x6], 9)]),\n",
       "               (11, [(Variable containing:\n",
       "                   1  0  0  0  0  0\n",
       "                  [torch.FloatTensor of size 1x6], 10)]),\n",
       "               (12, [(Variable containing:\n",
       "                   1  0  0  0  1  0\n",
       "                  [torch.FloatTensor of size 1x6], 8)]),\n",
       "               (13, [(Variable containing:\n",
       "                   0  1  0  0  1  0\n",
       "                  [torch.FloatTensor of size 1x6], 12)])]),\n",
       "  OrderedDict([(0, [44:19]fold_non_lin),\n",
       "               (1, [47:13]fold_non_lin),\n",
       "               (2, [50:16]fold_non_lin),\n",
       "               (3, [53:9]fold_non_lin),\n",
       "               (4, [56:9]fold_non_lin),\n",
       "               (5, [56:10]fold_non_lin),\n",
       "               (6, [50:17]fold_non_lin),\n",
       "               (7, [53:10]fold_non_lin),\n",
       "               (8, [53:11]fold_non_lin),\n",
       "               (9, [56:11]fold_non_lin),\n",
       "               (10, [59:6]fold_non_lin),\n",
       "               (11, [62:5]fold_non_lin),\n",
       "               (12, [56:12]fold_non_lin),\n",
       "               (13, [59:7]fold_non_lin)])),\n",
       " (OrderedDict([(0, [(Variable containing:\n",
       "                   1  0  0  0  0  0\n",
       "                  [torch.FloatTensor of size 1x6], 1)]),\n",
       "               (1, [(Variable containing:\n",
       "                   1  0  0  0  0  0\n",
       "                  [torch.FloatTensor of size 1x6], 0)]),\n",
       "               (2, [(Variable containing:\n",
       "                   1  0  0  0  0  0\n",
       "                  [torch.FloatTensor of size 1x6], 1)]),\n",
       "               (3, [(Variable containing:\n",
       "                   1  0  0  0  0  0\n",
       "                  [torch.FloatTensor of size 1x6], 0)]),\n",
       "               (4, [(Variable containing:\n",
       "                   1  0  0  0  0  0\n",
       "                  [torch.FloatTensor of size 1x6], 3)]),\n",
       "               (5, [(Variable containing:\n",
       "                   0  1  0  0  0  0\n",
       "                  [torch.FloatTensor of size 1x6], 4)]),\n",
       "               (6, [(Variable containing:\n",
       "                   1  0  0  0  0  0\n",
       "                  [torch.FloatTensor of size 1x6], 4)]),\n",
       "               (7, [(Variable containing:\n",
       "                   1  0  0  0  0  0\n",
       "                  [torch.FloatTensor of size 1x6], 6)]),\n",
       "               (8, [(Variable containing:\n",
       "                   1  0  0  0  0  0\n",
       "                  [torch.FloatTensor of size 1x6], 7)]),\n",
       "               (9, [(Variable containing:\n",
       "                   1  0  0  0  0  0\n",
       "                  [torch.FloatTensor of size 1x6], 8)]),\n",
       "               (10, [(Variable containing:\n",
       "                   1  0  0  0  0  0\n",
       "                  [torch.FloatTensor of size 1x6], 4)])]),\n",
       "  OrderedDict([(0, [44:24]fold_non_lin),\n",
       "               (1, [47:18]fold_non_lin),\n",
       "               (2, [50:20]fold_non_lin),\n",
       "               (3, [47:19]fold_non_lin),\n",
       "               (4, [50:21]fold_non_lin),\n",
       "               (5, [53:13]fold_non_lin),\n",
       "               (6, [53:14]fold_non_lin),\n",
       "               (7, [56:14]fold_non_lin),\n",
       "               (8, [59:8]fold_non_lin),\n",
       "               (9, [62:6]fold_non_lin),\n",
       "               (10, [53:15]fold_non_lin)])),\n",
       " (OrderedDict([(0, [(Variable containing:\n",
       "                   1  0  0  0  0  0\n",
       "                  [torch.FloatTensor of size 1x6], 1)]),\n",
       "               (1, [(Variable containing:\n",
       "                   1  0  0  0  0  0\n",
       "                  [torch.FloatTensor of size 1x6], 0)]),\n",
       "               (2, [(Variable containing:\n",
       "                   0  1  0  0  0  0\n",
       "                  [torch.FloatTensor of size 1x6], 1)]),\n",
       "               (3, [(Variable containing:\n",
       "                   1  0  0  0  0  0\n",
       "                  [torch.FloatTensor of size 1x6], 0)]),\n",
       "               (4, [(Variable containing:\n",
       "                   1  0  0  0  0  0\n",
       "                  [torch.FloatTensor of size 1x6], 3)]),\n",
       "               (5, [(Variable containing:\n",
       "                   0  1  0  0  1  0\n",
       "                  [torch.FloatTensor of size 1x6], 4)]),\n",
       "               (6, [(Variable containing:\n",
       "                   1  0  0  0  1  0\n",
       "                  [torch.FloatTensor of size 1x6], 4)]),\n",
       "               (7, [(Variable containing:\n",
       "                   1  0  0  0  0  0\n",
       "                  [torch.FloatTensor of size 1x6], 3)])]),\n",
       "  OrderedDict([(0, [44:28]fold_non_lin),\n",
       "               (1, [47:22]fold_non_lin),\n",
       "               (2, [50:22]fold_non_lin),\n",
       "               (3, [47:23]fold_non_lin),\n",
       "               (4, [50:23]fold_non_lin),\n",
       "               (5, [53:16]fold_non_lin),\n",
       "               (6, [53:17]fold_non_lin),\n",
       "               (7, [50:24]fold_non_lin)])),\n",
       " (OrderedDict([(0, [(Variable containing:\n",
       "                   1  0  0  0  0  0\n",
       "                  [torch.FloatTensor of size 1x6], 1)]),\n",
       "               (1, [(Variable containing:\n",
       "                   1  0  0  0  0  0\n",
       "                  [torch.FloatTensor of size 1x6], 0)]),\n",
       "               (2, [(Variable containing:\n",
       "                   1  0  0  0  0  0\n",
       "                  [torch.FloatTensor of size 1x6], 1)]),\n",
       "               (3, [(Variable containing:\n",
       "                   0  1  0  0  1  0\n",
       "                  [torch.FloatTensor of size 1x6], 2)]),\n",
       "               (4, [(Variable containing:\n",
       "                   1  0  0  0  1  0\n",
       "                  [torch.FloatTensor of size 1x6], 2)]),\n",
       "               (5, [(Variable containing:\n",
       "                   1  0  0  0  0  0\n",
       "                  [torch.FloatTensor of size 1x6], 0)]),\n",
       "               (6, [(Variable containing:\n",
       "                   0  1  0  0  0  0\n",
       "                  [torch.FloatTensor of size 1x6], 5)]),\n",
       "               (7, [(Variable containing:\n",
       "                   1  0  0  0  0  0\n",
       "                  [torch.FloatTensor of size 1x6], 5)]),\n",
       "               (8, [(Variable containing:\n",
       "                   1  0  0  0  0  0\n",
       "                  [torch.FloatTensor of size 1x6], 7)])]),\n",
       "  OrderedDict([(0, [44:32]fold_non_lin),\n",
       "               (1, [47:27]fold_non_lin),\n",
       "               (2, [50:25]fold_non_lin),\n",
       "               (3, [53:18]fold_non_lin),\n",
       "               (4, [53:19]fold_non_lin),\n",
       "               (5, [47:28]fold_non_lin),\n",
       "               (6, [50:26]fold_non_lin),\n",
       "               (7, [50:27]fold_non_lin),\n",
       "               (8, [53:20]fold_non_lin)])),\n",
       " (OrderedDict([(0, [(Variable containing:\n",
       "                   1  0  0  0  0  0\n",
       "                  [torch.FloatTensor of size 1x6], 1)]),\n",
       "               (1, [(Variable containing:\n",
       "                   1  0  0  0  0  0\n",
       "                  [torch.FloatTensor of size 1x6], 0)]),\n",
       "               (2, [(Variable containing:\n",
       "                   1  0  0  0  0  0\n",
       "                  [torch.FloatTensor of size 1x6], 1)]),\n",
       "               (3, [(Variable containing:\n",
       "                   1  0  0  0  0  0\n",
       "                  [torch.FloatTensor of size 1x6], 2)]),\n",
       "               (4, [(Variable containing:\n",
       "                   1  0  0  0  0  0\n",
       "                  [torch.FloatTensor of size 1x6], 3)]),\n",
       "               (5, [(Variable containing:\n",
       "                   1  0  0  0  0  0\n",
       "                  [torch.FloatTensor of size 1x6], 4)]),\n",
       "               (6, [(Variable containing:\n",
       "                   1  0  0  0  0  0\n",
       "                  [torch.FloatTensor of size 1x6], 5)]),\n",
       "               (7, [(Variable containing:\n",
       "                   1  0  0  0  0  0\n",
       "                  [torch.FloatTensor of size 1x6], 6)]),\n",
       "               (8, [(Variable containing:\n",
       "                   1  0  0  0  0  0\n",
       "                  [torch.FloatTensor of size 1x6], 7)]),\n",
       "               (9, [(Variable containing:\n",
       "                   1  0  0  0  0  0\n",
       "                  [torch.FloatTensor of size 1x6], 8)]),\n",
       "               (10, [(Variable containing:\n",
       "                   1  0  0  0  0  0\n",
       "                  [torch.FloatTensor of size 1x6], 9)]),\n",
       "               (11, [(Variable containing:\n",
       "                   1  0  0  0  0  0\n",
       "                  [torch.FloatTensor of size 1x6], 10)]),\n",
       "               (12, [(Variable containing:\n",
       "                   1  0  0  0  0  0\n",
       "                  [torch.FloatTensor of size 1x6], 11)]),\n",
       "               (13, [(Variable containing:\n",
       "                   1  0  0  0  0  0\n",
       "                  [torch.FloatTensor of size 1x6], 12)]),\n",
       "               (14, [(Variable containing:\n",
       "                   1  0  0  0  0  0\n",
       "                  [torch.FloatTensor of size 1x6], 13)]),\n",
       "               (15, [(Variable containing:\n",
       "                   1  0  0  0  0  0\n",
       "                  [torch.FloatTensor of size 1x6], 14)]),\n",
       "               (16, [(Variable containing:\n",
       "                   1  0  0  0  0  0\n",
       "                  [torch.FloatTensor of size 1x6], 15)]),\n",
       "               (17, [(Variable containing:\n",
       "                   1  0  0  0  0  0\n",
       "                  [torch.FloatTensor of size 1x6], 16)]),\n",
       "               (18, [(Variable containing:\n",
       "                   1  0  0  0  0  0\n",
       "                  [torch.FloatTensor of size 1x6], 17)]),\n",
       "               (19, [(Variable containing:\n",
       "                   1  0  0  0  0  0\n",
       "                  [torch.FloatTensor of size 1x6], 18)]),\n",
       "               (20, [(Variable containing:\n",
       "                   1  0  0  0  0  0\n",
       "                  [torch.FloatTensor of size 1x6], 18)]),\n",
       "               (21, [(Variable containing:\n",
       "                   1  0  0  0  0  0\n",
       "                  [torch.FloatTensor of size 1x6], 18)]),\n",
       "               (22, [(Variable containing:\n",
       "                   1  0  0  0  0  0\n",
       "                  [torch.FloatTensor of size 1x6], 16)]),\n",
       "               (23, [(Variable containing:\n",
       "                   1  0  0  0  0  0\n",
       "                  [torch.FloatTensor of size 1x6], 22)]),\n",
       "               (24, [(Variable containing:\n",
       "                   0  1  0  0  0  0\n",
       "                  [torch.FloatTensor of size 1x6], 23)]),\n",
       "               (25, [(Variable containing:\n",
       "                   1  0  0  0  0  0\n",
       "                  [torch.FloatTensor of size 1x6], 23)]),\n",
       "               (26, [(Variable containing:\n",
       "                   1  0  0  0  0  0\n",
       "                  [torch.FloatTensor of size 1x6], 23)])]),\n",
       "  OrderedDict([(0, [44:36]fold_non_lin),\n",
       "               (1, [47:32]fold_non_lin),\n",
       "               (2, [50:31]fold_non_lin),\n",
       "               (3, [53:24]fold_non_lin),\n",
       "               (4, [56:18]fold_non_lin),\n",
       "               (5, [59:12]fold_non_lin),\n",
       "               (6, [62:10]fold_non_lin),\n",
       "               (7, [65:8]fold_non_lin),\n",
       "               (8, [68:7]fold_non_lin),\n",
       "               (9, [71:7]fold_non_lin),\n",
       "               (10, [74:7]fold_non_lin),\n",
       "               (11, [77:8]fold_non_lin),\n",
       "               (12, [80:10]fold_non_lin),\n",
       "               (13, [83:13]fold_non_lin),\n",
       "               (14, [86:9]fold_non_lin),\n",
       "               (15, [89:12]fold_non_lin),\n",
       "               (16, [92:10]fold_non_lin),\n",
       "               (17, [95:9]fold_non_lin),\n",
       "               (18, [98:7]fold_non_lin),\n",
       "               (19, [101:2]fold_non_lin),\n",
       "               (20, [101:3]fold_non_lin),\n",
       "               (21, [101:4]fold_non_lin),\n",
       "               (22, [95:10]fold_non_lin),\n",
       "               (23, [98:8]fold_non_lin),\n",
       "               (24, [101:5]fold_non_lin),\n",
       "               (25, [101:6]fold_non_lin),\n",
       "               (26, [101:7]fold_non_lin)])),\n",
       " (OrderedDict([(0, [(Variable containing:\n",
       "                   1  0  0  0  0  0\n",
       "                  [torch.FloatTensor of size 1x6], 1)]),\n",
       "               (1, [(Variable containing:\n",
       "                   1  0  0  0  0  0\n",
       "                  [torch.FloatTensor of size 1x6], 0)]),\n",
       "               (2, [(Variable containing:\n",
       "                   1  0  0  0  0  0\n",
       "                  [torch.FloatTensor of size 1x6], 1)]),\n",
       "               (3, [(Variable containing:\n",
       "                   1  0  0  0  0  0\n",
       "                  [torch.FloatTensor of size 1x6], 2)]),\n",
       "               (4, [(Variable containing:\n",
       "                   1  0  0  0  0  0\n",
       "                  [torch.FloatTensor of size 1x6], 3)]),\n",
       "               (5, [(Variable containing:\n",
       "                   1  0  0  0  0  0\n",
       "                  [torch.FloatTensor of size 1x6], 4)]),\n",
       "               (6, [(Variable containing:\n",
       "                   1  0  0  0  0  0\n",
       "                  [torch.FloatTensor of size 1x6], 5)]),\n",
       "               (7, [(Variable containing:\n",
       "                   1  0  0  0  0  0\n",
       "                  [torch.FloatTensor of size 1x6], 1)]),\n",
       "               (8, [(Variable containing:\n",
       "                   1  0  0  0  0  0\n",
       "                  [torch.FloatTensor of size 1x6], 7)]),\n",
       "               (9, [(Variable containing:\n",
       "                   1  0  0  0  0  0\n",
       "                  [torch.FloatTensor of size 1x6], 8)]),\n",
       "               (10, [(Variable containing:\n",
       "                   1  0  0  0  0  0\n",
       "                  [torch.FloatTensor of size 1x6], 9)])]),\n",
       "  OrderedDict([(0, [44:42]fold_non_lin),\n",
       "               (1, [47:37]fold_non_lin),\n",
       "               (2, [50:35]fold_non_lin),\n",
       "               (3, [53:27]fold_non_lin),\n",
       "               (4, [56:20]fold_non_lin),\n",
       "               (5, [59:13]fold_non_lin),\n",
       "               (6, [62:11]fold_non_lin),\n",
       "               (7, [50:36]fold_non_lin),\n",
       "               (8, [53:28]fold_non_lin),\n",
       "               (9, [56:21]fold_non_lin),\n",
       "               (10, [59:14]fold_non_lin)])),\n",
       " (OrderedDict([(0, [(Variable containing:\n",
       "                   1  0  0  0  0  0\n",
       "                  [torch.FloatTensor of size 1x6], 1)]),\n",
       "               (1, [(Variable containing:\n",
       "                   1  0  0  0  0  0\n",
       "                  [torch.FloatTensor of size 1x6], 0)]),\n",
       "               (2, [(Variable containing:\n",
       "                   1  0  0  0  0  0\n",
       "                  [torch.FloatTensor of size 1x6], 1)]),\n",
       "               (3, [(Variable containing:\n",
       "                   1  0  0  0  0  0\n",
       "                  [torch.FloatTensor of size 1x6], 2)]),\n",
       "               (4, [(Variable containing:\n",
       "                   1  0  0  0  1  0\n",
       "                  [torch.FloatTensor of size 1x6], 3)]),\n",
       "               (5, [(Variable containing:\n",
       "                   0  1  0  0  1  0\n",
       "                  [torch.FloatTensor of size 1x6], 4)]),\n",
       "               (6, [(Variable containing:\n",
       "                   1  0  0  0  1  0\n",
       "                  [torch.FloatTensor of size 1x6], 4)]),\n",
       "               (7, [(Variable containing:\n",
       "                   1  0  0  0  0  0\n",
       "                  [torch.FloatTensor of size 1x6], 1)]),\n",
       "               (8, [(Variable containing:\n",
       "                   1  0  0  0  1  0\n",
       "                  [torch.FloatTensor of size 1x6], 7)]),\n",
       "               (9, [(Variable containing:\n",
       "                   0  1  0  0  1  0\n",
       "                  [torch.FloatTensor of size 1x6], 8)]),\n",
       "               (10, [(Variable containing:\n",
       "                   1  0  0  0  1  0\n",
       "                  [torch.FloatTensor of size 1x6], 8)]),\n",
       "               (11, [(Variable containing:\n",
       "                   1  0  0  0  0  0\n",
       "                  [torch.FloatTensor of size 1x6], 0)]),\n",
       "               (12, [(Variable containing:\n",
       "                   1  0  0  0  1  0\n",
       "                  [torch.FloatTensor of size 1x6], 11)]),\n",
       "               (13, [(Variable containing:\n",
       "                   0  1  0  0  1  0\n",
       "                  [torch.FloatTensor of size 1x6], 12)]),\n",
       "               (14, [(Variable containing:\n",
       "                   1  0  0  0  1  0\n",
       "                  [torch.FloatTensor of size 1x6], 12)])]),\n",
       "  OrderedDict([(0, [44:49]fold_non_lin),\n",
       "               (1, [47:44]fold_non_lin),\n",
       "               (2, [50:40]fold_non_lin),\n",
       "               (3, [53:31]fold_non_lin),\n",
       "               (4, [56:22]fold_non_lin),\n",
       "               (5, [59:15]fold_non_lin),\n",
       "               (6, [59:16]fold_non_lin),\n",
       "               (7, [50:41]fold_non_lin),\n",
       "               (8, [53:32]fold_non_lin),\n",
       "               (9, [56:23]fold_non_lin),\n",
       "               (10, [56:24]fold_non_lin),\n",
       "               (11, [47:45]fold_non_lin),\n",
       "               (12, [50:42]fold_non_lin),\n",
       "               (13, [53:33]fold_non_lin),\n",
       "               (14, [53:34]fold_non_lin)])),\n",
       " (OrderedDict([(0, [(Variable containing:\n",
       "                   1  0  0  0  0  0\n",
       "                  [torch.FloatTensor of size 1x6], 1)]),\n",
       "               (1, [(Variable containing:\n",
       "                   1  0  0  0  0  0\n",
       "                  [torch.FloatTensor of size 1x6], 0)]),\n",
       "               (2, [(Variable containing:\n",
       "                   1  0  0  0  0  0\n",
       "                  [torch.FloatTensor of size 1x6], 1)]),\n",
       "               (3, [(Variable containing:\n",
       "                   1  0  0  0  0  0\n",
       "                  [torch.FloatTensor of size 1x6], 2)]),\n",
       "               (4, [(Variable containing:\n",
       "                   1  0  0  0  0  0\n",
       "                  [torch.FloatTensor of size 1x6], 2)]),\n",
       "               (5, [(Variable containing:\n",
       "                   1  0  0  0  0  0\n",
       "                  [torch.FloatTensor of size 1x6], 4)]),\n",
       "               (6, [(Variable containing:\n",
       "                   0  1  0  0  1  0\n",
       "                  [torch.FloatTensor of size 1x6], 5)]),\n",
       "               (7, [(Variable containing:\n",
       "                   1  0  0  0  0  0\n",
       "                  [torch.FloatTensor of size 1x6], 6)]),\n",
       "               (8, [(Variable containing:\n",
       "                   1  0  0  0  0  0\n",
       "                  [torch.FloatTensor of size 1x6], 7)]),\n",
       "               (9, [(Variable containing:\n",
       "                   1  0  0  0  0  0\n",
       "                  [torch.FloatTensor of size 1x6], 8)]),\n",
       "               (10, [(Variable containing:\n",
       "                   1  0  0  0  0  0\n",
       "                  [torch.FloatTensor of size 1x6], 8)]),\n",
       "               (11, [(Variable containing:\n",
       "                   1  0  0  0  0  0\n",
       "                  [torch.FloatTensor of size 1x6], 7)]),\n",
       "               (12, [(Variable containing:\n",
       "                   0  1  0  0  1  0\n",
       "                  [torch.FloatTensor of size 1x6], 11)]),\n",
       "               (13, [(Variable containing:\n",
       "                   1  0  0  0  0  0\n",
       "                  [torch.FloatTensor of size 1x6], 12)]),\n",
       "               (14, [(Variable containing:\n",
       "                   1  0  0  0  0  0\n",
       "                  [torch.FloatTensor of size 1x6], 13)]),\n",
       "               (15, [(Variable containing:\n",
       "                   1  0  0  0  0  0\n",
       "                  [torch.FloatTensor of size 1x6], 14)]),\n",
       "               (16, [(Variable containing:\n",
       "                   1  0  0  0  0  0\n",
       "                  [torch.FloatTensor of size 1x6], 14)]),\n",
       "               (17, [(Variable containing:\n",
       "                   1  0  0  0  0  0\n",
       "                  [torch.FloatTensor of size 1x6], 13)]),\n",
       "               (18, [(Variable containing:\n",
       "                   0  1  0  0  1  0\n",
       "                  [torch.FloatTensor of size 1x6], 17)]),\n",
       "               (19, [(Variable containing:\n",
       "                   1  0  0  0  0  0\n",
       "                  [torch.FloatTensor of size 1x6], 18)]),\n",
       "               (20, [(Variable containing:\n",
       "                   1  0  0  0  0  0\n",
       "                  [torch.FloatTensor of size 1x6], 19)]),\n",
       "               (21, [(Variable containing:\n",
       "                   1  0  0  0  0  0\n",
       "                  [torch.FloatTensor of size 1x6], 20)]),\n",
       "               (22, [(Variable containing:\n",
       "                   1  0  0  0  0  0\n",
       "                  [torch.FloatTensor of size 1x6], 21)]),\n",
       "               (23, [(Variable containing:\n",
       "                   1  0  0  0  0  0\n",
       "                  [torch.FloatTensor of size 1x6], 22)]),\n",
       "               (24, [(Variable containing:\n",
       "                   1  0  0  0  0  0\n",
       "                  [torch.FloatTensor of size 1x6], 23)]),\n",
       "               (25, [(Variable containing:\n",
       "                   1  0  0  0  0  0\n",
       "                  [torch.FloatTensor of size 1x6], 19)]),\n",
       "               (26, [(Variable containing:\n",
       "                   0  1  0  0  1  0\n",
       "                  [torch.FloatTensor of size 1x6], 25)]),\n",
       "               (27, [(Variable containing:\n",
       "                   1  0  0  0  0  0\n",
       "                  [torch.FloatTensor of size 1x6], 26)]),\n",
       "               (28, [(Variable containing:\n",
       "                   1  0  0  0  0  0\n",
       "                  [torch.FloatTensor of size 1x6], 27)]),\n",
       "               (29, [(Variable containing:\n",
       "                   1  0  0  0  0  0\n",
       "                  [torch.FloatTensor of size 1x6], 28)]),\n",
       "               (30, [(Variable containing:\n",
       "                   0  1  0  0  1  0\n",
       "                  [torch.FloatTensor of size 1x6], 29)]),\n",
       "               (31, [(Variable containing:\n",
       "                   1  0  0  0  1  0\n",
       "                  [torch.FloatTensor of size 1x6], 29)]),\n",
       "               (32, [(Variable containing:\n",
       "                   1  0  0  0  0  0\n",
       "                  [torch.FloatTensor of size 1x6], 27)]),\n",
       "               (33, [(Variable containing:\n",
       "                   0  1  0  0  1  0\n",
       "                  [torch.FloatTensor of size 1x6], 32)]),\n",
       "               (34, [(Variable containing:\n",
       "                   1  0  0  0  0  0\n",
       "                  [torch.FloatTensor of size 1x6], 33)]),\n",
       "               (35, [(Variable containing:\n",
       "                   1  0  0  0  0  0\n",
       "                  [torch.FloatTensor of size 1x6], 34)]),\n",
       "               (36, [(Variable containing:\n",
       "                   1  0  0  0  0  0\n",
       "                  [torch.FloatTensor of size 1x6], 35)]),\n",
       "               (37, [(Variable containing:\n",
       "                   1  0  0  0  0  0\n",
       "                  [torch.FloatTensor of size 1x6], 36)]),\n",
       "               (38, [(Variable containing:\n",
       "                   1  0  0  0  0  0\n",
       "                  [torch.FloatTensor of size 1x6], 36)]),\n",
       "               (39, [(Variable containing:\n",
       "                   1  0  0  0  0  0\n",
       "                  [torch.FloatTensor of size 1x6], 34)]),\n",
       "               (40, [(Variable containing:\n",
       "                   0  1  0  0  1  0\n",
       "                  [torch.FloatTensor of size 1x6], 39)]),\n",
       "               (41, [(Variable containing:\n",
       "                   1  0  0  0  0  0\n",
       "                  [torch.FloatTensor of size 1x6], 40)]),\n",
       "               (42, [(Variable containing:\n",
       "                   1  0  0  0  0  0\n",
       "                  [torch.FloatTensor of size 1x6], 41)]),\n",
       "               (43, [(Variable containing:\n",
       "                   1  0  0  0  0  0\n",
       "                  [torch.FloatTensor of size 1x6], 42)]),\n",
       "               (44, [(Variable containing:\n",
       "                   1  0  0  0  0  0\n",
       "                  [torch.FloatTensor of size 1x6], 43)]),\n",
       "               (45, [(Variable containing:\n",
       "                   1  0  0  0  0  0\n",
       "                  [torch.FloatTensor of size 1x6], 44)]),\n",
       "               (46, [(Variable containing:\n",
       "                   1  0  0  0  0  0\n",
       "                  [torch.FloatTensor of size 1x6], 45)]),\n",
       "               (47, [(Variable containing:\n",
       "                   1  0  0  0  0  0\n",
       "                  [torch.FloatTensor of size 1x6], 41)]),\n",
       "               (48, [(Variable containing:\n",
       "                   0  1  0  0  1  0\n",
       "                  [torch.FloatTensor of size 1x6], 47)]),\n",
       "               (49, [(Variable containing:\n",
       "                   1  0  0  0  0  0\n",
       "                  [torch.FloatTensor of size 1x6], 48)]),\n",
       "               (50, [(Variable containing:\n",
       "                   1  0  0  0  0  0\n",
       "                  [torch.FloatTensor of size 1x6], 49)]),\n",
       "               (51, [(Variable containing:\n",
       "                   1  0  0  0  0  0\n",
       "                  [torch.FloatTensor of size 1x6], 50)]),\n",
       "               (52, [(Variable containing:\n",
       "                   1  0  0  0  0  0\n",
       "                  [torch.FloatTensor of size 1x6], 51)]),\n",
       "               (53, [(Variable containing:\n",
       "                   0  1  0  0  1  0\n",
       "                  [torch.FloatTensor of size 1x6], 52)]),\n",
       "               (54, [(Variable containing:\n",
       "                   1  0  0  0  1  0\n",
       "                  [torch.FloatTensor of size 1x6], 52)]),\n",
       "               (55, [(Variable containing:\n",
       "                   1  0  0  0  0  0\n",
       "                  [torch.FloatTensor of size 1x6], 49)]),\n",
       "               (56, [(Variable containing:\n",
       "                   0  1  0  0  1  0\n",
       "                  [torch.FloatTensor of size 1x6], 55)]),\n",
       "               (57, [(Variable containing:\n",
       "                   1  0  0  0  0  0\n",
       "                  [torch.FloatTensor of size 1x6], 56)]),\n",
       "               (58, [(Variable containing:\n",
       "                   1  0  0  0  0  0\n",
       "                  [torch.FloatTensor of size 1x6], 57)]),\n",
       "               (59, [(Variable containing:\n",
       "                   1  0  0  0  0  0\n",
       "                  [torch.FloatTensor of size 1x6], 58)]),\n",
       "               (60, [(Variable containing:\n",
       "                   1  0  0  0  0  0\n",
       "                  [torch.FloatTensor of size 1x6], 59)]),\n",
       "               (61, [(Variable containing:\n",
       "                   1  0  0  0  0  0\n",
       "                  [torch.FloatTensor of size 1x6], 60)]),\n",
       "               (62, [(Variable containing:\n",
       "                   1  0  0  0  0  0\n",
       "                  [torch.FloatTensor of size 1x6], 61)]),\n",
       "               (63, [(Variable containing:\n",
       "                   1  0  0  0  0  0\n",
       "                  [torch.FloatTensor of size 1x6], 57)]),\n",
       "               (64, [(Variable containing:\n",
       "                   0  1  0  0  1  0\n",
       "                  [torch.FloatTensor of size 1x6], 63)]),\n",
       "               (65, [(Variable containing:\n",
       "                   1  0  0  0  0  0\n",
       "                  [torch.FloatTensor of size 1x6], 64)]),\n",
       "               (66, [(Variable containing:\n",
       "                   1  0  0  0  0  0\n",
       "                  [torch.FloatTensor of size 1x6], 65)]),\n",
       "               (67, [(Variable containing:\n",
       "                   1  0  0  0  0  0\n",
       "                  [torch.FloatTensor of size 1x6], 66)]),\n",
       "               (68, [(Variable containing:\n",
       "                   1  0  0  0  0  0\n",
       "                  [torch.FloatTensor of size 1x6], 67)]),\n",
       "               (69, [(Variable containing:\n",
       "                   1  0  0  0  0  0\n",
       "                  [torch.FloatTensor of size 1x6], 68)]),\n",
       "               (70, [(Variable containing:\n",
       "                   1  0  0  0  0  0\n",
       "                  [torch.FloatTensor of size 1x6], 69)]),\n",
       "               (71, [(Variable containing:\n",
       "                   1  0  0  0  0  0\n",
       "                  [torch.FloatTensor of size 1x6], 65)]),\n",
       "               (72, [(Variable containing:\n",
       "                   0  1  0  0  1  0\n",
       "                  [torch.FloatTensor of size 1x6], 71)]),\n",
       "               (73, [(Variable containing:\n",
       "                   1  0  0  0  0  0\n",
       "                  [torch.FloatTensor of size 1x6], 72)]),\n",
       "               (74, [(Variable containing:\n",
       "                   1  0  0  0  0  0\n",
       "                  [torch.FloatTensor of size 1x6], 73)]),\n",
       "               (75, [(Variable containing:\n",
       "                   1  0  0  0  0  0\n",
       "                  [torch.FloatTensor of size 1x6], 74)]),\n",
       "               (76, [(Variable containing:\n",
       "                   1  0  0  0  0  0\n",
       "                  [torch.FloatTensor of size 1x6], 75)]),\n",
       "               (77, [(Variable containing:\n",
       "                   0  1  0  0  1  0\n",
       "                  [torch.FloatTensor of size 1x6], 76)]),\n",
       "               (78, [(Variable containing:\n",
       "                   1  0  0  0  1  0\n",
       "                  [torch.FloatTensor of size 1x6], 76)]),\n",
       "               (79, [(Variable containing:\n",
       "                   1  0  0  0  0  0\n",
       "                  [torch.FloatTensor of size 1x6], 73)]),\n",
       "               (80, [(Variable containing:\n",
       "                   0  1  0  0  1  0\n",
       "                  [torch.FloatTensor of size 1x6], 79)]),\n",
       "               (81, [(Variable containing:\n",
       "                   1  0  0  0  0  0\n",
       "                  [torch.FloatTensor of size 1x6], 80)]),\n",
       "               (82, [(Variable containing:\n",
       "                   1  0  0  0  0  0\n",
       "                  [torch.FloatTensor of size 1x6], 81)]),\n",
       "               (83, [(Variable containing:\n",
       "                   1  0  0  0  0  0\n",
       "                  [torch.FloatTensor of size 1x6], 82)]),\n",
       "               (84, [(Variable containing:\n",
       "                   1  0  0  0  0  0\n",
       "                  [torch.FloatTensor of size 1x6], 82)]),\n",
       "               (85, [(Variable containing:\n",
       "                   1  0  0  0  0  0\n",
       "                  [torch.FloatTensor of size 1x6], 81)]),\n",
       "               (86, [(Variable containing:\n",
       "                   0  1  0  0  1  0\n",
       "                  [torch.FloatTensor of size 1x6], 85)]),\n",
       "               (87, [(Variable containing:\n",
       "                   1  0  0  0  0  0\n",
       "                  [torch.FloatTensor of size 1x6], 86)]),\n",
       "               (88, [(Variable containing:\n",
       "                   1  0  0  0  0  0\n",
       "                  [torch.FloatTensor of size 1x6], 87)]),\n",
       "               (89, [(Variable containing:\n",
       "                   1  0  0  0  0  0\n",
       "                  [torch.FloatTensor of size 1x6], 88)]),\n",
       "               (90, [(Variable containing:\n",
       "                   1  0  0  0  0  0\n",
       "                  [torch.FloatTensor of size 1x6], 88)]),\n",
       "               (91, [(Variable containing:\n",
       "                   1  0  0  0  0  0\n",
       "                  [torch.FloatTensor of size 1x6], 87)]),\n",
       "               (92, [(Variable containing:\n",
       "                   0  1  0  0  1  0\n",
       "                  [torch.FloatTensor of size 1x6], 91)]),\n",
       "               (93, [(Variable containing:\n",
       "                   1  0  0  0  0  0\n",
       "                  [torch.FloatTensor of size 1x6], 92)]),\n",
       "               (94, [(Variable containing:\n",
       "                   1  0  0  0  0  0\n",
       "                  [torch.FloatTensor of size 1x6], 93)]),\n",
       "               (95, [(Variable containing:\n",
       "                   1  0  0  0  0  0\n",
       "                  [torch.FloatTensor of size 1x6], 94)]),\n",
       "               (96, [(Variable containing:\n",
       "                   1  0  0  0  0  0\n",
       "                  [torch.FloatTensor of size 1x6], 95)]),\n",
       "               (97, [(Variable containing:\n",
       "                   0  1  0  0  1  0\n",
       "                  [torch.FloatTensor of size 1x6], 96)]),\n",
       "               (98, [(Variable containing:\n",
       "                   1  0  0  0  1  0\n",
       "                  [torch.FloatTensor of size 1x6], 96)]),\n",
       "               (99, [(Variable containing:\n",
       "                   1  0  0  0  0  0\n",
       "                  [torch.FloatTensor of size 1x6], 93)]),\n",
       "               (100, [(Variable containing:\n",
       "                   0  1  0  0  1  0\n",
       "                  [torch.FloatTensor of size 1x6], 99)]),\n",
       "               (101, [(Variable containing:\n",
       "                   1  0  0  0  0  0\n",
       "                  [torch.FloatTensor of size 1x6], 100)]),\n",
       "               (102, [(Variable containing:\n",
       "                   1  0  0  0  0  0\n",
       "                  [torch.FloatTensor of size 1x6], 101)]),\n",
       "               (103, [(Variable containing:\n",
       "                   1  0  0  0  0  0\n",
       "                  [torch.FloatTensor of size 1x6], 102)]),\n",
       "               (104, [(Variable containing:\n",
       "                   1  0  0  0  0  0\n",
       "                  [torch.FloatTensor of size 1x6], 103)]),\n",
       "               (105, [(Variable containing:\n",
       "                   0  1  0  0  1  0\n",
       "                  [torch.FloatTensor of size 1x6], 104)]),\n",
       "               (106, [(Variable containing:\n",
       "                   1  0  0  0  1  0\n",
       "                  [torch.FloatTensor of size 1x6], 104)]),\n",
       "               (107, [(Variable containing:\n",
       "                   1  0  0  0  0  0\n",
       "                  [torch.FloatTensor of size 1x6], 101)]),\n",
       "               (108, [(Variable containing:\n",
       "                   0  1  0  0  1  0\n",
       "                  [torch.FloatTensor of size 1x6], 107)]),\n",
       "               (109, [(Variable containing:\n",
       "                   1  0  0  0  0  0\n",
       "                  [torch.FloatTensor of size 1x6], 108)]),\n",
       "               (110, [(Variable containing:\n",
       "                   1  0  0  0  0  0\n",
       "                  [torch.FloatTensor of size 1x6], 109)]),\n",
       "               (111, [(Variable containing:\n",
       "                   1  0  0  0  0  0\n",
       "                  [torch.FloatTensor of size 1x6], 109)]),\n",
       "               (112, [(Variable containing:\n",
       "                   0  1  0  0  1  0\n",
       "                  [torch.FloatTensor of size 1x6], 111)]),\n",
       "               (113, [(Variable containing:\n",
       "                   1  0  0  0  0  0\n",
       "                  [torch.FloatTensor of size 1x6], 112)]),\n",
       "               (114, [(Variable containing:\n",
       "                   1  0  0  0  0  0\n",
       "                  [torch.FloatTensor of size 1x6], 113)]),\n",
       "               (115, [(Variable containing:\n",
       "                   1  0  0  0  0  0\n",
       "                  [torch.FloatTensor of size 1x6], 114)]),\n",
       "               (116, [(Variable containing:\n",
       "                   1  0  0  0  0  0\n",
       "                  [torch.FloatTensor of size 1x6], 115)]),\n",
       "               (117, [(Variable containing:\n",
       "                   0  1  0  0  1  0\n",
       "                  [torch.FloatTensor of size 1x6], 116)]),\n",
       "               (118, [(Variable containing:\n",
       "                   1  0  0  0  1  0\n",
       "                  [torch.FloatTensor of size 1x6], 116)]),\n",
       "               (119, [(Variable containing:\n",
       "                   1  0  0  0  0  0\n",
       "                  [torch.FloatTensor of size 1x6], 113)]),\n",
       "               (120, [(Variable containing:\n",
       "                   0  1  0  0  1  0\n",
       "                  [torch.FloatTensor of size 1x6], 119)]),\n",
       "               (121, [(Variable containing:\n",
       "                   1  0  0  0  0  0\n",
       "                  [torch.FloatTensor of size 1x6], 120)]),\n",
       "               (122, [(Variable containing:\n",
       "                   1  0  0  0  0  0\n",
       "                  [torch.FloatTensor of size 1x6], 121)]),\n",
       "               (123, [(Variable containing:\n",
       "                   1  0  0  0  0  0\n",
       "                  [torch.FloatTensor of size 1x6], 122)]),\n",
       "               (124, [(Variable containing:\n",
       "                   0  1  0  0  1  0\n",
       "                  [torch.FloatTensor of size 1x6], 123)]),\n",
       "               (125, [(Variable containing:\n",
       "                   1  0  0  0  1  0\n",
       "                  [torch.FloatTensor of size 1x6], 123)]),\n",
       "               (126, [(Variable containing:\n",
       "                   1  0  0  0  0  0\n",
       "                  [torch.FloatTensor of size 1x6], 121)]),\n",
       "               (127, [(Variable containing:\n",
       "                   0  1  0  0  1  0\n",
       "                  [torch.FloatTensor of size 1x6], 126)]),\n",
       "               (128, [(Variable containing:\n",
       "                   1  0  0  0  1  0\n",
       "                  [torch.FloatTensor of size 1x6], 126)]),\n",
       "               (129, [(Variable containing:\n",
       "                   1  0  0  0  1  0\n",
       "                  [torch.FloatTensor of size 1x6], 119)]),\n",
       "               (130, [(Variable containing:\n",
       "                   1  0  0  0  1  0\n",
       "                  [torch.FloatTensor of size 1x6], 111)]),\n",
       "               (131, [(Variable containing:\n",
       "                   1  0  0  0  1  0\n",
       "                  [torch.FloatTensor of size 1x6], 107)]),\n",
       "               (132, [(Variable containing:\n",
       "                   1  0  0  0  1  0\n",
       "                  [torch.FloatTensor of size 1x6], 99)]),\n",
       "               (133, [(Variable containing:\n",
       "                   1  0  0  0  1  0\n",
       "                  [torch.FloatTensor of size 1x6], 91)]),\n",
       "               (134, [(Variable containing:\n",
       "                   1  0  0  0  1  0\n",
       "                  [torch.FloatTensor of size 1x6], 85)]),\n",
       "               (135, [(Variable containing:\n",
       "                   1  0  0  0  1  0\n",
       "                  [torch.FloatTensor of size 1x6], 79)]),\n",
       "               (136, [(Variable containing:\n",
       "                   1  0  0  0  1  0\n",
       "                  [torch.FloatTensor of size 1x6], 71)]),\n",
       "               (137, [(Variable containing:\n",
       "                   1  0  0  0  1  0\n",
       "                  [torch.FloatTensor of size 1x6], 63)]),\n",
       "               (138, [(Variable containing:\n",
       "                   1  0  0  0  1  0\n",
       "                  [torch.FloatTensor of size 1x6], 55)]),\n",
       "               (139, [(Variable containing:\n",
       "                   1  0  0  0  1  0\n",
       "                  [torch.FloatTensor of size 1x6], 47)]),\n",
       "               (140, [(Variable containing:\n",
       "                   1  0  0  0  1  0\n",
       "                  [torch.FloatTensor of size 1x6], 39)]),\n",
       "               (141, [(Variable containing:\n",
       "                   1  0  0  0  1  0\n",
       "                  [torch.FloatTensor of size 1x6], 32)]),\n",
       "               (142, [(Variable containing:\n",
       "                   1  0  0  0  1  0\n",
       "                  [torch.FloatTensor of size 1x6], 25)]),\n",
       "               (143, [(Variable containing:\n",
       "                   1  0  0  0  1  0\n",
       "                  [torch.FloatTensor of size 1x6], 17)]),\n",
       "               (144, [(Variable containing:\n",
       "                   1  0  0  0  1  0\n",
       "                  [torch.FloatTensor of size 1x6], 11)]),\n",
       "               (145, [(Variable containing:\n",
       "                   1  0  0  0  1  0\n",
       "                  [torch.FloatTensor of size 1x6], 5)]),\n",
       "               (146, [(Variable containing:\n",
       "                   1  0  0  0  0  0\n",
       "                  [torch.FloatTensor of size 1x6], 4)]),\n",
       "               (147, [(Variable containing:\n",
       "                   0  1  0  0  1  0\n",
       "                  [torch.FloatTensor of size 1x6], 146)]),\n",
       "               (148, [(Variable containing:\n",
       "                   1  0  0  0  0  0\n",
       "                  [torch.FloatTensor of size 1x6], 147)]),\n",
       "               (149, [(Variable containing:\n",
       "                   1  0  0  0  0  0\n",
       "                  [torch.FloatTensor of size 1x6], 148)]),\n",
       "               (150, [(Variable containing:\n",
       "                   1  0  0  0  0  0\n",
       "                  [torch.FloatTensor of size 1x6], 149)]),\n",
       "               (151, [(Variable containing:\n",
       "                   1  0  0  0  0  0\n",
       "                  [torch.FloatTensor of size 1x6], 150)]),\n",
       "               (152, [(Variable containing:\n",
       "                   0  1  0  0  1  0\n",
       "                  [torch.FloatTensor of size 1x6], 151)]),\n",
       "               (153, [(Variable containing:\n",
       "                   1  0  0  0  1  0\n",
       "                  [torch.FloatTensor of size 1x6], 151)]),\n",
       "               (154, [(Variable containing:\n",
       "                   1  0  0  0  0  0\n",
       "                  [torch.FloatTensor of size 1x6], 148)]),\n",
       "               (155, [(Variable containing:\n",
       "                   0  1  0  0  1  0\n",
       "                  [torch.FloatTensor of size 1x6], 154)]),\n",
       "               (156, [(Variable containing:\n",
       "                   1  0  0  0  0  0\n",
       "                  [torch.FloatTensor of size 1x6], 155)]),\n",
       "               (157, [(Variable containing:\n",
       "                   1  0  0  0  0  0\n",
       "                  [torch.FloatTensor of size 1x6], 156)]),\n",
       "               (158, [(Variable containing:\n",
       "                   1  0  0  0  0  0\n",
       "                  [torch.FloatTensor of size 1x6], 157)]),\n",
       "               (159, [(Variable containing:\n",
       "                   1  0  0  0  0  0\n",
       "                  [torch.FloatTensor of size 1x6], 156)]),\n",
       "               (160, [(Variable containing:\n",
       "                   0  1  0  0  1  0\n",
       "                  [torch.FloatTensor of size 1x6], 159)]),\n",
       "               (161, [(Variable containing:\n",
       "                   1  0  0  0  0  0\n",
       "                  [torch.FloatTensor of size 1x6], 160)]),\n",
       "               (162, [(Variable containing:\n",
       "                   1  0  0  0  0  0\n",
       "                  [torch.FloatTensor of size 1x6], 161)]),\n",
       "               (163, [(Variable containing:\n",
       "                   1  0  0  0  0  0\n",
       "                  [torch.FloatTensor of size 1x6], 162)]),\n",
       "               (164, [(Variable containing:\n",
       "                   1  0  0  0  0  0\n",
       "                  [torch.FloatTensor of size 1x6], 161)]),\n",
       "               (165, [(Variable containing:\n",
       "                   0  1  0  0  1  0\n",
       "                  [torch.FloatTensor of size 1x6], 164)]),\n",
       "               (166, [(Variable containing:\n",
       "                   1  0  0  0  0  0\n",
       "                  [torch.FloatTensor of size 1x6], 165)]),\n",
       "               (167, [(Variable containing:\n",
       "                   1  0  0  0  0  0\n",
       "                  [torch.FloatTensor of size 1x6], 166)]),\n",
       "               (168, [(Variable containing:\n",
       "                   1  0  0  0  0  0\n",
       "                  [torch.FloatTensor of size 1x6], 167)]),\n",
       "               (169, [(Variable containing:\n",
       "                   1  0  0  0  0  0\n",
       "                  [torch.FloatTensor of size 1x6], 167)]),\n",
       "               (170, [(Variable containing:\n",
       "                   1  0  0  0  0  0\n",
       "                  [torch.FloatTensor of size 1x6], 166)]),\n",
       "               (171, [(Variable containing:\n",
       "                   0  1  0  0  1  0\n",
       "                  [torch.FloatTensor of size 1x6], 170)]),\n",
       "               (172, [(Variable containing:\n",
       "                   1  0  0  0  0  0\n",
       "                  [torch.FloatTensor of size 1x6], 171)]),\n",
       "               (173, [(Variable containing:\n",
       "                   1  0  0  0  0  0\n",
       "                  [torch.FloatTensor of size 1x6], 172)]),\n",
       "               (174, [(Variable containing:\n",
       "                   1  0  0  0  0  0\n",
       "                  [torch.FloatTensor of size 1x6], 173)]),\n",
       "               (175, [(Variable containing:\n",
       "                   0  1  0  0  1  0\n",
       "                  [torch.FloatTensor of size 1x6], 174)]),\n",
       "               (176, [(Variable containing:\n",
       "                   1  0  0  0  1  0\n",
       "                  [torch.FloatTensor of size 1x6], 174)]),\n",
       "               (177, [(Variable containing:\n",
       "                   1  0  0  0  0  0\n",
       "                  [torch.FloatTensor of size 1x6], 172)]),\n",
       "               (178, [(Variable containing:\n",
       "                   0  1  0  0  1  0\n",
       "                  [torch.FloatTensor of size 1x6], 177)]),\n",
       "               (179, [(Variable containing:\n",
       "                   1  0  0  0  0  0\n",
       "                  [torch.FloatTensor of size 1x6], 178)]),\n",
       "               (180, [(Variable containing:\n",
       "                   1  0  0  0  0  0\n",
       "                  [torch.FloatTensor of size 1x6], 179)]),\n",
       "               (181, [(Variable containing:\n",
       "                   1  0  0  0  0  0\n",
       "                  [torch.FloatTensor of size 1x6], 180)]),\n",
       "               (182, [(Variable containing:\n",
       "                   1  0  0  0  0  0\n",
       "                  [torch.FloatTensor of size 1x6], 180)]),\n",
       "               (183, [(Variable containing:\n",
       "                   1  0  0  0  0  0\n",
       "                  [torch.FloatTensor of size 1x6], 179)]),\n",
       "               (184, [(Variable containing:\n",
       "                   0  1  0  0  1  0\n",
       "                  [torch.FloatTensor of size 1x6], 183)]),\n",
       "               (185, [(Variable containing:\n",
       "                   1  0  0  0  0  0\n",
       "                  [torch.FloatTensor of size 1x6], 184)]),\n",
       "               (186, [(Variable containing:\n",
       "                   1  0  0  0  0  0\n",
       "                  [torch.FloatTensor of size 1x6], 185)]),\n",
       "               (187, [(Variable containing:\n",
       "                   1  0  0  0  0  0\n",
       "                  [torch.FloatTensor of size 1x6], 185)]),\n",
       "               (188, [(Variable containing:\n",
       "                   0  1  0  0  1  0\n",
       "                  [torch.FloatTensor of size 1x6], 187)]),\n",
       "               (189, [(Variable containing:\n",
       "                   1  0  0  0  0  0\n",
       "                  [torch.FloatTensor of size 1x6], 188)]),\n",
       "               (190, [(Variable containing:\n",
       "                   1  0  0  0  0  0\n",
       "                  [torch.FloatTensor of size 1x6], 189)]),\n",
       "               (191, [(Variable containing:\n",
       "                   1  0  0  0  0  0\n",
       "                  [torch.FloatTensor of size 1x6], 189)]),\n",
       "               (192, [(Variable containing:\n",
       "                   0  1  0  0  1  0\n",
       "                  [torch.FloatTensor of size 1x6], 191)]),\n",
       "               (193, [(Variable containing:\n",
       "                   1  0  0  0  0  0\n",
       "                  [torch.FloatTensor of size 1x6], 192)]),\n",
       "               (194, [(Variable containing:\n",
       "                   1  0  0  0  0  0\n",
       "                  [torch.FloatTensor of size 1x6], 193)]),\n",
       "               (195, [(Variable containing:\n",
       "                   1  0  0  0  0  0\n",
       "                  [torch.FloatTensor of size 1x6], 194)]),\n",
       "               (196, [(Variable containing:\n",
       "                   0  1  0  0  1  0\n",
       "                  [torch.FloatTensor of size 1x6], 195)]),\n",
       "               (197, [(Variable containing:\n",
       "                   1  0  0  0  1  0\n",
       "                  [torch.FloatTensor of size 1x6], 195)]),\n",
       "               (198, [(Variable containing:\n",
       "                   1  0  0  0  0  0\n",
       "                  [torch.FloatTensor of size 1x6], 193)]),\n",
       "               (199, [(Variable containing:\n",
       "                   0  1  0  0  1  0\n",
       "                  [torch.FloatTensor of size 1x6], 198)]),\n",
       "               (200, [(Variable containing:\n",
       "                   1  0  0  0  0  0\n",
       "                  [torch.FloatTensor of size 1x6], 199)]),\n",
       "               (201, [(Variable containing:\n",
       "                   1  0  0  0  0  0\n",
       "                  [torch.FloatTensor of size 1x6], 200)]),\n",
       "               (202, [(Variable containing:\n",
       "                   1  0  0  0  0  0\n",
       "                  [torch.FloatTensor of size 1x6], 201)]),\n",
       "               (203, [(Variable containing:\n",
       "                   1  0  0  0  0  0\n",
       "                  [torch.FloatTensor of size 1x6], 200)]),\n",
       "               (204, [(Variable containing:\n",
       "                   0  1  0  0  1  0\n",
       "                  [torch.FloatTensor of size 1x6], 203)]),\n",
       "               (205, [(Variable containing:\n",
       "                   1  0  0  0  0  0\n",
       "                  [torch.FloatTensor of size 1x6], 204)]),\n",
       "               (206, [(Variable containing:\n",
       "                   1  0  0  0  1  0\n",
       "                  [torch.FloatTensor of size 1x6], 204)]),\n",
       "               (207, [(Variable containing:\n",
       "                   1  0  0  0  1  0\n",
       "                  [torch.FloatTensor of size 1x6], 199)]),\n",
       "               (208, [(Variable containing:\n",
       "                   1  0  0  0  1  0\n",
       "                  [torch.FloatTensor of size 1x6], 192)]),\n",
       "               (209, [(Variable containing:\n",
       "                   1  0  0  0  1  0\n",
       "                  [torch.FloatTensor of size 1x6], 188)]),\n",
       "               (210, [(Variable containing:\n",
       "                   1  0  0  0  1  0\n",
       "                  [torch.FloatTensor of size 1x6], 184)]),\n",
       "               (211, [(Variable containing:\n",
       "                   1  0  0  0  1  0\n",
       "                  [torch.FloatTensor of size 1x6], 178)]),\n",
       "               (212, [(Variable containing:\n",
       "                   1  0  0  0  1  0\n",
       "                  [torch.FloatTensor of size 1x6], 171)]),\n",
       "               (213, [(Variable containing:\n",
       "                   1  0  0  0  1  0\n",
       "                  [torch.FloatTensor of size 1x6], 165)]),\n",
       "               (214, [(Variable containing:\n",
       "                   1  0  0  0  1  0\n",
       "                  [torch.FloatTensor of size 1x6], 160)]),\n",
       "               (215, [(Variable containing:\n",
       "                   1  0  0  0  1  0\n",
       "                  [torch.FloatTensor of size 1x6], 155)]),\n",
       "               (216, [(Variable containing:\n",
       "                   1  0  0  0  1  0\n",
       "                  [torch.FloatTensor of size 1x6], 147)])]),\n",
       "  OrderedDict([(0, [44:56]fold_non_lin),\n",
       "               (1, [47:55]fold_non_lin),\n",
       "               (2, [50:54]fold_non_lin),\n",
       "               (3, [53:46]fold_non_lin),\n",
       "               (4, [53:47]fold_non_lin),\n",
       "               (5, [56:40]fold_non_lin),\n",
       "               (6, [59:31]fold_non_lin),\n",
       "               (7, [62:27]fold_non_lin),\n",
       "               (8, [65:23]fold_non_lin),\n",
       "               (9, [68:22]fold_non_lin),\n",
       "               (10, [68:23]fold_non_lin),\n",
       "               (11, [65:24]fold_non_lin),\n",
       "               (12, [68:24]fold_non_lin),\n",
       "               (13, [71:22]fold_non_lin),\n",
       "               (14, [74:21]fold_non_lin),\n",
       "               (15, [77:24]fold_non_lin),\n",
       "               (16, [77:25]fold_non_lin),\n",
       "               (17, [74:22]fold_non_lin),\n",
       "               (18, [77:26]fold_non_lin),\n",
       "               (19, [80:26]fold_non_lin),\n",
       "               (20, [83:29]fold_non_lin),\n",
       "               (21, [86:25]fold_non_lin),\n",
       "               (22, [89:31]fold_non_lin),\n",
       "               (23, [92:25]fold_non_lin),\n",
       "               (24, [95:28]fold_non_lin),\n",
       "               (25, [83:30]fold_non_lin),\n",
       "               (26, [86:26]fold_non_lin),\n",
       "               (27, [89:32]fold_non_lin),\n",
       "               (28, [92:26]fold_non_lin),\n",
       "               (29, [95:29]fold_non_lin),\n",
       "               (30, [98:22]fold_non_lin),\n",
       "               (31, [98:23]fold_non_lin),\n",
       "               (32, [92:27]fold_non_lin),\n",
       "               (33, [95:30]fold_non_lin),\n",
       "               (34, [98:24]fold_non_lin),\n",
       "               (35, [101:26]fold_non_lin),\n",
       "               (36, [104:17]fold_non_lin),\n",
       "               (37, [107:16]fold_non_lin),\n",
       "               (38, [107:17]fold_non_lin),\n",
       "               (39, [101:27]fold_non_lin),\n",
       "               (40, [104:18]fold_non_lin),\n",
       "               (41, [107:18]fold_non_lin),\n",
       "               (42, [110:18]fold_non_lin),\n",
       "               (43, [113:13]fold_non_lin),\n",
       "               (44, [116:15]fold_non_lin),\n",
       "               (45, [119:13]fold_non_lin),\n",
       "               (46, [122:16]fold_non_lin),\n",
       "               (47, [110:19]fold_non_lin),\n",
       "               (48, [113:14]fold_non_lin),\n",
       "               (49, [116:16]fold_non_lin),\n",
       "               (50, [119:14]fold_non_lin),\n",
       "               (51, [122:17]fold_non_lin),\n",
       "               (52, [125:15]fold_non_lin),\n",
       "               (53, [128:15]fold_non_lin),\n",
       "               (54, [128:16]fold_non_lin),\n",
       "               (55, [119:15]fold_non_lin),\n",
       "               (56, [122:18]fold_non_lin),\n",
       "               (57, [125:16]fold_non_lin),\n",
       "               (58, [128:17]fold_non_lin),\n",
       "               (59, [131:17]fold_non_lin),\n",
       "               (60, [134:15]fold_non_lin),\n",
       "               (61, [137:16]fold_non_lin),\n",
       "               (62, [140:13]fold_non_lin),\n",
       "               (63, [128:18]fold_non_lin),\n",
       "               (64, [131:18]fold_non_lin),\n",
       "               (65, [134:16]fold_non_lin),\n",
       "               (66, [137:17]fold_non_lin),\n",
       "               (67, [140:14]fold_non_lin),\n",
       "               (68, [143:11]fold_non_lin),\n",
       "               (69, [146:10]fold_non_lin),\n",
       "               (70, [149:9]fold_non_lin),\n",
       "               (71, [137:18]fold_non_lin),\n",
       "               (72, [140:15]fold_non_lin),\n",
       "               (73, [143:12]fold_non_lin),\n",
       "               (74, [146:11]fold_non_lin),\n",
       "               (75, [149:10]fold_non_lin),\n",
       "               (76, [152:7]fold_non_lin),\n",
       "               (77, [155:7]fold_non_lin),\n",
       "               (78, [155:8]fold_non_lin),\n",
       "               (79, [146:12]fold_non_lin),\n",
       "               (80, [149:11]fold_non_lin),\n",
       "               (81, [152:8]fold_non_lin),\n",
       "               (82, [155:9]fold_non_lin),\n",
       "               (83, [158:6]fold_non_lin),\n",
       "               (84, [158:7]fold_non_lin),\n",
       "               (85, [155:10]fold_non_lin),\n",
       "               (86, [158:8]fold_non_lin),\n",
       "               (87, [161:8]fold_non_lin),\n",
       "               (88, [164:8]fold_non_lin),\n",
       "               (89, [167:7]fold_non_lin),\n",
       "               (90, [167:8]fold_non_lin),\n",
       "               (91, [164:9]fold_non_lin),\n",
       "               (92, [167:9]fold_non_lin),\n",
       "               (93, [170:9]fold_non_lin),\n",
       "               (94, [173:9]fold_non_lin),\n",
       "               (95, [176:8]fold_non_lin),\n",
       "               (96, [179:8]fold_non_lin),\n",
       "               (97, [182:6]fold_non_lin),\n",
       "               (98, [182:7]fold_non_lin),\n",
       "               (99, [173:10]fold_non_lin),\n",
       "               (100, [176:9]fold_non_lin),\n",
       "               (101, [179:9]fold_non_lin),\n",
       "               (102, [182:8]fold_non_lin),\n",
       "               (103, [185:8]fold_non_lin),\n",
       "               (104, [188:6]fold_non_lin),\n",
       "               (105, [191:8]fold_non_lin),\n",
       "               (106, [191:9]fold_non_lin),\n",
       "               (107, [182:9]fold_non_lin),\n",
       "               (108, [185:9]fold_non_lin),\n",
       "               (109, [188:7]fold_non_lin),\n",
       "               (110, [191:10]fold_non_lin),\n",
       "               (111, [191:11]fold_non_lin),\n",
       "               (112, [194:7]fold_non_lin),\n",
       "               (113, [197:9]fold_non_lin),\n",
       "               (114, [200:5]fold_non_lin),\n",
       "               (115, [203:6]fold_non_lin),\n",
       "               (116, [206:3]fold_non_lin),\n",
       "               (117, [209:2]fold_non_lin),\n",
       "               (118, [209:3]fold_non_lin),\n",
       "               (119, [200:6]fold_non_lin),\n",
       "               (120, [203:7]fold_non_lin),\n",
       "               (121, [206:4]fold_non_lin),\n",
       "               (122, [209:4]fold_non_lin),\n",
       "               (123, [212:0]fold_non_lin),\n",
       "               (124, [215:0]fold_non_lin),\n",
       "               (125, [215:1]fold_non_lin),\n",
       "               (126, [209:5]fold_non_lin),\n",
       "               (127, [212:1]fold_non_lin),\n",
       "               (128, [212:2]fold_non_lin),\n",
       "               (129, [203:8]fold_non_lin),\n",
       "               (130, [194:8]fold_non_lin),\n",
       "               (131, [185:10]fold_non_lin),\n",
       "               (132, [176:10]fold_non_lin),\n",
       "               (133, [167:10]fold_non_lin),\n",
       "               (134, [158:9]fold_non_lin),\n",
       "               (135, [149:12]fold_non_lin),\n",
       "               (136, [140:16]fold_non_lin),\n",
       "               (137, [131:19]fold_non_lin),\n",
       "               (138, [122:19]fold_non_lin),\n",
       "               (139, [113:15]fold_non_lin),\n",
       "               (140, [104:19]fold_non_lin),\n",
       "               (141, [95:31]fold_non_lin),\n",
       "               (142, [86:27]fold_non_lin),\n",
       "               (143, [77:27]fold_non_lin),\n",
       "               (144, [68:25]fold_non_lin),\n",
       "               (145, [59:32]fold_non_lin),\n",
       "               (146, [56:41]fold_non_lin),\n",
       "               (147, [59:33]fold_non_lin),\n",
       "               (148, [62:28]fold_non_lin),\n",
       "               (149, [65:25]fold_non_lin),\n",
       "               (150, [68:26]fold_non_lin),\n",
       "               (151, [71:23]fold_non_lin),\n",
       "               (152, [74:23]fold_non_lin),\n",
       "               (153, [74:24]fold_non_lin),\n",
       "               (154, [65:26]fold_non_lin),\n",
       "               (155, [68:27]fold_non_lin),\n",
       "               (156, [71:24]fold_non_lin),\n",
       "               (157, [74:25]fold_non_lin),\n",
       "               (158, [77:28]fold_non_lin),\n",
       "               (159, [74:26]fold_non_lin),\n",
       "               (160, [77:29]fold_non_lin),\n",
       "               (161, [80:27]fold_non_lin),\n",
       "               (162, [83:31]fold_non_lin),\n",
       "               (163, [86:28]fold_non_lin),\n",
       "               (164, [83:32]fold_non_lin),\n",
       "               (165, [86:29]fold_non_lin),\n",
       "               (166, [89:33]fold_non_lin),\n",
       "               (167, [92:28]fold_non_lin),\n",
       "               (168, [95:32]fold_non_lin),\n",
       "               (169, [95:33]fold_non_lin),\n",
       "               (170, [92:29]fold_non_lin),\n",
       "               (171, [95:34]fold_non_lin),\n",
       "               (172, [98:25]fold_non_lin),\n",
       "               (173, [101:28]fold_non_lin),\n",
       "               (174, [104:20]fold_non_lin),\n",
       "               (175, [107:19]fold_non_lin),\n",
       "               (176, [107:20]fold_non_lin),\n",
       "               (177, [101:29]fold_non_lin),\n",
       "               (178, [104:21]fold_non_lin),\n",
       "               (179, [107:21]fold_non_lin),\n",
       "               (180, [110:20]fold_non_lin),\n",
       "               (181, [113:16]fold_non_lin),\n",
       "               (182, [113:17]fold_non_lin),\n",
       "               (183, [110:21]fold_non_lin),\n",
       "               (184, [113:18]fold_non_lin),\n",
       "               (185, [116:17]fold_non_lin),\n",
       "               (186, [119:16]fold_non_lin),\n",
       "               (187, [119:17]fold_non_lin),\n",
       "               (188, [122:20]fold_non_lin),\n",
       "               (189, [125:17]fold_non_lin),\n",
       "               (190, [128:19]fold_non_lin),\n",
       "               (191, [128:20]fold_non_lin),\n",
       "               (192, [131:20]fold_non_lin),\n",
       "               (193, [134:17]fold_non_lin),\n",
       "               (194, [137:19]fold_non_lin),\n",
       "               (195, [140:17]fold_non_lin),\n",
       "               (196, [143:13]fold_non_lin),\n",
       "               (197, [143:14]fold_non_lin),\n",
       "               (198, [137:20]fold_non_lin),\n",
       "               (199, [140:18]fold_non_lin),\n",
       "               (200, [143:15]fold_non_lin),\n",
       "               (201, [146:13]fold_non_lin),\n",
       "               (202, [149:13]fold_non_lin),\n",
       "               (203, [146:14]fold_non_lin),\n",
       "               (204, [149:14]fold_non_lin),\n",
       "               (205, [152:9]fold_non_lin),\n",
       "               (206, [152:10]fold_non_lin),\n",
       "               (207, [143:16]fold_non_lin),\n",
       "               (208, [134:18]fold_non_lin),\n",
       "               (209, [125:18]fold_non_lin),\n",
       "               (210, [116:18]fold_non_lin),\n",
       "               (211, [107:22]fold_non_lin),\n",
       "               (212, [98:26]fold_non_lin),\n",
       "               (213, [89:34]fold_non_lin),\n",
       "               (214, [80:28]fold_non_lin),\n",
       "               (215, [71:25]fold_non_lin),\n",
       "               (216, [62:29]fold_non_lin)]))]"
      ]
     },
     "execution_count": 17,
     "metadata": {},
     "output_type": "execute_result"
    }
   ],
   "source": [
    "train_x[i:i+n]"
   ]
  },
  {
   "cell_type": "code",
   "execution_count": null,
   "metadata": {
    "collapsed": true
   },
   "outputs": [],
   "source": [
    "train_y[i:i+n]"
   ]
  },
  {
   "cell_type": "code",
   "execution_count": null,
   "metadata": {
    "collapsed": true
   },
   "outputs": [],
   "source": []
  },
  {
   "cell_type": "code",
   "execution_count": null,
   "metadata": {
    "collapsed": true
   },
   "outputs": [],
   "source": [
    "smiles[i:i+n]"
   ]
  },
  {
   "cell_type": "code",
   "execution_count": null,
   "metadata": {
    "collapsed": true
   },
   "outputs": [],
   "source": []
  },
  {
   "cell_type": "code",
   "execution_count": null,
   "metadata": {
    "collapsed": true
   },
   "outputs": [],
   "source": []
  },
  {
   "cell_type": "code",
   "execution_count": null,
   "metadata": {
    "collapsed": true
   },
   "outputs": [],
   "source": [
    "losses = []"
   ]
  },
  {
   "cell_type": "code",
   "execution_count": null,
   "metadata": {
    "collapsed": true,
    "scrolled": true
   },
   "outputs": [],
   "source": [
    "for j in range(100):\n",
    "    for i in range(0, 1):\n",
    "        #print(i)\n",
    "        %time loss = mpnn.make_opt_step_batched(train_smiles[i:i+100], train_labels[i:i+100], 4)\n",
    "        losses.append(loss)\n",
    "    print(j)"
   ]
  },
  {
   "cell_type": "code",
   "execution_count": null,
   "metadata": {
    "collapsed": true
   },
   "outputs": [],
   "source": [
    "plt.plot(rolling_mean(losses, 100))"
   ]
  },
  {
   "cell_type": "code",
   "execution_count": null,
   "metadata": {
    "collapsed": true
   },
   "outputs": [],
   "source": [
    "res = []\n",
    "for i in range(100):\n",
    "    res.append(forward_pass(mpnn, train_smiles[i], passes).data[0][0])"
   ]
  },
  {
   "cell_type": "code",
   "execution_count": null,
   "metadata": {
    "collapsed": true
   },
   "outputs": [],
   "source": [
    "plt.hist(res)"
   ]
  },
  {
   "cell_type": "code",
   "execution_count": null,
   "metadata": {
    "collapsed": true
   },
   "outputs": [],
   "source": [
    "def forward_pass(self, x, t):\n",
    "    g, h = self.get_features_from_smiles(x)\n",
    "    g2, h2 = self.get_features_from_smiles(x)\n",
    "#     for k, v in h.items():\n",
    "#         print(v.data.numpy())\n",
    "    for k in range(0, t):\n",
    "        self.single_message_pass(g, h, k)\n",
    "#         print('*'*33)\n",
    "#         print(h[0])\n",
    "    y_pred = self.R(h, h2)\n",
    "    return y_pred"
   ]
  },
  {
   "cell_type": "code",
   "execution_count": null,
   "metadata": {
    "collapsed": true
   },
   "outputs": [],
   "source": [
    "g, h = mpnn.get_features_from_smiles(train_smiles[10])"
   ]
  },
  {
   "cell_type": "code",
   "execution_count": null,
   "metadata": {
    "collapsed": true
   },
   "outputs": [],
   "source": [
    "np.array(losses[-50:]).mean()"
   ]
  },
  {
   "cell_type": "code",
   "execution_count": null,
   "metadata": {
    "collapsed": true
   },
   "outputs": [],
   "source": [
    "np.array(train_labels[:100]).mean()"
   ]
  },
  {
   "cell_type": "code",
   "execution_count": null,
   "metadata": {
    "collapsed": true,
    "scrolled": true
   },
   "outputs": [],
   "source": [
    "for i in range(50):\n",
    "    print(i, int(train_labels[i]), int(res[i]))"
   ]
  },
  {
   "cell_type": "code",
   "execution_count": null,
   "metadata": {
    "collapsed": true
   },
   "outputs": [],
   "source": [
    "r = (np.array(res) > 0.5).astype(int)"
   ]
  },
  {
   "cell_type": "code",
   "execution_count": null,
   "metadata": {
    "collapsed": true,
    "scrolled": true
   },
   "outputs": [],
   "source": []
  },
  {
   "cell_type": "code",
   "execution_count": null,
   "metadata": {
    "collapsed": true
   },
   "outputs": [],
   "source": []
  },
  {
   "cell_type": "markdown",
   "metadata": {},
   "source": [
    "## 2. Undirected models"
   ]
  },
  {
   "cell_type": "code",
   "execution_count": 25,
   "metadata": {
    "collapsed": true
   },
   "outputs": [],
   "source": [
    "import numpy as np\n",
    "import torch\n",
    "import torch.nn as nn\n",
    "import matplotlib.pyplot as plt\n",
    "from torch.autograd import Variable"
   ]
  },
  {
   "cell_type": "code",
   "execution_count": 54,
   "metadata": {
    "collapsed": true
   },
   "outputs": [],
   "source": [
    "def one_hots(zeros, ix):\n",
    "    for i in range(zeros.size()[0]):\n",
    "        zeros[i, ix[i]] = 1\n",
    "    return zeros\n",
    "\n",
    "def bleu(t, r, f, temp):\n",
    "    t_temp = f(t/temp)\n",
    "    length = t.size()[0]\n",
    "    tt_1 = torch.matmul(t_temp, t_temp.t())\n",
    "    tr_1 = torch.matmul(t_temp, r.t())\n",
    "    tt_2 = torch.matmul(t_temp[:-1, :], t_temp[:-1, :].t()) * torch.matmul(t_temp[1:, :], t_temp[1:, :].t())\n",
    "    tr_2 = torch.matmul(t_temp[:-1, :], r[:-1, :].t()) * torch.matmul(t_temp[1:, :], r[1:, :].t())\n",
    "    t_vec_1 = tt_1.sum(0)\n",
    "    c_vec_1 = tr_1.sum(1)\n",
    "    t_vec_2 = tt_2.sum(0)\n",
    "    c_vec_2 = tr_2.sum(1)\n",
    "    overlap_1 = torch.min(t_vec_1, c_vec_1) / t_vec_1 / length\n",
    "    overlap_2 = ((torch.min(t_vec_2, c_vec_2)+1) / t_vec_2 + 1) / (length - 1 + 1)\n",
    "    overlap = overlap_2.sum() * overlap_1.sum()\n",
    "    return overlap"
   ]
  },
  {
   "cell_type": "code",
   "execution_count": 56,
   "metadata": {
    "collapsed": true
   },
   "outputs": [],
   "source": [
    "vocab_size = 10000\n",
    "length = 5\n",
    "words = np.random.choice(vocab_size, size=length, replace=True)\n",
    "t = Variable(torch.randn((length, vocab_size)), requires_grad=True)\n",
    "r = one_hots(torch.zeros((length, vocab_size)), words)\n",
    "r = Variable(r, requires_grad=True)\n",
    "f = nn.Softmax()"
   ]
  },
  {
   "cell_type": "code",
   "execution_count": 57,
   "metadata": {
    "collapsed": true
   },
   "outputs": [],
   "source": [
    "res = []\n",
    "norms = []\n",
    "lr = 1\n",
    "for i in range(1000):\n",
    "    temp = 1\n",
    "    b2 = bleu(t, r, f, temp)\n",
    "    res.append(b2.data[0])\n",
    "    b2.backward()\n",
    "    t.data.add_(lr * t.grad.data)\n",
    "    norms.append(t.grad.data.norm())\n",
    "hard_t = one_hots(torch.zeros(list(t.size())), torch.max(t, dim=1)[1].data)"
   ]
  },
  {
   "cell_type": "code",
   "execution_count": 58,
   "metadata": {},
   "outputs": [
    {
     "data": {
      "text/plain": [
       "[<matplotlib.lines.Line2D at 0x7f5c7fd8b438>]"
      ]
     },
     "execution_count": 58,
     "metadata": {},
     "output_type": "execute_result"
    },
    {
     "data": {
      "image/png": "[encoded data removed]",
      "text/plain": [
       "<matplotlib.figure.Figure at 0x7f5c7ffdf2e8>"
      ]
     },
     "metadata": {},
     "output_type": "display_data"
    }
   ],
   "source": [
    "plt.plot(t.data[1].numpy())"
   ]
  },
  {
   "cell_type": "code",
   "execution_count": 61,
   "metadata": {},
   "outputs": [
    {
     "data": {
      "text/plain": [
       "[<matplotlib.lines.Line2D at 0x7f5c7fbc9668>]"
      ]
     },
     "execution_count": 61,
     "metadata": {},
     "output_type": "execute_result"
    },
    {
     "data": {
      "image/png": "[encoded data removed]",
      "text/plain": [
       "<matplotlib.figure.Figure at 0x7f5c7fc5fef0>"
      ]
     },
     "metadata": {},
     "output_type": "display_data"
    }
   ],
   "source": [
    "plt.plot(res[1:])"
   ]
  },
  {
   "cell_type": "code",
   "execution_count": 60,
   "metadata": {},
   "outputs": [
    {
     "data": {
      "text/plain": [
       "[<matplotlib.lines.Line2D at 0x7f5c7fcb07b8>]"
      ]
     },
     "execution_count": 60,
     "metadata": {},
     "output_type": "execute_result"
    },
    {
     "data": {
      "image/png": "[encoded data removed]",
      "text/plain": [
       "<matplotlib.figure.Figure at 0x7f5c7fcc6400>"
      ]
     },
     "metadata": {},
     "output_type": "display_data"
    }
   ],
   "source": [
    "plt.plot(norms)"
   ]
  },
  {
   "cell_type": "code",
   "execution_count": 851,
   "metadata": {},
   "outputs": [
    {
     "data": {
      "text/plain": [
       "Variable containing:\n",
       " 1\n",
       "[torch.FloatTensor of size 1]"
      ]
     },
     "execution_count": 851,
     "metadata": {},
     "output_type": "execute_result"
    }
   ],
   "source": [
    "bleu(hard_t, r, f, 1)"
   ]
  },
  {
   "cell_type": "code",
   "execution_count": 852,
   "metadata": {},
   "outputs": [
    {
     "data": {
      "text/plain": [
       "2"
      ]
     },
     "execution_count": 852,
     "metadata": {},
     "output_type": "execute_result"
    }
   ],
   "source": [
    "(hard_t * r.data > 0).sum()"
   ]
  },
  {
   "cell_type": "code",
   "execution_count": 853,
   "metadata": {},
   "outputs": [
    {
     "data": {
      "text/plain": [
       "2"
      ]
     },
     "execution_count": 853,
     "metadata": {},
     "output_type": "execute_result"
    }
   ],
   "source": [
    "(hard_t * r.data > 0).sum()"
   ]
  },
  {
   "cell_type": "code",
   "execution_count": null,
   "metadata": {
    "collapsed": true
   },
   "outputs": [],
   "source": []
  },
  {
   "cell_type": "code",
   "execution_count": 62,
   "metadata": {},
   "outputs": [
    {
     "data": {
      "text/plain": [
       "Variable containing:\n",
       " 7387\n",
       "   67\n",
       " 9965\n",
       " 4618\n",
       " 7555\n",
       "[torch.LongTensor of size 5]"
      ]
     },
     "execution_count": 62,
     "metadata": {},
     "output_type": "execute_result"
    }
   ],
   "source": [
    "torch.max(r, dim=1)[1]"
   ]
  },
  {
   "cell_type": "code",
   "execution_count": 63,
   "metadata": {},
   "outputs": [
    {
     "data": {
      "text/plain": [
       "\n",
       " 9965\n",
       "   67\n",
       " 7555\n",
       "   67\n",
       " 8577\n",
       "[torch.LongTensor of size 5]"
      ]
     },
     "execution_count": 63,
     "metadata": {},
     "output_type": "execute_result"
    }
   ],
   "source": [
    "torch.max(hard_t, dim=1)[1]"
   ]
  },
  {
   "cell_type": "code",
   "execution_count": 588,
   "metadata": {},
   "outputs": [
    {
     "ename": "RuntimeError",
     "evalue": "Trying to backward through the graph a second time, but the buffers have already been freed. Specify retain_graph=True when calling backward the first time.",
     "output_type": "error",
     "traceback": [
      "\u001b[0;31m---------------------------------------------------------------------------\u001b[0m",
      "\u001b[0;31mRuntimeError\u001b[0m                              Traceback (most recent call last)",
      "\u001b[0;32m<ipython-input-588-2d9e256bd206>\u001b[0m in \u001b[0;36m<module>\u001b[0;34m()\u001b[0m\n\u001b[0;32m----> 1\u001b[0;31m \u001b[0moverlap\u001b[0m\u001b[0;34m.\u001b[0m\u001b[0mbackward\u001b[0m\u001b[0;34m(\u001b[0m\u001b[0;34m)\u001b[0m\u001b[0;34m\u001b[0m\u001b[0m\n\u001b[0m\u001b[1;32m      2\u001b[0m \u001b[0mtotal_norm\u001b[0m \u001b[0;34m=\u001b[0m \u001b[0mt\u001b[0m\u001b[0;34m.\u001b[0m\u001b[0mgrad\u001b[0m\u001b[0;34m.\u001b[0m\u001b[0mnorm\u001b[0m\u001b[0;34m(\u001b[0m\u001b[0;34m)\u001b[0m\u001b[0;34m.\u001b[0m\u001b[0mdata\u001b[0m\u001b[0;34m[\u001b[0m\u001b[0;36m0\u001b[0m\u001b[0;34m]\u001b[0m\u001b[0;34m\u001b[0m\u001b[0m\n\u001b[1;32m      3\u001b[0m \u001b[0mlast_el_grad\u001b[0m \u001b[0;34m=\u001b[0m \u001b[0mt\u001b[0m\u001b[0;34m.\u001b[0m\u001b[0mgrad\u001b[0m\u001b[0;34m.\u001b[0m\u001b[0mdata\u001b[0m\u001b[0;34m[\u001b[0m\u001b[0;36m0\u001b[0m\u001b[0;34m]\u001b[0m\u001b[0;34m.\u001b[0m\u001b[0mnumpy\u001b[0m\u001b[0;34m(\u001b[0m\u001b[0;34m)\u001b[0m\u001b[0;34m[\u001b[0m\u001b[0;34m-\u001b[0m\u001b[0;36m1\u001b[0m\u001b[0;34m]\u001b[0m\u001b[0;34m\u001b[0m\u001b[0m\n\u001b[1;32m      4\u001b[0m \u001b[0mratio\u001b[0m \u001b[0;34m=\u001b[0m \u001b[0mlast_el_grad\u001b[0m \u001b[0;34m/\u001b[0m \u001b[0mtotal_norm\u001b[0m\u001b[0;34m\u001b[0m\u001b[0m\n\u001b[1;32m      5\u001b[0m \u001b[0mprint\u001b[0m\u001b[0;34m(\u001b[0m\u001b[0;34m'norm={},   last_el={},   ratio={},   temp={}'\u001b[0m\u001b[0;34m.\u001b[0m\u001b[0mformat\u001b[0m\u001b[0;34m(\u001b[0m\u001b[0mtotal_norm\u001b[0m\u001b[0;34m,\u001b[0m \u001b[0mlast_el_grad\u001b[0m\u001b[0;34m,\u001b[0m \u001b[0mratio\u001b[0m\u001b[0;34m,\u001b[0m \u001b[0mtemp\u001b[0m\u001b[0;34m)\u001b[0m\u001b[0;34m)\u001b[0m\u001b[0;34m\u001b[0m\u001b[0m\n",
      "\u001b[0;32m~/anaconda3/envs/pytorch/lib/python3.6/site-packages/torch/autograd/variable.py\u001b[0m in \u001b[0;36mbackward\u001b[0;34m(self, gradient, retain_graph, create_graph, retain_variables)\u001b[0m\n\u001b[1;32m    154\u001b[0m                 \u001b[0mVariable\u001b[0m\u001b[0;34m.\u001b[0m\u001b[0;34m\u001b[0m\u001b[0m\n\u001b[1;32m    155\u001b[0m         \"\"\"\n\u001b[0;32m--> 156\u001b[0;31m         \u001b[0mtorch\u001b[0m\u001b[0;34m.\u001b[0m\u001b[0mautograd\u001b[0m\u001b[0;34m.\u001b[0m\u001b[0mbackward\u001b[0m\u001b[0;34m(\u001b[0m\u001b[0mself\u001b[0m\u001b[0;34m,\u001b[0m \u001b[0mgradient\u001b[0m\u001b[0;34m,\u001b[0m \u001b[0mretain_graph\u001b[0m\u001b[0;34m,\u001b[0m \u001b[0mcreate_graph\u001b[0m\u001b[0;34m,\u001b[0m \u001b[0mretain_variables\u001b[0m\u001b[0;34m)\u001b[0m\u001b[0;34m\u001b[0m\u001b[0m\n\u001b[0m\u001b[1;32m    157\u001b[0m \u001b[0;34m\u001b[0m\u001b[0m\n\u001b[1;32m    158\u001b[0m     \u001b[0;32mdef\u001b[0m \u001b[0mregister_hook\u001b[0m\u001b[0;34m(\u001b[0m\u001b[0mself\u001b[0m\u001b[0;34m,\u001b[0m \u001b[0mhook\u001b[0m\u001b[0;34m)\u001b[0m\u001b[0;34m:\u001b[0m\u001b[0;34m\u001b[0m\u001b[0m\n",
      "\u001b[0;32m~/anaconda3/envs/pytorch/lib/python3.6/site-packages/torch/autograd/__init__.py\u001b[0m in \u001b[0;36mbackward\u001b[0;34m(variables, grad_variables, retain_graph, create_graph, retain_variables)\u001b[0m\n\u001b[1;32m     96\u001b[0m \u001b[0;34m\u001b[0m\u001b[0m\n\u001b[1;32m     97\u001b[0m     Variable._execution_engine.run_backward(\n\u001b[0;32m---> 98\u001b[0;31m         variables, grad_variables, retain_graph)\n\u001b[0m\u001b[1;32m     99\u001b[0m \u001b[0;34m\u001b[0m\u001b[0m\n\u001b[1;32m    100\u001b[0m \u001b[0;34m\u001b[0m\u001b[0m\n",
      "\u001b[0;32m~/anaconda3/envs/pytorch/lib/python3.6/site-packages/torch/autograd/function.py\u001b[0m in \u001b[0;36mapply\u001b[0;34m(self, *args)\u001b[0m\n\u001b[1;32m     89\u001b[0m \u001b[0;34m\u001b[0m\u001b[0m\n\u001b[1;32m     90\u001b[0m     \u001b[0;32mdef\u001b[0m \u001b[0mapply\u001b[0m\u001b[0;34m(\u001b[0m\u001b[0mself\u001b[0m\u001b[0;34m,\u001b[0m \u001b[0;34m*\u001b[0m\u001b[0margs\u001b[0m\u001b[0;34m)\u001b[0m\u001b[0;34m:\u001b[0m\u001b[0;34m\u001b[0m\u001b[0m\n\u001b[0;32m---> 91\u001b[0;31m         \u001b[0;32mreturn\u001b[0m \u001b[0mself\u001b[0m\u001b[0;34m.\u001b[0m\u001b[0m_forward_cls\u001b[0m\u001b[0;34m.\u001b[0m\u001b[0mbackward\u001b[0m\u001b[0;34m(\u001b[0m\u001b[0mself\u001b[0m\u001b[0;34m,\u001b[0m \u001b[0;34m*\u001b[0m\u001b[0margs\u001b[0m\u001b[0;34m)\u001b[0m\u001b[0;34m\u001b[0m\u001b[0m\n\u001b[0m\u001b[1;32m     92\u001b[0m \u001b[0;34m\u001b[0m\u001b[0m\n\u001b[1;32m     93\u001b[0m \u001b[0;34m\u001b[0m\u001b[0m\n",
      "\u001b[0;32m~/anaconda3/envs/pytorch/lib/python3.6/site-packages/torch/autograd/_functions/basic_ops.py\u001b[0m in \u001b[0;36mbackward\u001b[0;34m(ctx, grad_output)\u001b[0m\n\u001b[1;32m     50\u001b[0m     \u001b[0;34m@\u001b[0m\u001b[0mstaticmethod\u001b[0m\u001b[0;34m\u001b[0m\u001b[0m\n\u001b[1;32m     51\u001b[0m     \u001b[0;32mdef\u001b[0m \u001b[0mbackward\u001b[0m\u001b[0;34m(\u001b[0m\u001b[0mctx\u001b[0m\u001b[0;34m,\u001b[0m \u001b[0mgrad_output\u001b[0m\u001b[0;34m)\u001b[0m\u001b[0;34m:\u001b[0m\u001b[0;34m\u001b[0m\u001b[0m\n\u001b[0;32m---> 52\u001b[0;31m         \u001b[0ma\u001b[0m\u001b[0;34m,\u001b[0m \u001b[0mb\u001b[0m \u001b[0;34m=\u001b[0m \u001b[0mctx\u001b[0m\u001b[0;34m.\u001b[0m\u001b[0msaved_variables\u001b[0m\u001b[0;34m\u001b[0m\u001b[0m\n\u001b[0m\u001b[1;32m     53\u001b[0m         \u001b[0;32mreturn\u001b[0m \u001b[0mmaybe_unexpand\u001b[0m\u001b[0;34m(\u001b[0m\u001b[0mgrad_output\u001b[0m\u001b[0;34m.\u001b[0m\u001b[0mmul\u001b[0m\u001b[0;34m(\u001b[0m\u001b[0mb\u001b[0m\u001b[0;34m)\u001b[0m\u001b[0;34m,\u001b[0m \u001b[0mctx\u001b[0m\u001b[0;34m.\u001b[0m\u001b[0ma_size\u001b[0m\u001b[0;34m)\u001b[0m\u001b[0;34m,\u001b[0m \u001b[0mmaybe_unexpand_or_view\u001b[0m\u001b[0;34m(\u001b[0m\u001b[0mgrad_output\u001b[0m\u001b[0;34m.\u001b[0m\u001b[0mmul\u001b[0m\u001b[0;34m(\u001b[0m\u001b[0ma\u001b[0m\u001b[0;34m)\u001b[0m\u001b[0;34m,\u001b[0m \u001b[0mctx\u001b[0m\u001b[0;34m.\u001b[0m\u001b[0mb_size\u001b[0m\u001b[0;34m)\u001b[0m\u001b[0;34m\u001b[0m\u001b[0m\n\u001b[1;32m     54\u001b[0m \u001b[0;34m\u001b[0m\u001b[0m\n",
      "\u001b[0;31mRuntimeError\u001b[0m: Trying to backward through the graph a second time, but the buffers have already been freed. Specify retain_graph=True when calling backward the first time."
     ]
    }
   ],
   "source": [
    "    overlap.backward()\n",
    "    total_norm = t.grad.norm().data[0]\n",
    "    last_el_grad = t.grad.data[0].numpy()[-1]\n",
    "    ratio = last_el_grad / total_norm\n",
    "    print('norm={},   last_el={},   ratio={},   temp={}'.format(total_norm, last_el_grad, ratio, temp))\n",
    "# norms.append(t.grad.norm().data[0])\n",
    "# plt.plot(norms)\n",
    "# plt.show()"
   ]
  },
  {
   "cell_type": "code",
   "execution_count": 568,
   "metadata": {},
   "outputs": [
    {
     "data": {
      "text/plain": [
       "array([  3.62997688e-02,  -1.66771650e+00,   1.31142914e+00, ...,\n",
       "        -8.90833199e-01,   2.14474225e+06,   2.16324025e+06], dtype=float32)"
      ]
     },
     "execution_count": 568,
     "metadata": {},
     "output_type": "execute_result"
    }
   ],
   "source": [
    "t.data[0].numpy()"
   ]
  },
  {
   "cell_type": "code",
   "execution_count": 569,
   "metadata": {},
   "outputs": [
    {
     "data": {
      "text/plain": [
       "array([ -6.88916802e-01,   2.19479710e-01,  -2.57987827e-01, ...,\n",
       "        -2.35618144e-01,   2.15968600e+06,  -1.64310202e-01], dtype=float32)"
      ]
     },
     "execution_count": 569,
     "metadata": {},
     "output_type": "execute_result"
    }
   ],
   "source": [
    "t.data[1].numpy()"
   ]
  },
  {
   "cell_type": "code",
   "execution_count": 387,
   "metadata": {},
   "outputs": [
    {
     "data": {
      "text/plain": [
       "Variable containing:\n",
       " 0.1565\n",
       " 0.2245\n",
       "[torch.FloatTensor of size 2]"
      ]
     },
     "execution_count": 387,
     "metadata": {},
     "output_type": "execute_result"
    }
   ],
   "source": [
    "overlap_1"
   ]
  },
  {
   "cell_type": "code",
   "execution_count": 418,
   "metadata": {},
   "outputs": [
    {
     "data": {
      "text/plain": [
       "2.431659212158212e-40"
      ]
     },
     "execution_count": 418,
     "metadata": {},
     "output_type": "execute_result"
    }
   ],
   "source": [
    "total_norm"
   ]
  },
  {
   "cell_type": "code",
   "execution_count": 314,
   "metadata": {},
   "outputs": [
    {
     "name": "stdout",
     "output_type": "stream",
     "text": [
      "Variable containing:\n",
      " 5\n",
      "[torch.FloatTensor of size 1]\n",
      "\n"
     ]
    }
   ],
   "source": [
    "x = Variable(torch.Tensor([1]), requires_grad=True)\n",
    "y = Variable(torch.Tensor([2]), requires_grad=False)\n",
    "z = x * y\n",
    "\n",
    "w =  z * 5\n",
    "z.register_hook(lambda grad: print(grad.norm()))\n",
    "w.backward()\n",
    "#print(w.grad)"
   ]
  },
  {
   "cell_type": "code",
   "execution_count": 417,
   "metadata": {},
   "outputs": [
    {
     "data": {
      "text/plain": [
       "0.9996163094458892"
      ]
     },
     "execution_count": 417,
     "metadata": {},
     "output_type": "execute_result"
    }
   ],
   "source": [
    "(1e-5)**(1/30000)"
   ]
  },
  {
   "cell_type": "code",
   "execution_count": 253,
   "metadata": {},
   "outputs": [
    {
     "data": {
      "image/png": "[encoded data removed]",
      "text/plain": [
       "<matplotlib.figure.Figure at 0x7f1f68c3f9b0>"
      ]
     },
     "metadata": {},
     "output_type": "display_data"
    }
   ],
   "source": [
    "plt.hist(t.grad[0].data.numpy(), 100)\n",
    "plt.show()"
   ]
  },
  {
   "cell_type": "code",
   "execution_count": 254,
   "metadata": {
    "collapsed": true
   },
   "outputs": [],
   "source": [
    "g = t.grad[0].data.numpy()"
   ]
  },
  {
   "cell_type": "code",
   "execution_count": 278,
   "metadata": {
    "collapsed": true
   },
   "outputs": [],
   "source": [
    "x.requires_grad = True"
   ]
  },
  {
   "cell_type": "code",
   "execution_count": null,
   "metadata": {
    "collapsed": true
   },
   "outputs": [],
   "source": []
  },
  {
   "cell_type": "code",
   "execution_count": null,
   "metadata": {
    "collapsed": true
   },
   "outputs": [],
   "source": []
  },
  {
   "cell_type": "code",
   "execution_count": null,
   "metadata": {
    "collapsed": true
   },
   "outputs": [],
   "source": []
  }
 ],
 "metadata": {
  "kernelspec": {
   "display_name": "Python 3",
   "language": "python",
   "name": "python3"
  },
  "language_info": {
   "codemirror_mode": {
    "name": "ipython",
    "version": 3
   },
   "file_extension": ".py",
   "mimetype": "text/x-python",
   "name": "python",
   "nbconvert_exporter": "python",
   "pygments_lexer": "ipython3",
   "version": "3.6.2"
  }
 },
 "nbformat": 4,
 "nbformat_minor": 2
}
