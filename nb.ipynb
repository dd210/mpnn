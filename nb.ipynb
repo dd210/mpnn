{
 "cells": [
  {
   "cell_type": "markdown",
   "metadata": {
    "collapsed": true
   },
   "source": [
    "# Neural Message Passing for Quantum Chemistry\n",
    "\n",
    "Ref: https://arxiv.org/pdf/1704.01212.pdf\n",
    "\n",
    "Assumptions:\n",
    "1. Hidden states for atoms are not updated (only for atoms)."
   ]
  },
  {
   "cell_type": "markdown",
   "metadata": {},
   "source": [
    "## 1. Directed models"
   ]
  },
  {
   "cell_type": "code",
   "execution_count": 161,
   "metadata": {},
   "outputs": [
    {
     "name": "stdout",
     "output_type": "stream",
     "text": [
      "The autoreload extension is already loaded. To reload it, use:\n",
      "  %reload_ext autoreload\n"
     ]
    }
   ],
   "source": [
    "%load_ext autoreload\n",
    "%autoreload 2\n",
    "%matplotlib inline"
   ]
  },
  {
   "cell_type": "code",
   "execution_count": 199,
   "metadata": {},
   "outputs": [],
   "source": [
    "import torch.optim as optim\n",
    "import matplotlib.pyplot as plt\n",
    "import numpy as np\n",
    "\n",
    "import torch\n",
    "from torch.autograd import Variable\n",
    "from utils import rolling_mean\n",
    "from data import DataPreprocessor\n",
    "from mpnn.mpnn_directed import MPNNdirected\n",
    "from mpnn.directed import Rd, Vd, Ud, Ed"
   ]
  },
  {
   "cell_type": "code",
   "execution_count": 163,
   "metadata": {
    "collapsed": true
   },
   "outputs": [],
   "source": [
    "at_feat = 75\n",
    "edg_feat = 6\n",
    "passes = 4\n",
    "rd = Rd(inp_size=at_feat*2, hid_size=32)\n",
    "vd = Vd(inp_size=at_feat)\n",
    "ud = Ud(inp_size=at_feat*2+edg_feat, out_size=at_feat)\n",
    "ed = Ed(inp_size=edg_feat)"
   ]
  },
  {
   "cell_type": "code",
   "execution_count": 200,
   "metadata": {},
   "outputs": [],
   "source": [
    "mpnn = MPNNdirected(rd, ud, vd, ed, passes)"
   ]
  },
  {
   "cell_type": "code",
   "execution_count": 110,
   "metadata": {
    "collapsed": true
   },
   "outputs": [],
   "source": [
    "DATASET = 'data.test'"
   ]
  },
  {
   "cell_type": "code",
   "execution_count": 111,
   "metadata": {
    "collapsed": true
   },
   "outputs": [],
   "source": [
    "data = DataPreprocessor(DATASET, filter_dots=True, filter_atoms=True)"
   ]
  },
  {
   "cell_type": "code",
   "execution_count": 112,
   "metadata": {},
   "outputs": [
    {
     "name": "stdout",
     "output_type": "stream",
     "text": [
      "File data.test read. In total 1696 lines.\n"
     ]
    }
   ],
   "source": [
    "data.load_dataset()"
   ]
  },
  {
   "cell_type": "code",
   "execution_count": 113,
   "metadata": {},
   "outputs": [
    {
     "name": "stdout",
     "output_type": "stream",
     "text": [
      "Data filtered, in total 220 smiles deleted\n"
     ]
    }
   ],
   "source": [
    "data.filter_data()"
   ]
  },
  {
   "cell_type": "code",
   "execution_count": 114,
   "metadata": {},
   "outputs": [
    {
     "name": "stdout",
     "output_type": "stream",
     "text": [
      "File data.test read. In total 1696 lines.\n",
      "Data filtered, in total 220 smiles deleted\n",
      "About to generate scaffolds\n",
      "Generating scaffold 0/1476\n",
      "Generating scaffold 1000/1476\n",
      "About to sort in scaffold sets\n"
     ]
    }
   ],
   "source": [
    "train_smiles, train_labels, valid_smiles, valid_labels, test_smiles, test_labels = data.get_data()"
   ]
  },
  {
   "cell_type": "code",
   "execution_count": 115,
   "metadata": {
    "collapsed": true
   },
   "outputs": [],
   "source": [
    "losses = []"
   ]
  },
  {
   "cell_type": "code",
   "execution_count": null,
   "metadata": {
    "scrolled": true
   },
   "outputs": [
    {
     "name": "stdout",
     "output_type": "stream",
     "text": [
      "0 0.2518308758735657\n",
      "1 0.24897924065589905\n",
      "2 0.24613520503044128\n",
      "3 0.23758557438850403\n",
      "4 0.2286469042301178\n",
      "5 0.24088028073310852\n",
      "6 0.22219446301460266\n",
      "7 0.23012609779834747\n",
      "8 0.17206139862537384\n",
      "9 0.21502570807933807\n",
      "10 0.3623237609863281\n",
      "11 0.1955443024635315\n",
      "12 0.20598377287387848\n",
      "13 0.21287111937999725\n",
      "14 0.20524942874908447\n",
      "15 0.4006253480911255\n",
      "16 0.31148678064346313\n",
      "17 0.17003174126148224\n",
      "18 8.774836896918714e-05\n",
      "19 0.1909409761428833\n",
      "20 0.1708410680294037\n",
      "21 0.19698423147201538\n",
      "22 0.32186374068260193\n",
      "23 0.19631384313106537\n",
      "24 0.18147459626197815\n",
      "25 0.26726436614990234\n",
      "26 0.26783591508865356\n",
      "27 0.1476643979549408\n",
      "28 0.08650998026132584\n",
      "29 0.14515051245689392\n",
      "30 0.16927094757556915\n",
      "31 0.17562970519065857\n",
      "32 0.2083476483821869\n",
      "33 0.17105230689048767\n",
      "34 0.09335259348154068\n",
      "35 0.030412064865231514\n",
      "36 0.08645587414503098\n",
      "37 0.07453926652669907\n",
      "38 0.03697970509529114\n",
      "39 0.9941427707672119\n",
      "40 1.849216069160775e-08\n",
      "41 4.066528163093608e-06\n",
      "42 2.4962119038463015e-09\n",
      "43 4.32794511340262e-09\n",
      "44 1.0\n",
      "45 2.386516406716055e-08\n",
      "46 2.591234306237311e-06\n",
      "47 4.902292349839854e-09\n",
      "48 2.7519000451480365e-21\n",
      "49 4.9357317948306445e-06\n",
      "50 4.581827113270265e-07\n",
      "51 3.5138180010108044e-07\n",
      "52 2.373394352161995e-07\n",
      "53 1.8916497257492892e-09\n",
      "54 1.6961235069440708e-14\n",
      "55 1.0378321721798863e-19\n",
      "56 4.117128912777977e-25\n",
      "57 1.0\n",
      "58 6.749934982508421e-05\n",
      "59 3.6277751636060174e-11\n",
      "60 3.5011345643919453e-28\n",
      "61 1.4197807019682498e-14\n",
      "62 2.557825864322337e-26\n",
      "63 1.2455926047538757e-12\n",
      "64 1.654541122797598e-40\n",
      "65 1.3378473676106672e-11\n",
      "66 1.0205867184351347e-12\n",
      "67 1.2027287499272177e-10\n",
      "68 2.736096848402503e-19\n",
      "69 1.0120650845157897e-10\n",
      "70 3.303184018033925e-27\n",
      "71 2.215693370999361e-07\n",
      "72 1.0\n",
      "73 7.80756709284347e-11\n",
      "74 2.3974657708310948e-15\n",
      "75 1.5064845371171032e-08\n",
      "76 0.9999834299087524\n",
      "77 2.8398488869187978e-14\n",
      "78 1.492640268511446e-16\n",
      "79 1.077824930367945e-27\n",
      "80 9.871503947036378e-18\n",
      "81 9.558997593155682e-18\n",
      "82 5.721737666997129e-11\n",
      "83 6.02728357296582e-35\n",
      "84 8.522469975274671e-18\n",
      "85 1.0\n",
      "86 0.999998927116394\n",
      "87 0.9999449253082275\n",
      "88 0.9992468357086182\n",
      "89 8.929637058658588e-17\n",
      "90 2.615411479785125e-40\n",
      "91 2.6987747254278084e-40\n",
      "92 0.999998927116394\n",
      "93 0.9972880482673645\n",
      "94 1.2535525506507383e-08\n",
      "95 1.556046242967568e-07\n",
      "96 0.9888565540313721\n",
      "97 1.401298464324817e-45\n",
      "98 9.159471098252325e-11\n",
      "99 1.0\n",
      "0\n",
      "0 4.1177127655250563e-16\n",
      "1 8.82155744394604e-14\n",
      "2 6.404947203847693e-15\n",
      "3 1.2504656757688057e-27\n",
      "4 8.637157507144256e-32\n",
      "5 2.902268869675595e-09\n",
      "6 4.1182979592800124e-22\n",
      "7 2.3069415301668617e-12\n",
      "8 5.262577784070315e-39\n",
      "9 2.058024432295691e-13\n",
      "10 1.0\n",
      "11 1.5448238772791949e-15\n",
      "12 3.2233939909614984e-12\n",
      "13 3.8604994756497035e-09\n",
      "14 3.660858283183188e-10\n",
      "15 1.0\n",
      "16 0.9999959468841553\n",
      "17 1.6525741179362468e-16\n",
      "18 0.0\n",
      "19 3.2735177958077843e-13\n",
      "20 2.13712990332491e-16\n",
      "21 4.240865297822083e-11\n",
      "22 0.9999959468841553\n",
      "23 4.697509603523997e-10\n",
      "24 3.8380510249992617e-13\n",
      "25 0.8377335071563721\n",
      "26 0.8233140707015991\n",
      "27 2.7171597683695052e-17\n",
      "28 3.489168465824628e-24\n",
      "29 2.25463571423834e-11\n",
      "30 4.279411491836527e-09\n",
      "31 3.353620456891804e-07\n",
      "32 0.0016859533498063684\n",
      "33 0.00010857886809390038\n",
      "34 4.480261850403622e-07\n",
      "35 9.687521007606392e-09\n",
      "36 0.00027921880246140063\n",
      "37 0.0042680613696575165\n",
      "38 0.004813314415514469\n",
      "39 0.9980463981628418\n",
      "40 3.0012817120450563e-08\n",
      "41 1.724423600535374e-05\n",
      "42 1.431806282425896e-07\n",
      "43 6.801699328207178e-07\n",
      "44 0.9999951124191284\n",
      "45 1.1434860425652005e-05\n",
      "46 0.00033275538589805365\n",
      "47 1.3017039236729033e-05\n",
      "48 2.99103428656744e-12\n",
      "49 0.0011939589167013764\n",
      "50 0.0004261175054125488\n",
      "51 0.0004719092103186995\n",
      "52 0.000445602840045467\n",
      "53 4.874270598520525e-05\n",
      "54 2.171456685573503e-07\n",
      "55 9.124485611522459e-10\n",
      "56 3.3083991275717484e-12\n",
      "57 0.9999891519546509\n",
      "58 0.009724823758006096\n",
      "59 1.62383439601399e-05\n",
      "60 2.8536510177437635e-13\n",
      "61 4.4476649918578914e-07\n",
      "62 2.0153462232386232e-12\n",
      "63 3.503138259475236e-06\n",
      "64 7.966784825614996e-19\n",
      "65 1.0729564564826433e-05\n",
      "66 3.4033732845273335e-06\n",
      "67 2.8441016183933243e-05\n",
      "68 3.7015004394902462e-09\n",
      "69 2.640122147568036e-05\n",
      "70 8.917113466892779e-13\n",
      "71 0.0008744249935261905\n",
      "72 1.0\n",
      "73 2.2880014512338676e-05\n",
      "74 1.933602220560715e-07\n",
      "75 0.0002580748114269227\n",
      "76 0.9909175634384155\n",
      "77 6.869269668641209e-07\n",
      "78 7.47511634813236e-08\n",
      "79 1.028848230569257e-12\n",
      "80 2.9617373442647477e-08\n",
      "81 3.309441254373269e-08\n",
      "82 3.2956817449303344e-05\n",
      "83 1.2818080769372363e-15\n",
      "84 4.2527027233063563e-08\n",
      "85 0.9999725818634033\n",
      "86 0.9959865808486938\n",
      "87 0.976880669593811\n",
      "88 0.9243821501731873\n",
      "89 9.78002844931325e-07\n",
      "90 3.6045195691072895e-14\n",
      "91 4.0861143136596e-13\n",
      "92 0.9711841344833374\n",
      "93 0.7234984636306763\n",
      "94 0.01592615246772766\n",
      "95 0.038531672209501266\n",
      "96 0.4798591732978821\n",
      "97 2.2035148958821082e-06\n",
      "98 0.0568954274058342\n",
      "99 0.7853021025657654\n",
      "1\n",
      "0 0.06578540056943893\n",
      "1 0.11480730026960373\n",
      "2 0.11141041666269302\n",
      "3 0.048619385808706284\n",
      "4 0.024512406438589096\n",
      "5 0.13154236972332\n",
      "6 0.020593255758285522\n",
      "7 0.058846231549978256\n",
      "8 8.981876453617588e-05\n",
      "9 0.021285273134708405\n",
      "10 0.975895345211029\n",
      "11 0.004272096324712038\n",
      "12 0.00982049573212862\n",
      "13 0.020435506477952003\n",
      "14 0.010699872858822346\n",
      "15 0.9975845813751221\n",
      "16 0.9041976928710938\n",
      "17 0.00018493716197554022\n"
     ]
    }
   ],
   "source": [
    "for j in range(100):\n",
    "    for i in range(100):\n",
    "        loss = mpnn.make_opt_step(train_smiles[i:i+1], train_labels[i:i+1], passes)\n",
    "        print(i, loss)\n",
    "        losses.append(loss)\n",
    "    print(j)\n"
   ]
  },
  {
   "cell_type": "code",
   "execution_count": 98,
   "metadata": {},
   "outputs": [
    {
     "data": {
      "text/plain": [
       "[<matplotlib.lines.Line2D at 0x7f40a8778278>]"
      ]
     },
     "execution_count": 98,
     "metadata": {},
     "output_type": "execute_result"
    },
    {
     "data": {
      "image/png": "[encoded data removed]",
      "text/plain": [
       "<matplotlib.figure.Figure at 0x7f40a71799e8>"
      ]
     },
     "metadata": {},
     "output_type": "display_data"
    }
   ],
   "source": [
    "plt.plot(rolling_mean(losses, 100))"
   ]
  },
  {
   "cell_type": "code",
   "execution_count": 18,
   "metadata": {},
   "outputs": [],
   "source": [
    "res = []\n",
    "for i in range(100):\n",
    "    res.append(forward_pass(mpnn, train_smiles[i], passes).data[0][0])"
   ]
  },
  {
   "cell_type": "code",
   "execution_count": 19,
   "metadata": {},
   "outputs": [
    {
     "data": {
      "text/plain": [
       "(array([ 72.,  22.,   3.,   1.,   0.,   0.,   0.,   0.,   0.,   2.]),\n",
       " array([  5.11260358e-25,   9.96290445e-02,   1.99258089e-01,\n",
       "          2.98887134e-01,   3.98516178e-01,   4.98145223e-01,\n",
       "          5.97774267e-01,   6.97403312e-01,   7.97032356e-01,\n",
       "          8.96661401e-01,   9.96290445e-01]),\n",
       " <a list of 10 Patch objects>)"
      ]
     },
     "execution_count": 19,
     "metadata": {},
     "output_type": "execute_result"
    },
    {
     "data": {
      "image/png": "[encoded data removed]",
      "text/plain": [
       "<matplotlib.figure.Figure at 0x7f40e212b9e8>"
      ]
     },
     "metadata": {},
     "output_type": "display_data"
    }
   ],
   "source": [
    "plt.hist(res)"
   ]
  },
  {
   "cell_type": "code",
   "execution_count": 17,
   "metadata": {
    "collapsed": true
   },
   "outputs": [],
   "source": [
    "def forward_pass(self, x, t):\n",
    "    g, h = self.get_features_from_smiles(x)\n",
    "    g2, h2 = self.get_features_from_smiles(x)\n",
    "#     for k, v in h.items():\n",
    "#         print(v.data.numpy())\n",
    "    for k in range(0, t):\n",
    "        self.single_message_pass(g, h, k)\n",
    "#         print('*'*33)\n",
    "#         print(h[0])\n",
    "    y_pred = self.R(h, h2)\n",
    "    return y_pred"
   ]
  },
  {
   "cell_type": "code",
   "execution_count": 76,
   "metadata": {
    "collapsed": true
   },
   "outputs": [],
   "source": [
    "g, h = mpnn.get_features_from_smiles(train_smiles[10])"
   ]
  },
  {
   "cell_type": "code",
   "execution_count": null,
   "metadata": {
    "collapsed": true
   },
   "outputs": [],
   "source": [
    "np.array(losses[-50:]).mean()"
   ]
  },
  {
   "cell_type": "code",
   "execution_count": null,
   "metadata": {},
   "outputs": [],
   "source": [
    "np.array(train_labels[:100]).mean()"
   ]
  },
  {
   "cell_type": "code",
   "execution_count": null,
   "metadata": {
    "collapsed": true,
    "scrolled": true
   },
   "outputs": [],
   "source": [
    "for i in range(50):\n",
    "    print(i, int(train_labels[i]), int(res[i]))"
   ]
  },
  {
   "cell_type": "code",
   "execution_count": null,
   "metadata": {
    "collapsed": true
   },
   "outputs": [],
   "source": [
    "r = (np.array(res) > 0.5).astype(int)"
   ]
  },
  {
   "cell_type": "code",
   "execution_count": 198,
   "metadata": {},
   "outputs": [
    {
     "data": {
      "text/plain": [
       "(\n",
       " -1.4193 -1.2841 -0.8369\n",
       " [torch.FloatTensor of size 1x3], \n",
       "  0.1023  0.8117  0.1031\n",
       " [torch.FloatTensor of size 1x3])"
      ]
     },
     "execution_count": 198,
     "metadata": {},
     "output_type": "execute_result"
    }
   ],
   "source": [
    "torch.randn((2, 3)).split(1, dim=0)"
   ]
  },
  {
   "cell_type": "code",
   "execution_count": null,
   "metadata": {},
   "outputs": [],
   "source": []
  },
  {
   "cell_type": "markdown",
   "metadata": {},
   "source": [
    "## 2. Undirected models"
   ]
  },
  {
   "cell_type": "code",
   "execution_count": null,
   "metadata": {
    "collapsed": true
   },
   "outputs": [],
   "source": []
  },
  {
   "cell_type": "code",
   "execution_count": null,
   "metadata": {
    "collapsed": true
   },
   "outputs": [],
   "source": []
  },
  {
   "cell_type": "code",
   "execution_count": null,
   "metadata": {
    "collapsed": true
   },
   "outputs": [],
   "source": [
    "for p in mpnn.params:\n",
    "    print(p.requires_grad)"
   ]
  },
  {
   "cell_type": "code",
   "execution_count": null,
   "metadata": {
    "collapsed": true
   },
   "outputs": [],
   "source": [
    "mpnn.params[-2]"
   ]
  },
  {
   "cell_type": "code",
   "execution_count": null,
   "metadata": {
    "collapsed": true
   },
   "outputs": [],
   "source": [
    "for p in mpnn.params:\n",
    "    print(p.data.size())"
   ]
  }
 ],
 "metadata": {
  "kernelspec": {
   "display_name": "Python 3",
   "language": "python",
   "name": "python3"
  },
  "language_info": {
   "codemirror_mode": {
    "name": "ipython",
    "version": 3
   },
   "file_extension": ".py",
   "mimetype": "text/x-python",
   "name": "python",
   "nbconvert_exporter": "python",
   "pygments_lexer": "ipython3",
   "version": "3.6.2"
  }
 },
 "nbformat": 4,
 "nbformat_minor": 2
}
