{
 "cells": [
  {
   "cell_type": "markdown",
   "metadata": {
    "collapsed": true
   },
   "source": [
    "# Neural Message Passing for Quantum Chemistry\n",
    "\n",
    "Ref: https://arxiv.org/pdf/1704.01212.pdf\n",
    "\n",
    "Assumptions:\n",
    "1. Hidden states for atoms are not updated (only for atoms)."
   ]
  },
  {
   "cell_type": "markdown",
   "metadata": {},
   "source": [
    "## 1. Directed models"
   ]
  },
  {
   "cell_type": "code",
   "execution_count": 1,
   "metadata": {},
   "outputs": [],
   "source": [
    "%load_ext autoreload\n",
    "%autoreload 2\n",
    "%matplotlib inline"
   ]
  },
  {
   "cell_type": "code",
   "execution_count": 13,
   "metadata": {},
   "outputs": [],
   "source": [
    "import torch.optim as optim\n",
    "import matplotlib.pyplot as plt\n",
    "import numpy as np\n",
    "import torch\n",
    "\n",
    "from torch.autograd import Variable\n",
    "from utils import rolling_mean\n",
    "from data import DataPreprocessor\n",
    "from mpnn.mpnn_directed import MPNNdirected\n",
    "from mpnn.directed import Rd, Vd, Ud, Ed"
   ]
  },
  {
   "cell_type": "code",
   "execution_count": 17,
   "metadata": {
    "collapsed": true
   },
   "outputs": [],
   "source": [
    "AT_FEAT = 75\n",
    "EDG_FEAT = 6\n",
    "PASSES = 4\n",
    "HID_SIZE = 32\n",
    "CUDA = False\n",
    "DATASET = 'data.test'\n",
    "FLT_DOTS = True\n",
    "FLT_ATOMS = True"
   ]
  },
  {
   "cell_type": "code",
   "execution_count": 15,
   "metadata": {
    "collapsed": true
   },
   "outputs": [],
   "source": [
    "rd = Rd(inp_size=AT_FEAT*2, hid_size=HID_SIZE)\n",
    "vd = Vd(inp_size=AT_FEAT)\n",
    "ud = Ud(inp_size=AT_FEAT*2+EDG_FEAT, out_size=AT_FEAT)\n",
    "ed = Ed(inp_size=EDG_FEAT)"
   ]
  },
  {
   "cell_type": "code",
   "execution_count": 16,
   "metadata": {
    "collapsed": true
   },
   "outputs": [],
   "source": [
    "mpnn = MPNNdirected(rd, ud, vd, ed, t=PASSES, cuda=CUDA)"
   ]
  },
  {
   "cell_type": "code",
   "execution_count": 18,
   "metadata": {
    "collapsed": true
   },
   "outputs": [],
   "source": [
    "data = DataPreprocessor(DATASET, filter_dots=FLT_DOTS, filter_atoms=FLT_ATOMS)"
   ]
  },
  {
   "cell_type": "code",
   "execution_count": 19,
   "metadata": {},
   "outputs": [
    {
     "name": "stdout",
     "output_type": "stream",
     "text": [
      "File data.test read. In total 1698 lines.\n"
     ]
    }
   ],
   "source": [
    "data.load_dataset()"
   ]
  },
  {
   "cell_type": "code",
   "execution_count": 20,
   "metadata": {},
   "outputs": [
    {
     "name": "stdout",
     "output_type": "stream",
     "text": [
      "Data filtered, in total 220 smiles deleted\n"
     ]
    }
   ],
   "source": [
    "data.filter_data()"
   ]
  },
  {
   "cell_type": "code",
   "execution_count": 21,
   "metadata": {},
   "outputs": [
    {
     "name": "stdout",
     "output_type": "stream",
     "text": [
      "File data.test read. In total 1698 lines.\n",
      "Data filtered, in total 220 smiles deleted\n",
      "About to generate scaffolds\n",
      "Generating scaffold 0/1478\n",
      "Generating scaffold 1000/1478\n",
      "About to sort in scaffold sets\n"
     ]
    }
   ],
   "source": [
    "train_smiles, train_labels, valid_smiles, valid_labels, test_smiles, test_labels = data.get_data()"
   ]
  },
  {
   "cell_type": "code",
   "execution_count": null,
   "metadata": {},
   "outputs": [],
   "source": []
  },
  {
   "cell_type": "code",
   "execution_count": null,
   "metadata": {
    "collapsed": true
   },
   "outputs": [],
   "source": []
  },
  {
   "cell_type": "code",
   "execution_count": 10,
   "metadata": {
    "collapsed": true
   },
   "outputs": [],
   "source": [
    "losses = []"
   ]
  },
  {
   "cell_type": "code",
   "execution_count": 11,
   "metadata": {
    "scrolled": true
   },
   "outputs": [
    {
     "name": "stdout",
     "output_type": "stream",
     "text": [
      "CPU times: user 5.4 s, sys: 124 ms, total: 5.53 s\n",
      "Wall time: 1.84 s\n",
      "0\n",
      "CPU times: user 5.4 s, sys: 112 ms, total: 5.51 s\n",
      "Wall time: 1.77 s\n",
      "1\n",
      "CPU times: user 5.48 s, sys: 96 ms, total: 5.57 s\n",
      "Wall time: 1.76 s\n",
      "2\n",
      "CPU times: user 6.1 s, sys: 76 ms, total: 6.17 s\n",
      "Wall time: 1.85 s\n",
      "3\n",
      "CPU times: user 5.8 s, sys: 104 ms, total: 5.9 s\n",
      "Wall time: 1.82 s\n",
      "4\n",
      "CPU times: user 6.21 s, sys: 88 ms, total: 6.3 s\n",
      "Wall time: 1.89 s\n",
      "5\n"
     ]
    },
    {
     "ename": "KeyboardInterrupt",
     "evalue": "",
     "output_type": "error",
     "traceback": [
      "\u001b[0;31m---------------------------------------------------------------------------\u001b[0m",
      "\u001b[0;31mKeyboardInterrupt\u001b[0m                         Traceback (most recent call last)",
      "\u001b[0;32m<timed exec>\u001b[0m in \u001b[0;36m<module>\u001b[0;34m()\u001b[0m\n",
      "\u001b[0;32m~/Desktop/mpnn/mpnn/mpnn_directed.py\u001b[0m in \u001b[0;36mmake_opt_step_batched\u001b[0;34m(self, batch_x, batch_y, t)\u001b[0m\n\u001b[1;32m    152\u001b[0m         \u001b[0;31m# folded_nodes = h\u001b[0m\u001b[0;34m\u001b[0m\u001b[0;34m\u001b[0m\u001b[0m\n\u001b[1;32m    153\u001b[0m         \u001b[0;31m# result = fold.apply()\u001b[0m\u001b[0;34m\u001b[0m\u001b[0;34m\u001b[0m\u001b[0m\n\u001b[0;32m--> 154\u001b[0;31m         \u001b[0mself\u001b[0m\u001b[0;34m.\u001b[0m\u001b[0mfold\u001b[0m \u001b[0;34m=\u001b[0m \u001b[0mfold\u001b[0m\u001b[0;34m\u001b[0m\u001b[0m\n\u001b[0m\u001b[1;32m    155\u001b[0m         \u001b[0mself\u001b[0m\u001b[0;34m.\u001b[0m\u001b[0mh\u001b[0m \u001b[0;34m=\u001b[0m \u001b[0mh\u001b[0m\u001b[0;34m\u001b[0m\u001b[0m\n\u001b[1;32m    156\u001b[0m         \u001b[0;31m#folded_nodes = []\u001b[0m\u001b[0;34m\u001b[0m\u001b[0;34m\u001b[0m\u001b[0m\n",
      "\u001b[0;31mKeyboardInterrupt\u001b[0m: "
     ]
    },
    {
     "name": "stdout",
     "output_type": "stream",
     "text": [
      "6\n",
      "CPU times: user 5.78 s, sys: 96 ms, total: 5.88 s\n",
      "Wall time: 1.92 s\n",
      "7\n",
      "CPU times: user 5.33 s, sys: 68 ms, total: 5.4 s\n",
      "Wall time: 1.66 s\n",
      "8\n",
      "CPU times: user 6.23 s, sys: 80 ms, total: 6.31 s\n",
      "Wall time: 1.92 s\n",
      "9\n",
      "CPU times: user 5.09 s, sys: 64 ms, total: 5.16 s\n",
      "Wall time: 1.72 s\n",
      "10\n",
      "CPU times: user 5.85 s, sys: 88 ms, total: 5.94 s\n",
      "Wall time: 1.86 s\n",
      "11\n",
      "CPU times: user 6.5 s, sys: 76 ms, total: 6.57 s\n",
      "Wall time: 2.04 s\n",
      "12\n",
      "CPU times: user 4.76 s, sys: 80 ms, total: 4.84 s\n",
      "Wall time: 1.66 s\n",
      "13\n",
      "CPU times: user 5.48 s, sys: 84 ms, total: 5.56 s\n",
      "Wall time: 1.76 s\n",
      "14\n",
      "CPU times: user 5.49 s, sys: 96 ms, total: 5.59 s\n",
      "Wall time: 1.78 s\n",
      "15\n",
      "CPU times: user 5.49 s, sys: 96 ms, total: 5.58 s\n",
      "Wall time: 1.77 s\n",
      "16\n",
      "CPU times: user 6.23 s, sys: 76 ms, total: 6.31 s\n",
      "Wall time: 1.89 s\n",
      "17\n",
      "CPU times: user 4.76 s, sys: 56 ms, total: 4.82 s\n",
      "Wall time: 1.65 s\n",
      "18\n",
      "CPU times: user 5.46 s, sys: 96 ms, total: 5.56 s\n",
      "Wall time: 1.77 s\n",
      "19\n",
      "CPU times: user 6.33 s, sys: 92 ms, total: 6.42 s\n",
      "Wall time: 1.92 s\n",
      "20\n",
      "CPU times: user 4.94 s, sys: 44 ms, total: 4.98 s\n",
      "Wall time: 1.68 s\n",
      "21\n",
      "CPU times: user 5.55 s, sys: 72 ms, total: 5.62 s\n",
      "Wall time: 1.78 s\n",
      "22\n",
      "CPU times: user 5.44 s, sys: 108 ms, total: 5.54 s\n",
      "Wall time: 1.78 s\n",
      "23\n",
      "CPU times: user 6.28 s, sys: 48 ms, total: 6.32 s\n",
      "Wall time: 1.91 s\n",
      "24\n",
      "CPU times: user 4.74 s, sys: 96 ms, total: 4.84 s\n",
      "Wall time: 1.68 s\n",
      "25\n",
      "CPU times: user 5.49 s, sys: 68 ms, total: 5.56 s\n",
      "Wall time: 1.76 s\n",
      "26\n",
      "CPU times: user 6.22 s, sys: 104 ms, total: 6.32 s\n",
      "Wall time: 1.9 s\n",
      "27\n",
      "CPU times: user 4.74 s, sys: 88 ms, total: 4.83 s\n",
      "Wall time: 1.64 s\n",
      "28\n",
      "CPU times: user 5.5 s, sys: 72 ms, total: 5.58 s\n",
      "Wall time: 1.77 s\n",
      "29\n",
      "CPU times: user 5.48 s, sys: 80 ms, total: 5.56 s\n",
      "Wall time: 1.76 s\n",
      "30\n",
      "CPU times: user 5.47 s, sys: 68 ms, total: 5.54 s\n",
      "Wall time: 1.76 s\n",
      "31\n",
      "CPU times: user 6.22 s, sys: 100 ms, total: 6.32 s\n",
      "Wall time: 1.9 s\n",
      "32\n",
      "CPU times: user 4.74 s, sys: 68 ms, total: 4.81 s\n",
      "Wall time: 1.65 s\n",
      "33\n",
      "CPU times: user 5.51 s, sys: 72 ms, total: 5.58 s\n",
      "Wall time: 1.77 s\n",
      "34\n",
      "CPU times: user 5.49 s, sys: 64 ms, total: 5.55 s\n",
      "Wall time: 1.76 s\n",
      "35\n",
      "CPU times: user 5.45 s, sys: 104 ms, total: 5.55 s\n",
      "Wall time: 1.76 s\n",
      "36\n",
      "CPU times: user 6.18 s, sys: 128 ms, total: 6.31 s\n",
      "Wall time: 1.9 s\n",
      "37\n",
      "CPU times: user 4.76 s, sys: 60 ms, total: 4.82 s\n",
      "Wall time: 1.65 s\n",
      "38\n",
      "CPU times: user 5.45 s, sys: 108 ms, total: 5.56 s\n",
      "Wall time: 1.76 s\n",
      "39\n",
      "CPU times: user 6.25 s, sys: 56 ms, total: 6.31 s\n",
      "Wall time: 1.9 s\n",
      "40\n",
      "CPU times: user 4.75 s, sys: 60 ms, total: 4.81 s\n",
      "Wall time: 1.65 s\n",
      "41\n",
      "CPU times: user 5.5 s, sys: 64 ms, total: 5.56 s\n",
      "Wall time: 1.76 s\n",
      "42\n",
      "CPU times: user 5.48 s, sys: 68 ms, total: 5.54 s\n",
      "Wall time: 1.76 s\n",
      "43\n",
      "CPU times: user 6.43 s, sys: 116 ms, total: 6.55 s\n",
      "Wall time: 1.95 s\n",
      "44\n",
      "CPU times: user 4.8 s, sys: 56 ms, total: 4.85 s\n",
      "Wall time: 1.69 s\n",
      "45\n",
      "CPU times: user 5.47 s, sys: 72 ms, total: 5.54 s\n",
      "Wall time: 1.76 s\n",
      "46\n",
      "CPU times: user 6.22 s, sys: 92 ms, total: 6.31 s\n",
      "Wall time: 1.9 s\n",
      "47\n",
      "CPU times: user 4.78 s, sys: 48 ms, total: 4.83 s\n",
      "Wall time: 1.65 s\n",
      "48\n",
      "CPU times: user 5.47 s, sys: 92 ms, total: 5.56 s\n",
      "Wall time: 1.76 s\n",
      "49\n",
      "CPU times: user 5.49 s, sys: 84 ms, total: 5.57 s\n",
      "Wall time: 1.77 s\n",
      "50\n",
      "CPU times: user 5.63 s, sys: 84 ms, total: 5.71 s\n",
      "Wall time: 1.8 s\n",
      "51\n",
      "CPU times: user 6.28 s, sys: 76 ms, total: 6.36 s\n",
      "Wall time: 1.91 s\n",
      "52\n",
      "CPU times: user 4.8 s, sys: 32 ms, total: 4.84 s\n",
      "Wall time: 1.65 s\n",
      "53\n",
      "CPU times: user 5.53 s, sys: 84 ms, total: 5.62 s\n",
      "Wall time: 1.78 s\n",
      "54\n",
      "CPU times: user 5.5 s, sys: 72 ms, total: 5.57 s\n",
      "Wall time: 1.77 s\n",
      "55\n",
      "CPU times: user 5.48 s, sys: 84 ms, total: 5.57 s\n",
      "Wall time: 1.77 s\n",
      "56\n",
      "CPU times: user 6.37 s, sys: 80 ms, total: 6.45 s\n",
      "Wall time: 1.92 s\n",
      "57\n",
      "CPU times: user 5.02 s, sys: 84 ms, total: 5.1 s\n",
      "Wall time: 1.7 s\n",
      "58\n",
      "CPU times: user 5.51 s, sys: 48 ms, total: 5.56 s\n",
      "Wall time: 1.76 s\n",
      "59\n",
      "CPU times: user 6.25 s, sys: 56 ms, total: 6.3 s\n",
      "Wall time: 1.9 s\n",
      "60\n",
      "CPU times: user 4.79 s, sys: 48 ms, total: 4.84 s\n",
      "Wall time: 1.66 s\n",
      "61\n",
      "CPU times: user 5.5 s, sys: 64 ms, total: 5.57 s\n",
      "Wall time: 1.77 s\n",
      "62\n",
      "CPU times: user 5.47 s, sys: 72 ms, total: 5.54 s\n",
      "Wall time: 1.76 s\n",
      "63\n",
      "CPU times: user 6.21 s, sys: 100 ms, total: 6.31 s\n",
      "Wall time: 1.91 s\n",
      "64\n",
      "CPU times: user 4.75 s, sys: 80 ms, total: 4.83 s\n",
      "Wall time: 1.65 s\n",
      "65\n",
      "CPU times: user 5.47 s, sys: 76 ms, total: 5.54 s\n",
      "Wall time: 1.76 s\n",
      "66\n",
      "CPU times: user 6.3 s, sys: 84 ms, total: 6.38 s\n",
      "Wall time: 1.91 s\n",
      "67\n",
      "CPU times: user 4.78 s, sys: 56 ms, total: 4.84 s\n",
      "Wall time: 1.65 s\n",
      "68\n",
      "CPU times: user 5.5 s, sys: 64 ms, total: 5.57 s\n",
      "Wall time: 1.77 s\n",
      "69\n",
      "CPU times: user 5.49 s, sys: 84 ms, total: 5.58 s\n",
      "Wall time: 1.77 s\n",
      "70\n",
      "CPU times: user 5.48 s, sys: 88 ms, total: 5.57 s\n",
      "Wall time: 1.78 s\n",
      "71\n",
      "CPU times: user 6.21 s, sys: 108 ms, total: 6.32 s\n",
      "Wall time: 1.9 s\n",
      "72\n",
      "CPU times: user 4.74 s, sys: 88 ms, total: 4.82 s\n",
      "Wall time: 1.65 s\n",
      "73\n",
      "CPU times: user 5.49 s, sys: 108 ms, total: 5.6 s\n",
      "Wall time: 1.79 s\n",
      "74\n",
      "CPU times: user 5.5 s, sys: 68 ms, total: 5.57 s\n",
      "Wall time: 1.77 s\n",
      "75\n",
      "CPU times: user 5.49 s, sys: 72 ms, total: 5.56 s\n",
      "Wall time: 1.77 s\n",
      "76\n",
      "CPU times: user 6.24 s, sys: 64 ms, total: 6.3 s\n",
      "Wall time: 1.9 s\n",
      "77\n",
      "CPU times: user 4.76 s, sys: 76 ms, total: 4.83 s\n",
      "Wall time: 1.65 s\n",
      "78\n",
      "CPU times: user 5.48 s, sys: 80 ms, total: 5.56 s\n",
      "Wall time: 1.77 s\n",
      "79\n",
      "CPU times: user 6.21 s, sys: 96 ms, total: 6.31 s\n",
      "Wall time: 1.9 s\n",
      "80\n",
      "CPU times: user 4.76 s, sys: 76 ms, total: 4.84 s\n",
      "Wall time: 1.66 s\n",
      "81\n",
      "CPU times: user 5.5 s, sys: 60 ms, total: 5.56 s\n",
      "Wall time: 1.76 s\n",
      "82\n",
      "CPU times: user 5.49 s, sys: 72 ms, total: 5.56 s\n",
      "Wall time: 1.76 s\n",
      "83\n",
      "CPU times: user 6.26 s, sys: 60 ms, total: 6.32 s\n",
      "Wall time: 1.9 s\n",
      "84\n",
      "CPU times: user 4.83 s, sys: 36 ms, total: 4.86 s\n",
      "Wall time: 1.66 s\n",
      "85\n",
      "CPU times: user 5.5 s, sys: 60 ms, total: 5.56 s\n",
      "Wall time: 1.76 s\n",
      "86\n",
      "CPU times: user 6.23 s, sys: 76 ms, total: 6.31 s\n",
      "Wall time: 1.9 s\n",
      "87\n",
      "CPU times: user 4.78 s, sys: 76 ms, total: 4.85 s\n",
      "Wall time: 1.65 s\n",
      "88\n",
      "CPU times: user 5.53 s, sys: 60 ms, total: 5.59 s\n",
      "Wall time: 1.77 s\n",
      "89\n",
      "CPU times: user 5.54 s, sys: 52 ms, total: 5.6 s\n",
      "Wall time: 1.78 s\n",
      "90\n",
      "CPU times: user 5.48 s, sys: 80 ms, total: 5.56 s\n",
      "Wall time: 1.78 s\n",
      "91\n",
      "CPU times: user 6.22 s, sys: 92 ms, total: 6.31 s\n",
      "Wall time: 1.9 s\n",
      "92\n",
      "CPU times: user 4.76 s, sys: 84 ms, total: 4.84 s\n",
      "Wall time: 1.65 s\n",
      "93\n",
      "CPU times: user 5.51 s, sys: 92 ms, total: 5.6 s\n",
      "Wall time: 1.77 s\n",
      "94\n",
      "CPU times: user 5.49 s, sys: 80 ms, total: 5.57 s\n",
      "Wall time: 1.77 s\n",
      "95\n",
      "CPU times: user 5.53 s, sys: 88 ms, total: 5.62 s\n",
      "Wall time: 1.78 s\n",
      "96\n",
      "CPU times: user 6.24 s, sys: 68 ms, total: 6.3 s\n",
      "Wall time: 1.91 s\n",
      "97\n",
      "CPU times: user 4.82 s, sys: 48 ms, total: 4.87 s\n",
      "Wall time: 1.66 s\n",
      "98\n",
      "CPU times: user 5.52 s, sys: 48 ms, total: 5.57 s\n",
      "Wall time: 1.77 s\n",
      "99\n"
     ]
    }
   ],
   "source": [
    "for j in range(100):\n",
    "    for i in range(0, 1):\n",
    "        #print(i)\n",
    "        %time loss = mpnn.make_opt_step_batched(train_smiles[i:i+100], train_labels[i:i+100], 4)\n",
    "        losses.append(loss)\n",
    "    print(j)"
   ]
  },
  {
   "cell_type": "code",
   "execution_count": null,
   "metadata": {
    "collapsed": true
   },
   "outputs": [],
   "source": [
    "plt.plot(rolling_mean(losses, 100))"
   ]
  },
  {
   "cell_type": "code",
   "execution_count": null,
   "metadata": {
    "collapsed": true
   },
   "outputs": [],
   "source": [
    "res = []\n",
    "for i in range(100):\n",
    "    res.append(forward_pass(mpnn, train_smiles[i], passes).data[0][0])"
   ]
  },
  {
   "cell_type": "code",
   "execution_count": null,
   "metadata": {
    "collapsed": true
   },
   "outputs": [],
   "source": [
    "plt.hist(res)"
   ]
  },
  {
   "cell_type": "code",
   "execution_count": null,
   "metadata": {
    "collapsed": true
   },
   "outputs": [],
   "source": [
    "def forward_pass(self, x, t):\n",
    "    g, h = self.get_features_from_smiles(x)\n",
    "    g2, h2 = self.get_features_from_smiles(x)\n",
    "#     for k, v in h.items():\n",
    "#         print(v.data.numpy())\n",
    "    for k in range(0, t):\n",
    "        self.single_message_pass(g, h, k)\n",
    "#         print('*'*33)\n",
    "#         print(h[0])\n",
    "    y_pred = self.R(h, h2)\n",
    "    return y_pred"
   ]
  },
  {
   "cell_type": "code",
   "execution_count": null,
   "metadata": {
    "collapsed": true
   },
   "outputs": [],
   "source": [
    "g, h = mpnn.get_features_from_smiles(train_smiles[10])"
   ]
  },
  {
   "cell_type": "code",
   "execution_count": null,
   "metadata": {
    "collapsed": true
   },
   "outputs": [],
   "source": [
    "np.array(losses[-50:]).mean()"
   ]
  },
  {
   "cell_type": "code",
   "execution_count": null,
   "metadata": {
    "collapsed": true
   },
   "outputs": [],
   "source": [
    "np.array(train_labels[:100]).mean()"
   ]
  },
  {
   "cell_type": "code",
   "execution_count": null,
   "metadata": {
    "collapsed": true,
    "scrolled": true
   },
   "outputs": [],
   "source": [
    "for i in range(50):\n",
    "    print(i, int(train_labels[i]), int(res[i]))"
   ]
  },
  {
   "cell_type": "code",
   "execution_count": null,
   "metadata": {
    "collapsed": true
   },
   "outputs": [],
   "source": [
    "r = (np.array(res) > 0.5).astype(int)"
   ]
  },
  {
   "cell_type": "code",
   "execution_count": null,
   "metadata": {
    "scrolled": true
   },
   "outputs": [],
   "source": []
  },
  {
   "cell_type": "code",
   "execution_count": null,
   "metadata": {
    "collapsed": true
   },
   "outputs": [],
   "source": []
  },
  {
   "cell_type": "markdown",
   "metadata": {},
   "source": [
    "## 2. Undirected models"
   ]
  },
  {
   "cell_type": "code",
   "execution_count": null,
   "metadata": {
    "collapsed": true
   },
   "outputs": [],
   "source": []
  },
  {
   "cell_type": "code",
   "execution_count": null,
   "metadata": {
    "collapsed": true
   },
   "outputs": [],
   "source": []
  },
  {
   "cell_type": "code",
   "execution_count": null,
   "metadata": {
    "collapsed": true
   },
   "outputs": [],
   "source": [
    "for p in mpnn.params:\n",
    "    print(p.requires_grad)"
   ]
  },
  {
   "cell_type": "code",
   "execution_count": null,
   "metadata": {
    "collapsed": true
   },
   "outputs": [],
   "source": [
    "mpnn.params[-2]"
   ]
  },
  {
   "cell_type": "code",
   "execution_count": null,
   "metadata": {
    "collapsed": true
   },
   "outputs": [],
   "source": [
    "for p in mpnn.params:\n",
    "    print(p.data.size())"
   ]
  }
 ],
 "metadata": {
  "kernelspec": {
   "display_name": "Python 3",
   "language": "python",
   "name": "python3"
  },
  "language_info": {
   "codemirror_mode": {
    "name": "ipython",
    "version": 3
   },
   "file_extension": ".py",
   "mimetype": "text/x-python",
   "name": "python",
   "nbconvert_exporter": "python",
   "pygments_lexer": "ipython3",
   "version": "3.6.2"
  }
 },
 "nbformat": 4,
 "nbformat_minor": 2
}
