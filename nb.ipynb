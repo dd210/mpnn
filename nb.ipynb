{
 "cells": [
  {
   "cell_type": "markdown",
   "metadata": {
    "collapsed": true
   },
   "source": [
    "# Neural Message Passing for Quantum Chemistry\n",
    "\n",
    "Ref: https://arxiv.org/pdf/1704.01212.pdf\n",
    "\n",
    "Assumptions:\n",
    "1. Hidden states for atoms are not updated (only for atoms)."
   ]
  },
  {
   "cell_type": "markdown",
   "metadata": {},
   "source": [
    "## 1. Directed models"
   ]
  },
  {
   "cell_type": "code",
   "execution_count": 2,
   "metadata": {},
   "outputs": [],
   "source": [
    "%load_ext autoreload\n",
    "%autoreload 2\n",
    "%matplotlib inline"
   ]
  },
  {
   "cell_type": "code",
   "execution_count": 3,
   "metadata": {},
   "outputs": [
    {
     "name": "stderr",
     "output_type": "stream",
     "text": [
      "/home/kretovmk/anaconda3/envs/pytorch/lib/python3.6/site-packages/sklearn/cross_validation.py:44: DeprecationWarning: This module was deprecated in version 0.18 in favor of the model_selection module into which all the refactored classes and functions are moved. Also note that the interface of the new CV iterators are different from that of this module. This module will be removed in 0.20.\n",
      "  \"This module will be removed in 0.20.\", DeprecationWarning)\n"
     ]
    }
   ],
   "source": [
    "import torch.optim as optim\n",
    "import matplotlib.pyplot as plt\n",
    "import numpy as np\n",
    "import torch\n",
    "\n",
    "from tqdm import tqdm\n",
    "from torch.utils.data import DataLoader\n",
    "from torch.autograd import Variable\n",
    "from utils.utils import rolling_mean, CUDA_wrapper\n",
    "from utils.data import DatasetSmiles\n",
    "from mpnn.mpnn_directed import MPNNdirected\n",
    "from mpnn.directed import Rd, Vd, Ud, Ed\n",
    "from copy import deepcopy"
   ]
  },
  {
   "cell_type": "code",
   "execution_count": 38,
   "metadata": {
    "collapsed": true
   },
   "outputs": [],
   "source": [
    "AT_FEAT = 75\n",
    "EDG_FEAT = 6\n",
    "PASSES = 4\n",
    "HID_SIZE = 32\n",
    "CUDA = True\n",
    "DATASET = 'data/data.test'\n",
    "FLT_DOTS = True\n",
    "FLT_ATOMS = True\n",
    "BATCH_SIZE = 32\n",
    "SHUFFLE = True\n",
    "N_EPOCHS = 1000"
   ]
  },
  {
   "cell_type": "code",
   "execution_count": 39,
   "metadata": {},
   "outputs": [
    {
     "name": "stdout",
     "output_type": "stream",
     "text": [
      "File \"data/data.test\" read. In total 5000 lines.\n",
      "Data filtered, in total 1162 smiles deleted\n",
      "Features calculated and datasets prepared. Number of items in dataset: 3838\n"
     ]
    }
   ],
   "source": [
    "train_dataset = DatasetSmiles(DATASET, cuda=CUDA, filter_atoms=FLT_ATOMS, filter_dots=FLT_DOTS)"
   ]
  },
  {
   "cell_type": "code",
   "execution_count": null,
   "metadata": {},
   "outputs": [],
   "source": [
    "rd = Rd(inp_size=AT_FEAT, hid_size=HID_SIZE)\n",
    "vd = Vd(inp_size=AT_FEAT)\n",
    "ud = Ud(inp_size=AT_FEAT*2+EDG_FEAT, out_size=AT_FEAT)\n",
    "ed = Ed(inp_size=EDG_FEAT)\n",
    "mpnn = MPNNdirected(rd, ud, vd, ed, t=PASSES, cuda=CUDA)\n",
    "losses = []"
   ]
  },
  {
   "cell_type": "code",
   "execution_count": null,
   "metadata": {
    "scrolled": true
   },
   "outputs": [
    {
     "name": "stderr",
     "output_type": "stream",
     "text": [
      "100%|██████████| 120/120 [01:20<00:00,  1.49it/s]\n"
     ]
    },
    {
     "name": "stdout",
     "output_type": "stream",
     "text": [
      "epoch: 0, loss: 0.151\n"
     ]
    },
    {
     "name": "stderr",
     "output_type": "stream",
     "text": [
      "100%|██████████| 120/120 [01:23<00:00,  1.44it/s]\n"
     ]
    },
    {
     "name": "stdout",
     "output_type": "stream",
     "text": [
      "epoch: 1, loss: 0.270\n"
     ]
    },
    {
     "name": "stderr",
     "output_type": "stream",
     "text": [
      "  2%|▎         | 3/120 [00:01<00:56,  2.06it/s]"
     ]
    }
   ],
   "source": [
    "# TODO: consider replacing collate_fn with smth that prepares folds\n",
    "# https://github.com/pytorch/pytorch/blob/master/torch/utils/data/dataloader.py\n",
    "# def collate_fn(lst):\n",
    "#     batch_x = [x[0] for x in lst]\n",
    "#     batch_y = [x[1] for x in lst]\n",
    "#     fold, folded_nodes = mpnn.batch_operations(batch_x, PASSES)\n",
    "#     return batch_y, fold, folded_nodes\n",
    "\n",
    "for i in range(N_EPOCHS):\n",
    "    train_data_loader = DataLoader(deepcopy(train_dataset), batch_size=BATCH_SIZE, collate_fn=lambda x: x, \n",
    "                                  shuffle=SHUFFLE)\n",
    "    batch_num = 0\n",
    "    for batch in tqdm(train_data_loader):\n",
    "        batch_x = [x[0] for x in batch]\n",
    "        batch_y = [x[1] for x in batch]\n",
    "        fold, folded_nodes = mpnn.batch_operations(batch_x, PASSES)\n",
    "        #batch_y, fold, folded_nodes = batch\n",
    "        result = fold.apply(mpnn, folded_nodes)\n",
    "        loss = mpnn.make_opt_step_batched(result, batch_y)\n",
    "        losses.append(loss)\n",
    "        batch_num += 1\n",
    "    print('epoch: {}, loss: {:.3f}'.format(i, np.array(loss).mean()))"
   ]
  },
  {
   "cell_type": "code",
   "execution_count": null,
   "metadata": {},
   "outputs": [],
   "source": [
    "plt.plot(rolling_mean(losses, 50))"
   ]
  },
  {
   "cell_type": "code",
   "execution_count": null,
   "metadata": {},
   "outputs": [],
   "source": []
  },
  {
   "cell_type": "code",
   "execution_count": null,
   "metadata": {
    "collapsed": true
   },
   "outputs": [],
   "source": []
  },
  {
   "cell_type": "code",
   "execution_count": null,
   "metadata": {
    "collapsed": true
   },
   "outputs": [],
   "source": []
  },
  {
   "cell_type": "markdown",
   "metadata": {},
   "source": [
    "## 2. Undirected models"
   ]
  },
  {
   "cell_type": "code",
   "execution_count": null,
   "metadata": {
    "collapsed": true
   },
   "outputs": [],
   "source": []
  },
  {
   "cell_type": "code",
   "execution_count": null,
   "metadata": {
    "collapsed": true
   },
   "outputs": [],
   "source": []
  },
  {
   "cell_type": "code",
   "execution_count": null,
   "metadata": {
    "collapsed": true
   },
   "outputs": [],
   "source": []
  },
  {
   "cell_type": "code",
   "execution_count": null,
   "metadata": {
    "collapsed": true
   },
   "outputs": [],
   "source": []
  },
  {
   "cell_type": "code",
   "execution_count": null,
   "metadata": {
    "collapsed": true
   },
   "outputs": [],
   "source": []
  },
  {
   "cell_type": "code",
   "execution_count": null,
   "metadata": {
    "collapsed": true
   },
   "outputs": [],
   "source": []
  },
  {
   "cell_type": "code",
   "execution_count": null,
   "metadata": {
    "collapsed": true
   },
   "outputs": [],
   "source": []
  }
 ],
 "metadata": {
  "kernelspec": {
   "display_name": "Python 3",
   "language": "python",
   "name": "python3"
  },
  "language_info": {
   "codemirror_mode": {
    "name": "ipython",
    "version": 3
   },
   "file_extension": ".py",
   "mimetype": "text/x-python",
   "name": "python",
   "nbconvert_exporter": "python",
   "pygments_lexer": "ipython3",
   "version": "3.6.3"
  }
 },
 "nbformat": 4,
 "nbformat_minor": 2
}
