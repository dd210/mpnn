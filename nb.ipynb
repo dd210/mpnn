{
 "cells": [
  {
   "cell_type": "markdown",
   "metadata": {
    "collapsed": true
   },
   "source": [
    "# Neural Message Passing for Quantum Chemistry\n",
    "\n",
    "Ref: https://arxiv.org/pdf/1704.01212.pdf\n",
    "\n",
    "Assumptions:\n",
    "1. Hidden states for atoms are not updated (only for atoms)."
   ]
  },
  {
   "cell_type": "markdown",
   "metadata": {},
   "source": [
    "## 1. Directed models"
   ]
  },
  {
   "cell_type": "code",
   "execution_count": 1,
   "metadata": {},
   "outputs": [],
   "source": [
    "%load_ext autoreload\n",
    "%autoreload 2\n",
    "%matplotlib inline"
   ]
  },
  {
   "cell_type": "code",
   "execution_count": 131,
   "metadata": {},
   "outputs": [],
   "source": [
    "import torch.optim as optim\n",
    "import matplotlib.pyplot as plt\n",
    "import numpy as np\n",
    "import torch\n",
    "\n",
    "from torch.autograd import Variable\n",
    "from utils import rolling_mean, CUDA_wrapper\n",
    "from data import DataPreprocessor\n",
    "from mpnn.mpnn_directed import MPNNdirected\n",
    "from mpnn.directed import Rd, Vd, Ud, Ed"
   ]
  },
  {
   "cell_type": "code",
   "execution_count": 59,
   "metadata": {
    "collapsed": true
   },
   "outputs": [],
   "source": [
    "AT_FEAT = 75\n",
    "EDG_FEAT = 6\n",
    "PASSES = 4\n",
    "HID_SIZE = 32\n",
    "CUDA = True\n",
    "DATASET = 'data.test'\n",
    "FLT_DOTS = True\n",
    "FLT_ATOMS = True"
   ]
  },
  {
   "cell_type": "code",
   "execution_count": 4,
   "metadata": {
    "collapsed": true
   },
   "outputs": [],
   "source": [
    "rd = Rd(inp_size=AT_FEAT*2, hid_size=HID_SIZE)\n",
    "vd = Vd(inp_size=AT_FEAT)\n",
    "ud = Ud(inp_size=AT_FEAT*2+EDG_FEAT, out_size=AT_FEAT)\n",
    "ed = Ed(inp_size=EDG_FEAT)"
   ]
  },
  {
   "cell_type": "code",
   "execution_count": 132,
   "metadata": {
    "collapsed": true
   },
   "outputs": [],
   "source": [
    "mpnn = MPNNdirected(rd, ud, vd, ed, t=PASSES, cuda=CUDA)"
   ]
  },
  {
   "cell_type": "code",
   "execution_count": 6,
   "metadata": {
    "collapsed": true
   },
   "outputs": [],
   "source": [
    "data = DataPreprocessor(DATASET, filter_dots=FLT_DOTS, filter_atoms=FLT_ATOMS)"
   ]
  },
  {
   "cell_type": "code",
   "execution_count": 7,
   "metadata": {},
   "outputs": [
    {
     "name": "stdout",
     "output_type": "stream",
     "text": [
      "File data.test read. In total 1698 lines.\n"
     ]
    }
   ],
   "source": [
    "data.load_dataset()"
   ]
  },
  {
   "cell_type": "code",
   "execution_count": 8,
   "metadata": {},
   "outputs": [
    {
     "name": "stdout",
     "output_type": "stream",
     "text": [
      "Data filtered, in total 220 smiles deleted\n"
     ]
    }
   ],
   "source": [
    "data.filter_data()"
   ]
  },
  {
   "cell_type": "code",
   "execution_count": 9,
   "metadata": {},
   "outputs": [
    {
     "name": "stdout",
     "output_type": "stream",
     "text": [
      "File data.test read. In total 1698 lines.\n",
      "Data filtered, in total 220 smiles deleted\n",
      "About to generate scaffolds\n",
      "Generating scaffold 0/1478\n",
      "Generating scaffold 1000/1478\n",
      "About to sort in scaffold sets\n"
     ]
    }
   ],
   "source": [
    "train_smiles, train_labels, valid_smiles, valid_labels, test_smiles, test_labels = data.get_data()"
   ]
  },
  {
   "cell_type": "code",
   "execution_count": 133,
   "metadata": {},
   "outputs": [],
   "source": [
    "train_x = [mpnn.get_features_from_smiles(x, cuda=CUDA) for x in train_smiles]\n",
    "train_x2 = [mpnn.get_features_from_smiles(x, cuda=CUDA) for x in train_smiles]\n",
    "train_y = train_labels\n",
    "smiles = train_smiles\n",
    "#train_y = CUDA_wrapper(torch.FloatTensor(train_labels).view(-1, 1), CUDA)"
   ]
  },
  {
   "cell_type": "code",
   "execution_count": 134,
   "metadata": {},
   "outputs": [
    {
     "name": "stdout",
     "output_type": "stream",
     "text": [
      "0\n",
      "1\n",
      "2\n",
      "3\n",
      "4\n",
      "5\n",
      "6\n",
      "7\n",
      "8\n",
      "9\n",
      "10\n",
      "11\n",
      "12\n",
      "13\n",
      "14\n",
      "15\n",
      "16\n",
      "17\n",
      "18\n",
      "19\n",
      "20\n",
      "21\n",
      "22\n",
      "23\n",
      "24\n",
      "25\n",
      "26\n",
      "27\n",
      "28\n",
      "29\n",
      "30\n",
      "31\n",
      "32\n",
      "33\n",
      "34\n",
      "35\n",
      "36\n",
      "37\n",
      "38\n",
      "39\n",
      "40\n",
      "41\n",
      "42\n",
      "43\n",
      "44\n",
      "45\n",
      "46\n",
      "47\n",
      "48\n",
      "49\n",
      "50\n",
      "51\n",
      "52\n",
      "53\n",
      "54\n",
      "55\n",
      "56\n",
      "57\n",
      "58\n",
      "59\n",
      "60\n",
      "61\n",
      "62\n",
      "63\n",
      "64\n",
      "65\n",
      "66\n",
      "67\n",
      "68\n",
      "69\n",
      "70\n",
      "71\n",
      "72\n",
      "73\n",
      "74\n",
      "75\n",
      "76\n",
      "77\n",
      "78\n",
      "79\n",
      "80\n",
      "81\n",
      "82\n",
      "83\n",
      "84\n",
      "85\n",
      "86\n",
      "87\n",
      "88\n",
      "89\n",
      "90\n",
      "91\n",
      "92\n",
      "93\n",
      "94\n",
      "95\n",
      "96\n",
      "97\n",
      "98\n",
      "99\n",
      "CCC\n",
      "3\n",
      "CC\n",
      "2\n",
      "CC(=O)OC(CC(=O)[O-])C[N+](C)(C)C\n",
      "14\n",
      "C(C(C(C(C(CO)O)O)O)O)O\n",
      "12\n",
      "C(C(=O)O)C(CC(=O)O)(C(=O)O)O\n",
      "13\n",
      "CCCCCC(C=CC=CC=CC=CC(C(CCCC(=O)O)O)O)O\n",
      "25\n",
      "CC(=CCCC(=CCCC(=CCCC(=O)OCC=C(C)CCC=C(C)C)C)C)C\n",
      "29\n",
      "CCCCCON=O\n",
      "8\n",
      "C(CCl)N(C(=O)NC(C=O)C(C(C(CO)O)O)O)N=O\n",
      "20\n",
      "C(CCl)NP(=O)(NCCCl)O\n",
      "11\n",
      "CC(C(=O)NC(CCC(=O)NC(CCCC(C(=O)O)N)C(=O)NCC(=O)O)C(=O)O)NC(=O)C(C)O\n",
      "36\n",
      "CS(=O)(=O)CS(=O)(=O)OCCCl\n",
      "12\n",
      "CCCCCCCCCCCCCCCCOP(=O)([O-])OCC[N+](C)(C)C\n",
      "27\n",
      "CN(CC(=O)N)C(=O)N(CCCl)N=O\n",
      "14\n",
      "C(C=[Se])C(C(=O)O)N\n",
      "8\n",
      "C(CC(=O)O)C(=O)CN\n",
      "9\n",
      "CCCCCCCCCCCCCCCCC(C[N+](C)(C)C)OP(=O)(O)[O-]\n",
      "27\n",
      "CC(COCCO)OCCO\n",
      "11\n",
      "C(C(CO[N+](=O)O)O[N+](=O)O)O[N+](=O)O\n",
      "15\n",
      "CCC(C)C(C(=NC(C(C)O)C(=NC(C(C)O)C(=NC(CCCCN)C(=NC(CC(=O)O)C(=NC(CC(C)C)C(=NC(CCCCN)C(=NC(CCC(=O)O)C(=NC(CCCCN)C(=NC(CCCCN)C(=NC(CCC(=O)O)C(=NC(C(C)C)C(=NC(C(C)C)C(=NC(CCC(=O)O)C(=NC(CCC(=O)O)C(=NC(C)C(=NC(CCC(=O)O)C(=NC(CC(=N)O)C(=O)O)O)O)O)O)O)O)O)O)O)O)O)O)O)O)O)O)O)N=C(C(CCC(=O)O)N=C(C(CO)N=C(C(CO)N=C(C(C(C)O)N=C(C(CC(=O)O)N=C(C(C(C)C)N=C(C(C)N=C(C(C)N=C(C(CC(=O)O)N=C(C(CO)N=C(C)O)O)O)O)O)O)O)O)O)O)O\n",
      "217\n",
      "C(OC(C(F)(F)F)C(F)(F)F)F\n",
      "12\n",
      "CC(=O)NC(C(=O)O)C(C)(C)S[N+](=O)O\n",
      "15\n",
      "C[S+](C)CCC(C(=O)[O-])N\n",
      "10\n",
      "C(C=O)C(C(C(CO)O)O)O\n",
      "11\n",
      "C=CC(CCC(=O)O)N\n",
      "9\n",
      "CCCN(CCC[NH3+])N(N=O)[O-]\n",
      "12\n",
      "II\n",
      "2\n",
      "C(CCN(CCC[NH3+])N(N=O)O)CNCCC[NH3+]\n",
      "18\n",
      "C(CC(C(=O)NCC(=O)NC(CC(=O)O)[C]=O)NC(=O)CN)CN=C(N)N\n",
      "27\n",
      "CCCC[CH]OCC(CO)O\n",
      "11\n",
      "CCCC(C(C)CC)O\n",
      "9\n",
      "CCCO\n",
      "4\n",
      "CC(N(C)C)O\n",
      "6\n",
      "C=CCSCC(C(=O)O)N\n",
      "10\n",
      "C(C(F)(F)F)F\n",
      "6\n",
      "CN=C=O\n",
      "4\n",
      "CCOC(=O)CCC(C(=O)OCC)N\n",
      "14\n",
      "CC(=NN=C(N)N)C=NN=C(N)N\n",
      "13\n",
      "CCOC(=S)SSC(=S)OCC\n",
      "12\n",
      "C(CC(=O)NC(CSN=O)C(=O)NCC(=O)O)C(C(=O)O)N\n",
      "22\n",
      "CCCCC(=O)CCCC\n",
      "10\n",
      "C(CC(=O)O)CO\n",
      "7\n",
      "CS(=O)CCCCN=C=S\n",
      "10\n",
      "CCCCCCCCCCCCCC=CC(C(CO)NC(=O)C)O\n",
      "24\n",
      "CCCC=CC=O\n",
      "7\n",
      "C(CCl)SCCCl\n",
      "7\n",
      "CCOP(=O)(C(C)NC(=O)N(CCCl)N=O)OCC\n",
      "19\n",
      "C(CC(C(=O)NCC(=O)NC(CC(=O)O)C(=O)O)N)CN=C(N)N\n",
      "24\n",
      "CCCC(=CCC)C(=O)O\n",
      "10\n",
      "C(C(C(C(C(F)(F)I)(F)F)(F)F)(F)F)(C(C(C(F)(F)F)(F)F)(F)F)(F)F\n",
      "26\n",
      "CC(=CC(C(=O)O)N)CP(=O)(O)O\n",
      "13\n",
      "CCCCCC=CCC(C=CC=CCC=CCCCC(=O)O)OO\n",
      "24\n",
      "C(OC(=C(F)F)C(F)(F)F)F\n",
      "11\n",
      "CCCCCCCCCCCCCCCCCCOCC(COP(=O)([O-])OCC[N+](C)(C)C)OC(=O)C\n",
      "37\n",
      "CCNCCCNCCCNCCCNCC\n",
      "17\n",
      "CN(C)CCO\n",
      "6\n",
      "CC(C)CCCCCCCCCCCC(C(C(COC(=O)C)NC(=O)C)O)OC(=O)C\n",
      "31\n",
      "C(C(C(C(C(C(=O)O)O)O)O)O)O\n",
      "13\n",
      "CCOC(C)C(=O)C=O\n",
      "9\n",
      "C(C(C(C(C(=O)CO)O)O)O)O\n",
      "12\n",
      "CCC(=O)OC(CC(=O)[O-])C[N+](C)(C)C\n",
      "15\n",
      "CCC(=O)OC(CC(=O)O)C[N+](C)(C)C\n",
      "15\n",
      "CCN(CC)N(N=O)[O-]\n",
      "9\n",
      "C(CC(C(=O)NCC(=O)NC(CC(=O)O)C(=O)NC(CO)C(=O)O)N)CN=C(N)N\n",
      "30\n",
      "CCOC(=O)C(C=C(C)CP(=O)(O)O)N\n",
      "15\n",
      "CCC=CC=CC=CC=CCCCCCCCC(=O)O\n",
      "20\n",
      "C(C(C(=O)O)N)SCC(=O)O\n",
      "11\n",
      "C(CS(=O)(=O)O)NCl\n",
      "8\n",
      "C(CSN=O)O\n",
      "6\n",
      "CC(C(=O)N)NC(=O)N(CCCl)N=O\n",
      "14\n",
      "CCCCCCCCCCCCCCCCOCC(COP(=O)([O-])OCC[N+](C)(C)C)OC(=O)C\n",
      "35\n",
      "CCCCCCCCCCCCCCCCOCC(COP(=O)(O)OCC[N+](C)(C)C)OC(=O)C\n",
      "35\n",
      "[O-]S(=O)(=S)[O-]\n",
      "5\n",
      "C[N+](C)(C)CCO\n",
      "7\n",
      "CCOC\n",
      "4\n",
      "CC(=CCCC(=CC=CC(=CC=CC(=CC=CC=C(C)C=CC=C(C)C=CC=C(C)CCC=C(C)C)C)C)C)C\n",
      "40\n",
      "CPU times: user 308 ms, sys: 4 ms, total: 312 ms\n",
      "Wall time: 290 ms\n"
     ]
    }
   ],
   "source": [
    "i = 0\n",
    "n = 100\n",
    "%time res = mpnn.make_opt_step_batched(smiles[i:i+n], train_x[i:i+n], train_x2[i:i+n], train_y[i:i+n], 4)"
   ]
  },
  {
   "cell_type": "code",
   "execution_count": 118,
   "metadata": {
    "scrolled": true
   },
   "outputs": [
    {
     "name": "stdout",
     "output_type": "stream",
     "text": [
      "0 3 3\n",
      "1 5 2\n",
      "2 19 14\n",
      "3 31 12\n",
      "4 44 13\n",
      "5 69 25\n",
      "6 98 29\n",
      "7 106 8\n",
      "8 126 20\n",
      "9 137 11\n",
      "10 173 36\n",
      "11 185 12\n",
      "12 212 27\n",
      "13 226 14\n",
      "14 234 8\n",
      "15 243 9\n",
      "16 270 27\n",
      "17 281 11\n",
      "18 296 15\n",
      "19 513 217\n",
      "20 525 12\n",
      "21 540 15\n",
      "22 550 10\n",
      "23 561 11\n",
      "24 570 9\n",
      "25 582 12\n",
      "26 584 2\n",
      "27 602 18\n",
      "28 629 27\n",
      "29 640 11\n",
      "30 649 9\n",
      "31 653 4\n",
      "32 659 6\n",
      "33 669 10\n",
      "34 675 6\n",
      "35 679 4\n",
      "36 693 14\n",
      "37 706 13\n",
      "38 718 12\n",
      "39 740 22\n",
      "40 750 10\n",
      "41 757 7\n",
      "42 767 10\n",
      "43 791 24\n",
      "44 798 7\n",
      "45 805 7\n",
      "46 824 19\n",
      "47 848 24\n",
      "48 858 10\n",
      "49 884 26\n",
      "50 897 13\n",
      "51 921 24\n",
      "52 932 11\n",
      "53 969 37\n",
      "54 986 17\n",
      "55 992 6\n",
      "56 1023 31\n",
      "57 1036 13\n",
      "58 1045 9\n",
      "59 1057 12\n",
      "60 1072 15\n",
      "61 1087 15\n",
      "62 1096 9\n",
      "63 1126 30\n",
      "64 1141 15\n",
      "65 1161 20\n",
      "66 1172 11\n",
      "67 1180 8\n",
      "68 1186 6\n",
      "69 1200 14\n",
      "70 1235 35\n",
      "71 1270 35\n",
      "72 1275 5\n",
      "73 1282 7\n",
      "74 1286 4\n",
      "75 1326 40\n"
     ]
    }
   ],
   "source": [
    "c = 0\n",
    "for i, r in enumerate(res[1]):\n",
    "    c += len(r)\n",
    "    print(i, c, len(r))"
   ]
  },
  {
   "cell_type": "code",
   "execution_count": 127,
   "metadata": {},
   "outputs": [
    {
     "data": {
      "text/plain": [
       "torch.Size([14, 75])"
      ]
     },
     "execution_count": 127,
     "metadata": {},
     "output_type": "execute_result"
    }
   ],
   "source": [
    "res[0][69].size()"
   ]
  },
  {
   "cell_type": "code",
   "execution_count": null,
   "metadata": {},
   "outputs": [],
   "source": []
  },
  {
   "cell_type": "code",
   "execution_count": 136,
   "metadata": {},
   "outputs": [
    {
     "data": {
      "text/plain": [
       "['CCC',\n",
       " 'CC',\n",
       " 'CC(=O)OC(CC(=O)[O-])C[N+](C)(C)C',\n",
       " 'C(C(C(C(C(CO)O)O)O)O)O',\n",
       " 'C(C(=O)O)C(CC(=O)O)(C(=O)O)O',\n",
       " 'CCCCCC(C=CC=CC=CC=CC(C(CCCC(=O)O)O)O)O',\n",
       " 'CC(=CCCC(=CCCC(=CCCC(=O)OCC=C(C)CCC=C(C)C)C)C)C',\n",
       " 'CCCCCON=O',\n",
       " 'C(CCl)N(C(=O)NC(C=O)C(C(C(CO)O)O)O)N=O',\n",
       " 'C(CCl)NP(=O)(NCCCl)O',\n",
       " 'CC(C(=O)NC(CCC(=O)NC(CCCC(C(=O)O)N)C(=O)NCC(=O)O)C(=O)O)NC(=O)C(C)O',\n",
       " 'CS(=O)(=O)CS(=O)(=O)OCCCl',\n",
       " 'CCCCCCCCCCCCCCCCOP(=O)([O-])OCC[N+](C)(C)C',\n",
       " 'CN(CC(=O)N)C(=O)N(CCCl)N=O',\n",
       " 'C(CCl)NP(=O)(NCCCl)O',\n",
       " 'C(C=[Se])C(C(=O)O)N',\n",
       " 'C(CC(=O)O)C(=O)CN',\n",
       " 'CCCCCCCCCCCCCCCCC(C[N+](C)(C)C)OP(=O)(O)[O-]',\n",
       " 'CC(COCCO)OCCO',\n",
       " 'C(C(CO[N+](=O)O)O[N+](=O)O)O[N+](=O)O',\n",
       " 'CCC(C)C(C(=NC(C(C)O)C(=NC(C(C)O)C(=NC(CCCCN)C(=NC(CC(=O)O)C(=NC(CC(C)C)C(=NC(CCCCN)C(=NC(CCC(=O)O)C(=NC(CCCCN)C(=NC(CCCCN)C(=NC(CCC(=O)O)C(=NC(C(C)C)C(=NC(C(C)C)C(=NC(CCC(=O)O)C(=NC(CCC(=O)O)C(=NC(C)C(=NC(CCC(=O)O)C(=NC(CC(=N)O)C(=O)O)O)O)O)O)O)O)O)O)O)O)O)O)O)O)O)O)O)N=C(C(CCC(=O)O)N=C(C(CO)N=C(C(CO)N=C(C(C(C)O)N=C(C(CC(=O)O)N=C(C(C(C)C)N=C(C(C)N=C(C(C)N=C(C(CC(=O)O)N=C(C(CO)N=C(C)O)O)O)O)O)O)O)O)O)O)O',\n",
       " 'C(OC(C(F)(F)F)C(F)(F)F)F',\n",
       " 'CC(=O)NC(C(=O)O)C(C)(C)S[N+](=O)O',\n",
       " 'C[S+](C)CCC(C(=O)[O-])N',\n",
       " 'C(C=O)C(C(C(CO)O)O)O',\n",
       " 'C=CC(CCC(=O)O)N',\n",
       " 'CCCN(CCC[NH3+])N(N=O)[O-]',\n",
       " 'II',\n",
       " 'II',\n",
       " 'C(CCN(CCC[NH3+])N(N=O)O)CNCCC[NH3+]',\n",
       " 'C(CC(C(=O)NCC(=O)NC(CC(=O)O)[C]=O)NC(=O)CN)CN=C(N)N',\n",
       " 'C(C(=O)O)C(CC(=O)O)(C(=O)O)O',\n",
       " 'CCCC[CH]OCC(CO)O',\n",
       " 'CCCC(C(C)CC)O',\n",
       " 'CCCO',\n",
       " 'CC(N(C)C)O',\n",
       " 'C=CCSCC(C(=O)O)N',\n",
       " 'C(C(=O)O)C(CC(=O)O)(C(=O)O)O',\n",
       " 'C(C(F)(F)F)F',\n",
       " 'CN=C=O',\n",
       " 'CN=C=O',\n",
       " 'C(C=O)C(C(C(CO)O)O)O',\n",
       " 'CCOC(=O)CCC(C(=O)OCC)N',\n",
       " 'C=CC(CCC(=O)O)N',\n",
       " 'CC(=NN=C(N)N)C=NN=C(N)N',\n",
       " 'CCOC(=S)SSC(=S)OCC',\n",
       " 'C(CC(=O)NC(CSN=O)C(=O)NCC(=O)O)C(C(=O)O)N',\n",
       " 'CCCCC(=O)CCCC',\n",
       " 'C(CC(=O)O)CO',\n",
       " 'CS(=O)CCCCN=C=S',\n",
       " 'CCCCCCCCCCCCCC=CC(C(CO)NC(=O)C)O',\n",
       " 'C(C(F)(F)F)F',\n",
       " 'CCCC=CC=O',\n",
       " 'C(CCl)SCCCl',\n",
       " 'CCCC=CC=O',\n",
       " 'C(CC(=O)O)C(=O)CN',\n",
       " 'CCOC(=O)CCC(C(=O)OCC)N',\n",
       " 'CCOP(=O)(C(C)NC(=O)N(CCCl)N=O)OCC',\n",
       " 'C(CC(C(=O)NCC(=O)NC(CC(=O)O)C(=O)O)N)CN=C(N)N',\n",
       " 'C(CC(=O)NC(CSN=O)C(=O)NCC(=O)O)C(C(=O)O)N',\n",
       " 'CN=C=O',\n",
       " 'CCCC(=CCC)C(=O)O',\n",
       " 'C(C(C(C(C(F)(F)I)(F)F)(F)F)(F)F)(C(C(C(F)(F)F)(F)F)(F)F)(F)F',\n",
       " 'CC(=CC(C(=O)O)N)CP(=O)(O)O',\n",
       " 'CCCCCC=CCC(C=CC=CCC=CCCCC(=O)O)OO',\n",
       " 'C(OC(=C(F)F)C(F)(F)F)F',\n",
       " 'CCCCCCCCCCCCCCCCCCOCC(COP(=O)([O-])OCC[N+](C)(C)C)OC(=O)C',\n",
       " 'CS(=O)CCCCN=C=S',\n",
       " 'C(CCl)NP(=O)(NCCCl)O',\n",
       " 'C(CC(=O)O)C(=O)CN',\n",
       " 'CCNCCCNCCCNCCCNCC',\n",
       " 'C(CC(=O)O)C(=O)CN',\n",
       " 'CCCCCCCCCCCCCC=CC(C(CO)NC(=O)C)O',\n",
       " 'CN(C)CCO',\n",
       " 'CC(C)CCCCCCCCCCCC(C(C(COC(=O)C)NC(=O)C)O)OC(=O)C',\n",
       " 'C(CC(=O)O)C(=O)CN',\n",
       " 'C(C(C(C(C(C(=O)O)O)O)O)O)O',\n",
       " 'C(CCl)SCCCl',\n",
       " 'CCOC(C)C(=O)C=O',\n",
       " 'C(C(C(C(C(=O)CO)O)O)O)O',\n",
       " 'CCOC(=O)CCC(C(=O)OCC)N',\n",
       " 'CCCCCCCCCCCCCC=CC(C(CO)NC(=O)C)O',\n",
       " 'CCC(=O)OC(CC(=O)[O-])C[N+](C)(C)C',\n",
       " 'CCC(=O)OC(CC(=O)O)C[N+](C)(C)C',\n",
       " 'CCN(CC)N(N=O)[O-]',\n",
       " 'C(CC(C(=O)NCC(=O)NC(CC(=O)O)C(=O)NC(CO)C(=O)O)N)CN=C(N)N',\n",
       " 'CCOC(=O)C(C=C(C)CP(=O)(O)O)N',\n",
       " 'CCC=CC=CC=CC=CCCCCCCCC(=O)O',\n",
       " 'C(C(C(=O)O)N)SCC(=O)O',\n",
       " 'C(CS(=O)(=O)O)NCl',\n",
       " 'C(CSN=O)O',\n",
       " 'CC(C(=O)N)NC(=O)N(CCCl)N=O',\n",
       " 'CCCCCCCCCCCCCCCCOCC(COP(=O)([O-])OCC[N+](C)(C)C)OC(=O)C',\n",
       " 'CCCCCCCCCCCCCCCCOCC(COP(=O)(O)OCC[N+](C)(C)C)OC(=O)C',\n",
       " 'C(C=O)C(C(C(CO)O)O)O',\n",
       " '[O-]S(=O)(=S)[O-]',\n",
       " 'C[N+](C)(C)CCO',\n",
       " 'C(C(F)(F)F)F',\n",
       " 'CCOC',\n",
       " 'CC(=CCCC(=CC=CC(=CC=CC(=CC=CC=C(C)C=CC=C(C)C=CC=C(C)CCC=C(C)C)C)C)C)C']"
      ]
     },
     "execution_count": 136,
     "metadata": {},
     "output_type": "execute_result"
    }
   ],
   "source": [
    "smiles[i:i+n]"
   ]
  },
  {
   "cell_type": "code",
   "execution_count": null,
   "metadata": {
    "collapsed": true
   },
   "outputs": [],
   "source": []
  },
  {
   "cell_type": "code",
   "execution_count": null,
   "metadata": {
    "collapsed": true
   },
   "outputs": [],
   "source": []
  },
  {
   "cell_type": "code",
   "execution_count": null,
   "metadata": {
    "collapsed": true
   },
   "outputs": [],
   "source": [
    "losses = []"
   ]
  },
  {
   "cell_type": "code",
   "execution_count": null,
   "metadata": {
    "scrolled": true
   },
   "outputs": [],
   "source": [
    "for j in range(100):\n",
    "    for i in range(0, 1):\n",
    "        #print(i)\n",
    "        %time loss = mpnn.make_opt_step_batched(train_smiles[i:i+100], train_labels[i:i+100], 4)\n",
    "        losses.append(loss)\n",
    "    print(j)"
   ]
  },
  {
   "cell_type": "code",
   "execution_count": null,
   "metadata": {
    "collapsed": true
   },
   "outputs": [],
   "source": [
    "plt.plot(rolling_mean(losses, 100))"
   ]
  },
  {
   "cell_type": "code",
   "execution_count": null,
   "metadata": {
    "collapsed": true
   },
   "outputs": [],
   "source": [
    "res = []\n",
    "for i in range(100):\n",
    "    res.append(forward_pass(mpnn, train_smiles[i], passes).data[0][0])"
   ]
  },
  {
   "cell_type": "code",
   "execution_count": null,
   "metadata": {
    "collapsed": true
   },
   "outputs": [],
   "source": [
    "plt.hist(res)"
   ]
  },
  {
   "cell_type": "code",
   "execution_count": null,
   "metadata": {
    "collapsed": true
   },
   "outputs": [],
   "source": [
    "def forward_pass(self, x, t):\n",
    "    g, h = self.get_features_from_smiles(x)\n",
    "    g2, h2 = self.get_features_from_smiles(x)\n",
    "#     for k, v in h.items():\n",
    "#         print(v.data.numpy())\n",
    "    for k in range(0, t):\n",
    "        self.single_message_pass(g, h, k)\n",
    "#         print('*'*33)\n",
    "#         print(h[0])\n",
    "    y_pred = self.R(h, h2)\n",
    "    return y_pred"
   ]
  },
  {
   "cell_type": "code",
   "execution_count": null,
   "metadata": {
    "collapsed": true
   },
   "outputs": [],
   "source": [
    "g, h = mpnn.get_features_from_smiles(train_smiles[10])"
   ]
  },
  {
   "cell_type": "code",
   "execution_count": null,
   "metadata": {
    "collapsed": true
   },
   "outputs": [],
   "source": [
    "np.array(losses[-50:]).mean()"
   ]
  },
  {
   "cell_type": "code",
   "execution_count": null,
   "metadata": {
    "collapsed": true
   },
   "outputs": [],
   "source": [
    "np.array(train_labels[:100]).mean()"
   ]
  },
  {
   "cell_type": "code",
   "execution_count": null,
   "metadata": {
    "collapsed": true,
    "scrolled": true
   },
   "outputs": [],
   "source": [
    "for i in range(50):\n",
    "    print(i, int(train_labels[i]), int(res[i]))"
   ]
  },
  {
   "cell_type": "code",
   "execution_count": null,
   "metadata": {
    "collapsed": true
   },
   "outputs": [],
   "source": [
    "r = (np.array(res) > 0.5).astype(int)"
   ]
  },
  {
   "cell_type": "code",
   "execution_count": null,
   "metadata": {
    "collapsed": true,
    "scrolled": true
   },
   "outputs": [],
   "source": []
  },
  {
   "cell_type": "code",
   "execution_count": null,
   "metadata": {
    "collapsed": true
   },
   "outputs": [],
   "source": []
  },
  {
   "cell_type": "markdown",
   "metadata": {},
   "source": [
    "## 2. Undirected models"
   ]
  },
  {
   "cell_type": "code",
   "execution_count": null,
   "metadata": {
    "collapsed": true
   },
   "outputs": [],
   "source": []
  },
  {
   "cell_type": "code",
   "execution_count": null,
   "metadata": {
    "collapsed": true
   },
   "outputs": [],
   "source": []
  },
  {
   "cell_type": "code",
   "execution_count": null,
   "metadata": {
    "collapsed": true
   },
   "outputs": [],
   "source": [
    "for p in mpnn.params:\n",
    "    print(p.requires_grad)"
   ]
  },
  {
   "cell_type": "code",
   "execution_count": null,
   "metadata": {
    "collapsed": true
   },
   "outputs": [],
   "source": [
    "mpnn.params[-2]"
   ]
  },
  {
   "cell_type": "code",
   "execution_count": null,
   "metadata": {
    "collapsed": true
   },
   "outputs": [],
   "source": [
    "for p in mpnn.params:\n",
    "    print(p.data.size())"
   ]
  }
 ],
 "metadata": {
  "kernelspec": {
   "display_name": "Python 3",
   "language": "python",
   "name": "python3"
  },
  "language_info": {
   "codemirror_mode": {
    "name": "ipython",
    "version": 3
   },
   "file_extension": ".py",
   "mimetype": "text/x-python",
   "name": "python",
   "nbconvert_exporter": "python",
   "pygments_lexer": "ipython3",
   "version": "3.6.3"
  }
 },
 "nbformat": 4,
 "nbformat_minor": 2
}
